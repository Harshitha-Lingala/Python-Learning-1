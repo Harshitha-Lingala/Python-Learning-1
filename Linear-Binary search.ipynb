{
 "cells": [
  {
   "cell_type": "markdown",
   "id": "940398d3",
   "metadata": {},
   "source": [
    "# Linear Search\n"
   ]
  },
  {
   "cell_type": "code",
   "execution_count": null,
   "id": "3b9ff8bf",
   "metadata": {},
   "outputs": [],
   "source": [
    "def search(list,n):\n",
    "    for i in range((len(list)-1)):\n",
    "        if list[i]==n:\n",
    "            print('found at position: ',i+1)\n",
    "            break\n",
    "    else:\n",
    "        print('not in the list')"
   ]
  },
  {
   "cell_type": "code",
   "execution_count": null,
   "id": "0994e09e",
   "metadata": {},
   "outputs": [],
   "source": [
    "search([2,3,6,8,9],6)"
   ]
  },
  {
   "cell_type": "code",
   "execution_count": null,
   "id": "fa59d05d",
   "metadata": {},
   "outputs": [],
   "source": [
    "\n",
    "if 9 in [1,2,39,9]:\n",
    "        print('found')\n",
    "else:\n",
    "        print('not in the list')"
   ]
  },
  {
   "cell_type": "code",
   "execution_count": null,
   "id": "7b6749aa",
   "metadata": {},
   "outputs": [],
   "source": [
    "def search(list,n):\n",
    "    i=0\n",
    "    while i<len(list):\n",
    "        if list[i]==n:\n",
    "            print('found at position: ',i+1)\n",
    "            break\n",
    "        i+=1\n",
    "        \n",
    "    else:\n",
    "        print('not in the list')"
   ]
  },
  {
   "cell_type": "code",
   "execution_count": null,
   "id": "f23ab593",
   "metadata": {},
   "outputs": [],
   "source": [
    "search([2,3,6,8,9],6)"
   ]
  },
  {
   "cell_type": "code",
   "execution_count": null,
   "id": "0c0c196d",
   "metadata": {},
   "outputs": [],
   "source": [
    "p=-1\n",
    "def search1(list,n):\n",
    "    i=0\n",
    "    while i<len(list):\n",
    "        if list[i]==n:\n",
    "            #gloabls()['p']=i\n",
    "            return True\n",
    "        i+=1\n",
    "        \n",
    "    return False"
   ]
  },
  {
   "cell_type": "code",
   "execution_count": null,
   "id": "ea846057",
   "metadata": {},
   "outputs": [],
   "source": [
    "list=[12,3,5,6],\n",
    "n=12\n",
    "if search1(list, n):\n",
    "    print('found at position: ')\n",
    "else:\n",
    "    print('not found')"
   ]
  },
  {
   "cell_type": "code",
   "execution_count": null,
   "id": "8c205924",
   "metadata": {},
   "outputs": [],
   "source": [
    "search1([12,3,6,8,9],12)"
   ]
  },
  {
   "cell_type": "code",
   "execution_count": null,
   "id": "191f93ba",
   "metadata": {},
   "outputs": [],
   "source": []
  },
  {
   "cell_type": "code",
   "execution_count": null,
   "id": "0776eb58",
   "metadata": {},
   "outputs": [],
   "source": [
    "#binary search"
   ]
  },
  {
   "cell_type": "code",
   "execution_count": 11,
   "id": "ead76e5a",
   "metadata": {},
   "outputs": [],
   "source": [
    "def bin_search(list,n):\n",
    "    l=0\n",
    "    u=len(list)-1\n",
    "    while l<=u:\n",
    "        mid=(l+u)//2\n",
    "        \n",
    "      \n",
    "        if list[mid]==n:\n",
    "            print('found at position: ',mid+1)\n",
    "            break\n",
    "        elif list[mid]<n:\n",
    "            l=mid+1   ### anyway you did not find n at mid sp check for mid+1\n",
    "        else:\n",
    "            u=mid-1\n",
    "    else:\n",
    "        return False\n",
    "            \n",
    "        "
   ]
  },
  {
   "cell_type": "code",
   "execution_count": 12,
   "id": "ba39193b",
   "metadata": {},
   "outputs": [
    {
     "data": {
      "text/plain": [
       "False"
      ]
     },
     "execution_count": 12,
     "metadata": {},
     "output_type": "execute_result"
    }
   ],
   "source": [
    "bin_search([1,2,3,4,5,6,7,8],56)"
   ]
  },
  {
   "cell_type": "code",
   "execution_count": 16,
   "id": "6d5b2a4c",
   "metadata": {},
   "outputs": [
    {
     "data": {
      "text/plain": [
       "2"
      ]
     },
     "execution_count": 16,
     "metadata": {},
     "output_type": "execute_result"
    }
   ],
   "source": [
    "int(5/2) or 5//2"
   ]
  },
  {
   "cell_type": "code",
   "execution_count": null,
   "id": "0572b952",
   "metadata": {},
   "outputs": [],
   "source": []
  },
  {
   "cell_type": "markdown",
   "id": "c2b02927",
   "metadata": {},
   "source": [
    "# bubble sorting"
   ]
  },
  {
   "cell_type": "code",
   "execution_count": 32,
   "id": "3520ad6d",
   "metadata": {},
   "outputs": [
    {
     "name": "stdout",
     "output_type": "stream",
     "text": [
      "[0, 1, 1, 2, 3, 3, 5, 6, 6, 6, 10]\n"
     ]
    }
   ],
   "source": [
    "l=[1,6,6,5,10,3,6,3,1,2,0]\n",
    "n=0\n",
    "\n",
    "while n<len(l):\n",
    "  \n",
    "    for i in range(len(l)-1):\n",
    "\n",
    "        if l[i]<=l[i+1]:\n",
    "            pass\n",
    "        elif l[i]>l[i+1]:\n",
    "            l[i],l[i+1]=l[i+1],l[i]\n",
    "    n+=1\n",
    "    \n",
    "print(l)   "
   ]
  },
  {
   "cell_type": "code",
   "execution_count": 42,
   "id": "0ce658af",
   "metadata": {},
   "outputs": [],
   "source": [
    "#did not undestnd \n",
    "def sort(nums):\n",
    "    for i in range(len(nums)-1,0,1):\n",
    "        for j in range(i):\n",
    "            if nums[j]>nums[j+1]:\n",
    "                print(nums[j],nums[j+1])\n",
    "                temp=nums[j]\n",
    "                nums[j]=nums[j+1]\n",
    "                nums[j+1]=temp\n",
    "\n",
    "                    \n",
    "                            "
   ]
  },
  {
   "cell_type": "code",
   "execution_count": 43,
   "id": "1d491dbb",
   "metadata": {},
   "outputs": [],
   "source": [
    "nums=[5,3,8,6,7,2]\n",
    "sort(nums)\n"
   ]
  },
  {
   "cell_type": "code",
   "execution_count": 44,
   "id": "84ff8b0a",
   "metadata": {},
   "outputs": [],
   "source": [
    "#selction sort"
   ]
  },
  {
   "cell_type": "code",
   "execution_count": 59,
   "id": "94725da8",
   "metadata": {},
   "outputs": [
    {
     "name": "stdout",
     "output_type": "stream",
     "text": [
      "[1, 6, 5, 6, 3, 6, 3, 1, 2, 0, 10]\n",
      "[1, 5, 6, 3, 6, 3, 1, 2, 0, 6, 10]\n",
      "[1, 5, 3, 6, 3, 1, 2, 0, 6, 6, 10]\n",
      "[1, 3, 5, 3, 1, 2, 0, 6, 6, 6, 10]\n",
      "[1, 3, 3, 1, 2, 0, 5, 6, 6, 6, 10]\n",
      "[1, 3, 1, 2, 0, 3, 5, 6, 6, 6, 10]\n",
      "[1, 1, 2, 0, 3, 3, 5, 6, 6, 6, 10]\n",
      "[1, 1, 0, 2, 3, 3, 5, 6, 6, 6, 10]\n",
      "[1, 0, 1, 2, 3, 3, 5, 6, 6, 6, 10]\n",
      "[0, 1, 1, 2, 3, 3, 5, 6, 6, 6, 10]\n",
      "[0, 1, 1, 2, 3, 3, 5, 6, 6, 6, 10]\n"
     ]
    }
   ],
   "source": [
    "# wrong it is bubble sort \n",
    "\"\"\"\n",
    "l=[1,6,6,5,10,3,6,3,1,2,0]\n",
    "n=0\n",
    "while n<len(l):\n",
    "    for i in range(len(l)-1):\n",
    "        min=l[i]\n",
    "        if l[i+1]<min:       \n",
    "            l[i],l[i+1]=l[i+1],l[i]\n",
    "            \n",
    "        else:\n",
    "            pass\n",
    "    n+=1\n",
    "    print(l)\n",
    "\"\"\"   "
   ]
  },
  {
   "cell_type": "code",
   "execution_count": 71,
   "id": "c0a6d80e",
   "metadata": {},
   "outputs": [],
   "source": [
    "def selection_sort(l):\n",
    "    \n",
    "    for i in range(len(l)-1):\n",
    "        minpos=i\n",
    "        \n",
    "        for j in range(i,len(l)):\n",
    "            if l[j]<l[minpos]:\n",
    "                minpos=j      #not swapping values - bubble sort: just finding the min pos first\n",
    "                \n",
    "        l[i],l[minpos]=l[minpos],l[i]\n",
    "        print(l)"
   ]
  },
  {
   "cell_type": "code",
   "execution_count": 72,
   "id": "6b1f2c96",
   "metadata": {},
   "outputs": [
    {
     "name": "stdout",
     "output_type": "stream",
     "text": [
      "[0, 6, 5, 6, 3, 6, 3, 1, 2, 1, 10]\n",
      "[0, 1, 5, 6, 3, 6, 3, 6, 2, 1, 10]\n",
      "[0, 1, 1, 6, 3, 6, 3, 6, 2, 5, 10]\n",
      "[0, 1, 1, 2, 3, 6, 3, 6, 6, 5, 10]\n",
      "[0, 1, 1, 2, 3, 6, 3, 6, 6, 5, 10]\n",
      "[0, 1, 1, 2, 3, 3, 6, 6, 6, 5, 10]\n",
      "[0, 1, 1, 2, 3, 3, 5, 6, 6, 6, 10]\n",
      "[0, 1, 1, 2, 3, 3, 5, 6, 6, 6, 10]\n",
      "[0, 1, 1, 2, 3, 3, 5, 6, 6, 6, 10]\n",
      "[0, 1, 1, 2, 3, 3, 5, 6, 6, 6, 10]\n"
     ]
    }
   ],
   "source": [
    "l=[1, 6, 5, 6, 3, 6, 3, 1, 2, 0, 10]\n",
    "selection_sort(l)"
   ]
  },
  {
   "cell_type": "code",
   "execution_count": null,
   "id": "517c001f",
   "metadata": {},
   "outputs": [],
   "source": []
  }
 ],
 "metadata": {
  "kernelspec": {
   "display_name": "Python 3 (ipykernel)",
   "language": "python",
   "name": "python3"
  },
  "language_info": {
   "codemirror_mode": {
    "name": "ipython",
    "version": 3
   },
   "file_extension": ".py",
   "mimetype": "text/x-python",
   "name": "python",
   "nbconvert_exporter": "python",
   "pygments_lexer": "ipython3",
   "version": "3.10.9"
  }
 },
 "nbformat": 4,
 "nbformat_minor": 5
}
