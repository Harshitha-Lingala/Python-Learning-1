{
 "cells": [
  {
   "cell_type": "code",
   "execution_count": 1,
   "id": "5ec2d09e",
   "metadata": {},
   "outputs": [],
   "source": [
    "# change int to float, float ot int \n",
    "\n",
    "a=9.4\n",
    "b=int(a)"
   ]
  },
  {
   "cell_type": "code",
   "execution_count": 2,
   "id": "4cc68ddd",
   "metadata": {},
   "outputs": [
    {
     "data": {
      "text/plain": [
       "9"
      ]
     },
     "execution_count": 2,
     "metadata": {},
     "output_type": "execute_result"
    }
   ],
   "source": [
    "b\n"
   ]
  },
  {
   "cell_type": "code",
   "execution_count": 3,
   "id": "068c7338",
   "metadata": {},
   "outputs": [],
   "source": [
    "c=float(b)"
   ]
  },
  {
   "cell_type": "code",
   "execution_count": 4,
   "id": "f87a4841",
   "metadata": {},
   "outputs": [
    {
     "data": {
      "text/plain": [
       "9.0"
      ]
     },
     "execution_count": 4,
     "metadata": {},
     "output_type": "execute_result"
    }
   ],
   "source": [
    "c"
   ]
  },
  {
   "cell_type": "code",
   "execution_count": 5,
   "id": "9601caa7",
   "metadata": {},
   "outputs": [
    {
     "data": {
      "text/plain": [
       "(9+9.4j)"
      ]
     },
     "execution_count": 5,
     "metadata": {},
     "output_type": "execute_result"
    }
   ],
   "source": [
    "d=complex(b,a)\n",
    "d"
   ]
  },
  {
   "cell_type": "code",
   "execution_count": 6,
   "id": "dc3daad0",
   "metadata": {},
   "outputs": [
    {
     "data": {
      "text/plain": [
       "1"
      ]
     },
     "execution_count": 6,
     "metadata": {},
     "output_type": "execute_result"
    }
   ],
   "source": [
    "int(True)"
   ]
  },
  {
   "cell_type": "code",
   "execution_count": 7,
   "id": "cf6045d2",
   "metadata": {},
   "outputs": [
    {
     "data": {
      "text/plain": [
       "0"
      ]
     },
     "execution_count": 7,
     "metadata": {},
     "output_type": "execute_result"
    }
   ],
   "source": [
    "int(False)"
   ]
  },
  {
   "cell_type": "code",
   "execution_count": null,
   "id": "cad62fdd",
   "metadata": {},
   "outputs": [],
   "source": []
  },
  {
   "cell_type": "code",
   "execution_count": 8,
   "id": "710ecdbc",
   "metadata": {},
   "outputs": [],
   "source": [
    "#dictionaries"
   ]
  },
  {
   "cell_type": "code",
   "execution_count": 9,
   "id": "de16d307",
   "metadata": {},
   "outputs": [],
   "source": [
    "keys=[1,2]\n",
    "values=['a','b']"
   ]
  },
  {
   "cell_type": "code",
   "execution_count": 10,
   "id": "a4f24a27",
   "metadata": {},
   "outputs": [
    {
     "data": {
      "text/plain": [
       "{1: 'a', 2: 'b'}"
      ]
     },
     "execution_count": 10,
     "metadata": {},
     "output_type": "execute_result"
    }
   ],
   "source": [
    "d=dict(zip(keys,values))\n",
    "d"
   ]
  },
  {
   "cell_type": "code",
   "execution_count": 11,
   "id": "f4f65568",
   "metadata": {},
   "outputs": [
    {
     "data": {
      "text/plain": [
       "{1: 'a', 2: 'b', 3: 'c'}"
      ]
     },
     "execution_count": 11,
     "metadata": {},
     "output_type": "execute_result"
    }
   ],
   "source": [
    "d[3]='c'\n",
    "d"
   ]
  },
  {
   "cell_type": "code",
   "execution_count": 12,
   "id": "864deb7a",
   "metadata": {},
   "outputs": [
    {
     "data": {
      "text/plain": [
       "{1: 'a', 3: 'c'}"
      ]
     },
     "execution_count": 12,
     "metadata": {},
     "output_type": "execute_result"
    }
   ],
   "source": [
    "del d[2]\n",
    "d\n"
   ]
  },
  {
   "cell_type": "code",
   "execution_count": 13,
   "id": "c55dd8f5",
   "metadata": {},
   "outputs": [
    {
     "data": {
      "text/plain": [
       "'a'"
      ]
     },
     "execution_count": 13,
     "metadata": {},
     "output_type": "execute_result"
    }
   ],
   "source": [
    "d.get(1)"
   ]
  },
  {
   "cell_type": "code",
   "execution_count": 14,
   "id": "22db6fc4",
   "metadata": {},
   "outputs": [],
   "source": [
    "d.get(2)"
   ]
  },
  {
   "cell_type": "code",
   "execution_count": 15,
   "id": "baa068da",
   "metadata": {},
   "outputs": [
    {
     "data": {
      "text/plain": [
       "'a'"
      ]
     },
     "execution_count": 15,
     "metadata": {},
     "output_type": "execute_result"
    }
   ],
   "source": [
    "d.get(1,'not found')"
   ]
  },
  {
   "cell_type": "code",
   "execution_count": 16,
   "id": "1f37a6e4",
   "metadata": {},
   "outputs": [
    {
     "data": {
      "text/plain": [
       "'not found'"
      ]
     },
     "execution_count": 16,
     "metadata": {},
     "output_type": "execute_result"
    }
   ],
   "source": [
    "d.get(2,'not found')"
   ]
  },
  {
   "cell_type": "code",
   "execution_count": 17,
   "id": "cd9f3050",
   "metadata": {},
   "outputs": [],
   "source": [
    "#sets\n",
    "\n",
    "s={23,45,23,675,5}"
   ]
  },
  {
   "cell_type": "code",
   "execution_count": 18,
   "id": "5f04af21",
   "metadata": {},
   "outputs": [
    {
     "data": {
      "text/plain": [
       "{5, 23, 45, 675}"
      ]
     },
     "execution_count": 18,
     "metadata": {},
     "output_type": "execute_result"
    }
   ],
   "source": [
    "s"
   ]
  },
  {
   "cell_type": "code",
   "execution_count": 19,
   "id": "958c7d1b",
   "metadata": {},
   "outputs": [
    {
     "data": {
      "text/plain": [
       "[0, 2, 4, 6, 8]"
      ]
     },
     "execution_count": 19,
     "metadata": {},
     "output_type": "execute_result"
    }
   ],
   "source": [
    "list(range(0,10,2))"
   ]
  },
  {
   "cell_type": "code",
   "execution_count": 20,
   "id": "d8947ea2",
   "metadata": {},
   "outputs": [
    {
     "data": {
      "text/plain": [
       "list"
      ]
     },
     "execution_count": 20,
     "metadata": {},
     "output_type": "execute_result"
    }
   ],
   "source": [
    "type(list(range(0,10)))"
   ]
  },
  {
   "cell_type": "code",
   "execution_count": 21,
   "id": "423711b3",
   "metadata": {},
   "outputs": [
    {
     "data": {
      "text/plain": [
       "range"
      ]
     },
     "execution_count": 21,
     "metadata": {},
     "output_type": "execute_result"
    }
   ],
   "source": [
    "type((range(0,10)))"
   ]
  },
  {
   "cell_type": "code",
   "execution_count": 22,
   "id": "1dbfab37",
   "metadata": {},
   "outputs": [
    {
     "data": {
      "text/plain": [
       "5"
      ]
     },
     "execution_count": 22,
     "metadata": {},
     "output_type": "execute_result"
    }
   ],
   "source": [
    "#assigning\n",
    "\n",
    "a,b=5,6\n",
    "a"
   ]
  },
  {
   "cell_type": "code",
   "execution_count": 23,
   "id": "77f7f791",
   "metadata": {},
   "outputs": [
    {
     "data": {
      "text/plain": [
       "-5"
      ]
     },
     "execution_count": 23,
     "metadata": {},
     "output_type": "execute_result"
    }
   ],
   "source": [
    "-a"
   ]
  },
  {
   "cell_type": "code",
   "execution_count": 24,
   "id": "da022438",
   "metadata": {},
   "outputs": [
    {
     "data": {
      "text/plain": [
       "5"
      ]
     },
     "execution_count": 24,
     "metadata": {},
     "output_type": "execute_result"
    }
   ],
   "source": [
    "a"
   ]
  },
  {
   "cell_type": "code",
   "execution_count": 25,
   "id": "ea810162",
   "metadata": {},
   "outputs": [
    {
     "data": {
      "text/plain": [
       "-5"
      ]
     },
     "execution_count": 25,
     "metadata": {},
     "output_type": "execute_result"
    }
   ],
   "source": [
    "a=-a\n",
    "a"
   ]
  },
  {
   "cell_type": "code",
   "execution_count": 26,
   "id": "a2efbc7e",
   "metadata": {},
   "outputs": [],
   "source": [
    "# number conversions - binary,octal,hexa octal\n"
   ]
  },
  {
   "cell_type": "code",
   "execution_count": 27,
   "id": "0726a40e",
   "metadata": {},
   "outputs": [
    {
     "data": {
      "text/plain": [
       "'0b11001'"
      ]
     },
     "execution_count": 27,
     "metadata": {},
     "output_type": "execute_result"
    }
   ],
   "source": [
    "bin(25)"
   ]
  },
  {
   "cell_type": "code",
   "execution_count": 28,
   "id": "edf9302c",
   "metadata": {},
   "outputs": [
    {
     "data": {
      "text/plain": [
       "'0o31'"
      ]
     },
     "execution_count": 28,
     "metadata": {},
     "output_type": "execute_result"
    }
   ],
   "source": [
    "oct(25)"
   ]
  },
  {
   "cell_type": "code",
   "execution_count": 29,
   "id": "57921022",
   "metadata": {},
   "outputs": [
    {
     "data": {
      "text/plain": [
       "'0x19'"
      ]
     },
     "execution_count": 29,
     "metadata": {},
     "output_type": "execute_result"
    }
   ],
   "source": [
    "hex(25)"
   ]
  },
  {
   "cell_type": "code",
   "execution_count": 30,
   "id": "096e8c1d",
   "metadata": {},
   "outputs": [
    {
     "data": {
      "text/plain": [
       "'0xa'"
      ]
     },
     "execution_count": 30,
     "metadata": {},
     "output_type": "execute_result"
    }
   ],
   "source": [
    "hex(10)"
   ]
  },
  {
   "cell_type": "code",
   "execution_count": 31,
   "id": "96a53317",
   "metadata": {},
   "outputs": [
    {
     "data": {
      "text/plain": [
       "15"
      ]
     },
     "execution_count": 31,
     "metadata": {},
     "output_type": "execute_result"
    }
   ],
   "source": [
    "0xf"
   ]
  },
  {
   "cell_type": "code",
   "execution_count": 32,
   "id": "7cd7966e",
   "metadata": {},
   "outputs": [
    {
     "data": {
      "text/plain": [
       "13"
      ]
     },
     "execution_count": 32,
     "metadata": {},
     "output_type": "execute_result"
    }
   ],
   "source": [
    "0b1101"
   ]
  },
  {
   "cell_type": "code",
   "execution_count": 33,
   "id": "dd7cf3c6",
   "metadata": {},
   "outputs": [],
   "source": [
    "# swap two variables"
   ]
  },
  {
   "cell_type": "code",
   "execution_count": 34,
   "id": "10a444c2",
   "metadata": {},
   "outputs": [
    {
     "data": {
      "text/plain": [
       "(6, 6)"
      ]
     },
     "execution_count": 34,
     "metadata": {},
     "output_type": "execute_result"
    }
   ],
   "source": [
    "a=5\n",
    "b=6\n",
    "a=b\n",
    "b=a   #wrong\n",
    "a,b"
   ]
  },
  {
   "cell_type": "code",
   "execution_count": 35,
   "id": "55be56db",
   "metadata": {},
   "outputs": [
    {
     "data": {
      "text/plain": [
       "(6, 5)"
      ]
     },
     "execution_count": 35,
     "metadata": {},
     "output_type": "execute_result"
    }
   ],
   "source": [
    "a=5\n",
    "b=6\n",
    "temp=a\n",
    "a=b\n",
    "b=temp\n",
    "a,b"
   ]
  },
  {
   "cell_type": "code",
   "execution_count": 36,
   "id": "40a0658f",
   "metadata": {},
   "outputs": [
    {
     "data": {
      "text/plain": [
       "(6, 5)"
      ]
     },
     "execution_count": 36,
     "metadata": {},
     "output_type": "execute_result"
    }
   ],
   "source": [
    "a,b=5,6\n",
    "a=a+b\n",
    "b=a-b\n",
    "a=a-b\n",
    "a,b"
   ]
  },
  {
   "cell_type": "code",
   "execution_count": 37,
   "id": "55b56015",
   "metadata": {},
   "outputs": [
    {
     "ename": "NameError",
     "evalue": "name 'XOR' is not defined",
     "output_type": "error",
     "traceback": [
      "\u001b[0;31m---------------------------------------------------------------------------\u001b[0m",
      "\u001b[0;31mNameError\u001b[0m                                 Traceback (most recent call last)",
      "Cell \u001b[0;32mIn[37], line 1\u001b[0m\n\u001b[0;32m----> 1\u001b[0m \u001b[43mXOR\u001b[49m\n",
      "\u001b[0;31mNameError\u001b[0m: name 'XOR' is not defined"
     ]
    }
   ],
   "source": [
    "XOR"
   ]
  },
  {
   "cell_type": "code",
   "execution_count": null,
   "id": "e97301db",
   "metadata": {},
   "outputs": [],
   "source": [
    "a,b=5,6\n",
    "a,b=b,a  # beauty of python \n",
    "a,b"
   ]
  },
  {
   "cell_type": "code",
   "execution_count": null,
   "id": "82c6fc66",
   "metadata": {},
   "outputs": [],
   "source": [
    "a,b=5,6\n",
    "a=a^b\n",
    "b=a^b\n",
    "a,b"
   ]
  },
  {
   "cell_type": "code",
   "execution_count": null,
   "id": "7a43ce78",
   "metadata": {},
   "outputs": [],
   "source": []
  },
  {
   "cell_type": "code",
   "execution_count": null,
   "id": "e300ff83",
   "metadata": {},
   "outputs": [],
   "source": [
    "~12"
   ]
  },
  {
   "cell_type": "code",
   "execution_count": null,
   "id": "11f93dac",
   "metadata": {},
   "outputs": [],
   "source": [
    "\n",
    "# mathematical operators"
   ]
  },
  {
   "cell_type": "code",
   "execution_count": null,
   "id": "48bd50be",
   "metadata": {},
   "outputs": [],
   "source": [
    "import math\n"
   ]
  },
  {
   "cell_type": "code",
   "execution_count": null,
   "id": "fd197a2b",
   "metadata": {},
   "outputs": [],
   "source": [
    "math.sqrt(25)"
   ]
  },
  {
   "cell_type": "code",
   "execution_count": null,
   "id": "033c787e",
   "metadata": {},
   "outputs": [],
   "source": [
    "math.ceil(2.3)"
   ]
  },
  {
   "cell_type": "code",
   "execution_count": null,
   "id": "3366e68b",
   "metadata": {},
   "outputs": [],
   "source": [
    "import math as j"
   ]
  },
  {
   "cell_type": "code",
   "execution_count": null,
   "id": "e1c2d180",
   "metadata": {},
   "outputs": [],
   "source": [
    "j.sqrt(25)"
   ]
  },
  {
   "cell_type": "code",
   "execution_count": null,
   "id": "8af4272b",
   "metadata": {},
   "outputs": [],
   "source": [
    "math.sqrt(25)"
   ]
  },
  {
   "cell_type": "code",
   "execution_count": null,
   "id": "da0321ce",
   "metadata": {},
   "outputs": [],
   "source": [
    "j.pow(3,2)  #3**2"
   ]
  },
  {
   "cell_type": "code",
   "execution_count": null,
   "id": "d70af8be",
   "metadata": {},
   "outputs": [],
   "source": []
  },
  {
   "cell_type": "code",
   "execution_count": null,
   "id": "77c14963",
   "metadata": {},
   "outputs": [],
   "source": [
    "# input func"
   ]
  },
  {
   "cell_type": "code",
   "execution_count": null,
   "id": "970d8617",
   "metadata": {},
   "outputs": [],
   "source": [
    "x=input('enter a charac ')[0]\n",
    "x"
   ]
  },
  {
   "cell_type": "code",
   "execution_count": null,
   "id": "652bc0cc",
   "metadata": {},
   "outputs": [],
   "source": [
    "result = eval(input('enter an expression: '))\n",
    "result"
   ]
  },
  {
   "cell_type": "code",
   "execution_count": null,
   "id": "7002dfdb",
   "metadata": {},
   "outputs": [],
   "source": [
    "\n"
   ]
  },
  {
   "cell_type": "code",
   "execution_count": null,
   "id": "ae678dbb",
   "metadata": {},
   "outputs": [],
   "source": [
    "# loops"
   ]
  },
  {
   "cell_type": "code",
   "execution_count": null,
   "id": "0a8218e6",
   "metadata": {},
   "outputs": [],
   "source": [
    "print('telusko ',end='')    # to print in same line \n",
    "print('rocks ')"
   ]
  },
  {
   "cell_type": "code",
   "execution_count": null,
   "id": "d2406f8c",
   "metadata": {},
   "outputs": [],
   "source": [
    "print('telusko ')\n",
    "print('rocks ')"
   ]
  },
  {
   "cell_type": "code",
   "execution_count": null,
   "id": "bd4e121b",
   "metadata": {},
   "outputs": [],
   "source": [
    "\n"
   ]
  },
  {
   "cell_type": "code",
   "execution_count": null,
   "id": "c2fa58c4",
   "metadata": {},
   "outputs": [],
   "source": [
    "for i in range(10,2):\n",
    "    print(i) "
   ]
  },
  {
   "cell_type": "code",
   "execution_count": null,
   "id": "a36597b3",
   "metadata": {},
   "outputs": [],
   "source": [
    "list(range(20,10,-1 ))"
   ]
  },
  {
   "cell_type": "code",
   "execution_count": null,
   "id": "c4c32ae7",
   "metadata": {},
   "outputs": [],
   "source": []
  },
  {
   "cell_type": "code",
   "execution_count": null,
   "id": "8481d4af",
   "metadata": {},
   "outputs": [],
   "source": [
    "# printing patterns"
   ]
  },
  {
   "cell_type": "code",
   "execution_count": null,
   "id": "4afb49ee",
   "metadata": {},
   "outputs": [],
   "source": [
    "for i in range(4):\n",
    "    for j in range(4):\n",
    "        print('#',end='')\n",
    "    print( )"
   ]
  },
  {
   "cell_type": "code",
   "execution_count": null,
   "id": "7821d970",
   "metadata": {},
   "outputs": [],
   "source": [
    "for i in range(4):\n",
    "    for j in range(i):\n",
    "        print('#',end='')\n",
    "    print( )"
   ]
  },
  {
   "cell_type": "code",
   "execution_count": null,
   "id": "916f5aba",
   "metadata": {},
   "outputs": [],
   "source": [
    "for i in range(4):\n",
    "    for j in range(4-i):\n",
    "        print('#',end='')\n",
    "    print( )"
   ]
  },
  {
   "cell_type": "code",
   "execution_count": null,
   "id": "c9ef2303",
   "metadata": {},
   "outputs": [],
   "source": []
  },
  {
   "cell_type": "code",
   "execution_count": null,
   "id": "db4e1b40",
   "metadata": {},
   "outputs": [],
   "source": [
    "# arrays,pip,numpy\n"
   ]
  },
  {
   "cell_type": "code",
   "execution_count": null,
   "id": "b27bbbae",
   "metadata": {},
   "outputs": [],
   "source": [
    "from array import *\n",
    "\n",
    "arr=array('i',[1,2,3])\n",
    "arr\n",
    "print(arr)"
   ]
  },
  {
   "cell_type": "code",
   "execution_count": null,
   "id": "e48cc90f",
   "metadata": {},
   "outputs": [],
   "source": [
    "arr=array('I',[1,2,3])\n",
    "arr"
   ]
  },
  {
   "cell_type": "raw",
   "id": "b4216c17",
   "metadata": {},
   "source": [
    "   "
   ]
  },
  {
   "cell_type": "code",
   "execution_count": null,
   "id": "01e9efee",
   "metadata": {},
   "outputs": [],
   "source": [
    "arr.buffer_info()"
   ]
  },
  {
   "cell_type": "code",
   "execution_count": null,
   "id": "75d64209",
   "metadata": {},
   "outputs": [],
   "source": [
    "arr.count(4)"
   ]
  },
  {
   "cell_type": "code",
   "execution_count": null,
   "id": "464e26b8",
   "metadata": {},
   "outputs": [],
   "source": [
    "arr.index(3)"
   ]
  },
  {
   "cell_type": "code",
   "execution_count": null,
   "id": "22421c1c",
   "metadata": {},
   "outputs": [],
   "source": [
    "arr.pop(2)\n",
    "arr"
   ]
  },
  {
   "cell_type": "code",
   "execution_count": null,
   "id": "2ed52652",
   "metadata": {},
   "outputs": [],
   "source": [
    "arr.insert(1,7)\n",
    "arr\n"
   ]
  },
  {
   "cell_type": "code",
   "execution_count": null,
   "id": "8827c1c5",
   "metadata": {},
   "outputs": [],
   "source": []
  },
  {
   "cell_type": "code",
   "execution_count": null,
   "id": "8881f8c2",
   "metadata": {},
   "outputs": [],
   "source": [
    "arr.insert(3,5)\n",
    "arr"
   ]
  },
  {
   "cell_type": "code",
   "execution_count": null,
   "id": "2ae63178",
   "metadata": {},
   "outputs": [],
   "source": [
    "arr.typecode"
   ]
  },
  {
   "cell_type": "code",
   "execution_count": null,
   "id": "7921de37",
   "metadata": {},
   "outputs": [],
   "source": [
    "newarr=array(arr.typecode,(a*2 for a in arr))\n",
    "newarr"
   ]
  },
  {
   "cell_type": "code",
   "execution_count": null,
   "id": "3abf1efe",
   "metadata": {},
   "outputs": [],
   "source": [
    "from array import *\n",
    "arr=array('i',[])\n",
    "n=int(input('length of array: '))\n",
    "i=0\n",
    "while i<n:\n",
    "    a=input('please enter the next arr dgigit: ')\n",
    "    if a.isdigit()==True:\n",
    "        arr.append(int(a))\n",
    "        i+=1\n",
    "    else:\n",
    "        print('please enter only digits')\n",
    "print(arr)"
   ]
  },
  {
   "cell_type": "markdown",
   "id": "54f71378",
   "metadata": {},
   "source": []
  },
  {
   "cell_type": "code",
   "execution_count": null,
   "id": "6f031e05",
   "metadata": {},
   "outputs": [],
   "source": [
    "k=int(input('enter a value from array : '))\n",
    "i=0\n",
    "for e in arr:\n",
    "    if e==k:\n",
    "        print('value found at index position:',i)  \n",
    "        break\n",
    "    i+=1\n",
    "else:\n",
    "     print('not founf')\n",
    "    \n",
    "    "
   ]
  },
  {
   "cell_type": "code",
   "execution_count": null,
   "id": "8b22fc81",
   "metadata": {},
   "outputs": [],
   "source": [
    "k=int(input('enter a value from array : '))\n",
    "i=0\n",
    "for i in range(len(arr)):\n",
    "    if arr[i]==k:\n",
    "        print('value found at index position:',i) \n",
    "        #break\n",
    "else:\n",
    "    print('nf')\n",
    "\n",
    "    "
   ]
  },
  {
   "cell_type": "code",
   "execution_count": null,
   "id": "3ea04dbc",
   "metadata": {},
   "outputs": [],
   "source": [
    "print(arr.index(k))"
   ]
  },
  {
   "cell_type": "code",
   "execution_count": null,
   "id": "699669dc",
   "metadata": {},
   "outputs": [],
   "source": [
    "arr=array('i',[1,2],[8,9])"
   ]
  },
  {
   "cell_type": "code",
   "execution_count": null,
   "id": "00ff6a23",
   "metadata": {},
   "outputs": [],
   "source": [
    "from array import *\n",
    "from numpy import *"
   ]
  },
  {
   "cell_type": "code",
   "execution_count": null,
   "id": "1e494fa6",
   "metadata": {},
   "outputs": [],
   "source": [
    "arr=array([1,2,3],[4,5,6])\n",
    "arr"
   ]
  },
  {
   "cell_type": "code",
   "execution_count": null,
   "id": "df6c9fbb",
   "metadata": {},
   "outputs": [],
   "source": [
    "arr1= array ([1,2,b],int)\n",
    "print(arr1)\n",
    "(arr1.dtype)\n"
   ]
  },
  {
   "cell_type": "code",
   "execution_count": null,
   "id": "7caebf70",
   "metadata": {},
   "outputs": [],
   "source": [
    "arr=linspace(0,10,1)    # b-a/n-1 both a,b included\n",
    "print(arr)\n",
    "\n",
    "arr1=linspace(0,10,4)    # b-a/n-1 both a,b included\n",
    "print(arr1)"
   ]
  },
  {
   "cell_type": "code",
   "execution_count": null,
   "id": "474936e3",
   "metadata": {},
   "outputs": [],
   "source": [
    "arr=arange(1,11,2)    # like range b not included\n",
    "print(arr)"
   ]
  },
  {
   "cell_type": "code",
   "execution_count": null,
   "id": "9ce40451",
   "metadata": {},
   "outputs": [],
   "source": [
    "arr=logspace(1,3,4)   #log of 10**1,10**4\n",
    "print(arr)\n",
    "\n"
   ]
  },
  {
   "cell_type": "code",
   "execution_count": null,
   "id": "18a80d9d",
   "metadata": {},
   "outputs": [],
   "source": [
    "arr=zeros(5)\n",
    "print(arr)"
   ]
  },
  {
   "cell_type": "code",
   "execution_count": null,
   "id": "934b9b37",
   "metadata": {},
   "outputs": [],
   "source": [
    "arr=ones(7,int)\n",
    "print(arr)"
   ]
  },
  {
   "cell_type": "code",
   "execution_count": null,
   "id": "8be83d31",
   "metadata": {},
   "outputs": [],
   "source": [
    "#mathematical ops on arrays \n"
   ]
  },
  {
   "cell_type": "code",
   "execution_count": null,
   "id": "6fc54762",
   "metadata": {},
   "outputs": [],
   "source": [
    "from numpy import *\n",
    "arr=array([1,2,3])\n",
    "arr=arr+5\n",
    "print(arr)"
   ]
  },
  {
   "cell_type": "code",
   "execution_count": null,
   "id": "48cd970c",
   "metadata": {},
   "outputs": [],
   "source": [
    "arr1=array([2,3,4])\n",
    "arr2=arr**arr1\n",
    "print(arr2)"
   ]
  },
  {
   "cell_type": "code",
   "execution_count": null,
   "id": "b8bba639",
   "metadata": {},
   "outputs": [],
   "source": [
    "sin(arr)"
   ]
  },
  {
   "cell_type": "code",
   "execution_count": null,
   "id": "708d0de6",
   "metadata": {},
   "outputs": [],
   "source": [
    "log(arr)"
   ]
  },
  {
   "cell_type": "code",
   "execution_count": null,
   "id": "7e0e9187",
   "metadata": {},
   "outputs": [],
   "source": [
    "min(arr)"
   ]
  },
  {
   "cell_type": "code",
   "execution_count": null,
   "id": "67921dd0",
   "metadata": {},
   "outputs": [],
   "source": [
    "sqrt(arr)"
   ]
  },
  {
   "cell_type": "code",
   "execution_count": null,
   "id": "935e7ca7",
   "metadata": {},
   "outputs": [],
   "source": [
    "sum(arr)"
   ]
  },
  {
   "cell_type": "code",
   "execution_count": null,
   "id": "e6547043",
   "metadata": {},
   "outputs": [],
   "source": [
    "sort(arr)"
   ]
  },
  {
   "cell_type": "code",
   "execution_count": null,
   "id": "09355dc3",
   "metadata": {},
   "outputs": [],
   "source": [
    "concatenate([arr,arr1])"
   ]
  },
  {
   "cell_type": "code",
   "execution_count": null,
   "id": "9d7aa0d8",
   "metadata": {},
   "outputs": [],
   "source": [
    "#copying arrays"
   ]
  },
  {
   "cell_type": "code",
   "execution_count": 48,
   "id": "542ff104",
   "metadata": {},
   "outputs": [
    {
     "name": "stdout",
     "output_type": "stream",
     "text": [
      "140654503452496\n",
      "140654558927856\n"
     ]
    },
    {
     "data": {
      "text/plain": [
       "array([1, 2, 3])"
      ]
     },
     "execution_count": 48,
     "metadata": {},
     "output_type": "execute_result"
    }
   ],
   "source": [
    "from array import *\n",
    "from numpy import *\n",
    "arr=array([1,2,3])\n",
    "arr1=arr.copy()\n",
    "arr[2]=9\n",
    "print(id(arr))\n",
    "print(id(arr1))\n",
    "arr1"
   ]
  },
  {
   "cell_type": "code",
   "execution_count": 49,
   "id": "d7b21fc2",
   "metadata": {},
   "outputs": [],
   "source": [
    "# matrices\n"
   ]
  },
  {
   "cell_type": "code",
   "execution_count": 53,
   "id": "cadd80e6",
   "metadata": {},
   "outputs": [
    {
     "data": {
      "text/plain": [
       "matrix([[1, 2, 3],\n",
       "        [4, 5, 6]])"
      ]
     },
     "execution_count": 53,
     "metadata": {},
     "output_type": "execute_result"
    }
   ],
   "source": [
    "arr=array([\n",
    "            [1,2,3],\n",
    "            [4,5,6]\n",
    "    \n",
    "        ])\n",
    "m=matrix(arr)\n",
    "m"
   ]
  },
  {
   "cell_type": "code",
   "execution_count": 54,
   "id": "9c247062",
   "metadata": {},
   "outputs": [
    {
     "data": {
      "text/plain": [
       "matrix([[1, 2, 3, 4, 5, 6]])"
      ]
     },
     "execution_count": 54,
     "metadata": {},
     "output_type": "execute_result"
    }
   ],
   "source": [
    "m.flatten()"
   ]
  },
  {
   "cell_type": "code",
   "execution_count": 55,
   "id": "98231a33",
   "metadata": {},
   "outputs": [
    {
     "data": {
      "text/plain": [
       "array([1, 2, 3, 4, 5, 6])"
      ]
     },
     "execution_count": 55,
     "metadata": {},
     "output_type": "execute_result"
    }
   ],
   "source": [
    "arr.flatten()"
   ]
  },
  {
   "cell_type": "code",
   "execution_count": 56,
   "id": "fa5da689",
   "metadata": {},
   "outputs": [
    {
     "data": {
      "text/plain": [
       "matrix([[1, 2, 3],\n",
       "        [4, 5, 6]])"
      ]
     },
     "execution_count": 56,
     "metadata": {},
     "output_type": "execute_result"
    }
   ],
   "source": [
    "m"
   ]
  },
  {
   "cell_type": "code",
   "execution_count": 57,
   "id": "fc7bda7c",
   "metadata": {},
   "outputs": [
    {
     "data": {
      "text/plain": [
       "matrix([[1, 2],\n",
       "        [3, 4],\n",
       "        [5, 6]])"
      ]
     },
     "execution_count": 57,
     "metadata": {},
     "output_type": "execute_result"
    }
   ],
   "source": [
    "m.reshape(3,2)"
   ]
  },
  {
   "cell_type": "code",
   "execution_count": 58,
   "id": "9e4c4e3a",
   "metadata": {},
   "outputs": [
    {
     "data": {
      "text/plain": [
       "array([[1],\n",
       "       [2],\n",
       "       [3],\n",
       "       [4],\n",
       "       [5],\n",
       "       [6]])"
      ]
     },
     "execution_count": 58,
     "metadata": {},
     "output_type": "execute_result"
    }
   ],
   "source": [
    "arr.reshape(6,1)"
   ]
  },
  {
   "cell_type": "code",
   "execution_count": 59,
   "id": "81890450",
   "metadata": {},
   "outputs": [
    {
     "data": {
      "text/plain": [
       "array([[1, 2, 3],\n",
       "       [4, 5, 6]])"
      ]
     },
     "execution_count": 59,
     "metadata": {},
     "output_type": "execute_result"
    }
   ],
   "source": [
    "arr"
   ]
  },
  {
   "cell_type": "code",
   "execution_count": 65,
   "id": "424623d4",
   "metadata": {},
   "outputs": [],
   "source": [
    "arr1=array([1,2,3,4,5,6,7,8,9,10,11,12])"
   ]
  },
  {
   "cell_type": "code",
   "execution_count": 67,
   "id": "b01e2745",
   "metadata": {},
   "outputs": [
    {
     "data": {
      "text/plain": [
       "array([[ 1,  2],\n",
       "       [ 3,  4],\n",
       "       [ 5,  6],\n",
       "       [ 7,  8],\n",
       "       [ 9, 10],\n",
       "       [11, 12]])"
      ]
     },
     "execution_count": 67,
     "metadata": {},
     "output_type": "execute_result"
    }
   ],
   "source": [
    "m=arr1.reshape(6,2)\n",
    "m\n"
   ]
  },
  {
   "cell_type": "code",
   "execution_count": 68,
   "id": "2bc80d07",
   "metadata": {},
   "outputs": [
    {
     "data": {
      "text/plain": [
       "array([[[ 1,  2,  3],\n",
       "        [ 4,  5,  6]],\n",
       "\n",
       "       [[ 7,  8,  9],\n",
       "        [10, 11, 12]]])"
      ]
     },
     "execution_count": 68,
     "metadata": {},
     "output_type": "execute_result"
    }
   ],
   "source": [
    "m.reshape(2,2,3)"
   ]
  },
  {
   "cell_type": "code",
   "execution_count": 69,
   "id": "22f0af20",
   "metadata": {},
   "outputs": [
    {
     "data": {
      "text/plain": [
       "array([[ 1,  2],\n",
       "       [ 3,  4],\n",
       "       [ 5,  6],\n",
       "       [ 7,  8],\n",
       "       [ 9, 10],\n",
       "       [11, 12]])"
      ]
     },
     "execution_count": 69,
     "metadata": {},
     "output_type": "execute_result"
    }
   ],
   "source": [
    "m"
   ]
  },
  {
   "cell_type": "code",
   "execution_count": 71,
   "id": "8b3caa7e",
   "metadata": {},
   "outputs": [
    {
     "data": {
      "text/plain": [
       "array([[  1,   4],\n",
       "       [  9,  16],\n",
       "       [ 25,  36],\n",
       "       [ 49,  64],\n",
       "       [ 81, 100],\n",
       "       [121, 144]])"
      ]
     },
     "execution_count": 71,
     "metadata": {},
     "output_type": "execute_result"
    }
   ],
   "source": [
    "m*m"
   ]
  },
  {
   "cell_type": "code",
   "execution_count": 72,
   "id": "9de102d8",
   "metadata": {},
   "outputs": [],
   "source": [
    "m=array([1,2,3,4,5,6,7,8])"
   ]
  },
  {
   "cell_type": "code",
   "execution_count": 77,
   "id": "ff0ae4e3",
   "metadata": {},
   "outputs": [],
   "source": [
    "m=m.reshape(2,4)"
   ]
  },
  {
   "cell_type": "code",
   "execution_count": 78,
   "id": "7cb7c7cc",
   "metadata": {},
   "outputs": [
    {
     "name": "stdout",
     "output_type": "stream",
     "text": [
      "[[1 2 3 4]\n",
      " [5 6 7 8]]\n"
     ]
    }
   ],
   "source": [
    "print(m)"
   ]
  },
  {
   "cell_type": "code",
   "execution_count": 79,
   "id": "bb9946df",
   "metadata": {},
   "outputs": [
    {
     "data": {
      "text/plain": [
       "array([[ 6,  7,  8,  9],\n",
       "       [10, 11, 12, 13]])"
      ]
     },
     "execution_count": 79,
     "metadata": {},
     "output_type": "execute_result"
    }
   ],
   "source": [
    "m+5"
   ]
  },
  {
   "cell_type": "code",
   "execution_count": 80,
   "id": "5bbbd9e7",
   "metadata": {},
   "outputs": [
    {
     "data": {
      "text/plain": [
       "array([[1, 2, 3, 4],\n",
       "       [5, 6, 7, 8]])"
      ]
     },
     "execution_count": 80,
     "metadata": {},
     "output_type": "execute_result"
    }
   ],
   "source": [
    "m"
   ]
  },
  {
   "cell_type": "code",
   "execution_count": null,
   "id": "50a1a4b1",
   "metadata": {},
   "outputs": [],
   "source": []
  },
  {
   "cell_type": "code",
   "execution_count": 81,
   "id": "97fae7b9",
   "metadata": {},
   "outputs": [],
   "source": [
    "#fibonacii series"
   ]
  },
  {
   "cell_type": "code",
   "execution_count": 94,
   "id": "ee4bece6",
   "metadata": {},
   "outputs": [],
   "source": [
    "def fib(n):\n",
    "    \n",
    "    if n==1:\n",
    "        print('fib=[0]')\n",
    "    \n",
    "    fib=[0,1]\n",
    "    if n>1:\n",
    "        for i in range(2,n):\n",
    "            x=fib[i-1]+fib[i-2]\n",
    "            fib.append(x)\n",
    "        print(fib)"
   ]
  },
  {
   "cell_type": "code",
   "execution_count": 96,
   "id": "7d910dde",
   "metadata": {},
   "outputs": [
    {
     "name": "stdout",
     "output_type": "stream",
     "text": [
      "fib=[0]\n"
     ]
    }
   ],
   "source": [
    "fib(1)"
   ]
  },
  {
   "cell_type": "code",
   "execution_count": 97,
   "id": "d09e9743",
   "metadata": {},
   "outputs": [],
   "source": [
    "# factorial "
   ]
  },
  {
   "cell_type": "code",
   "execution_count": 109,
   "id": "ff35a503",
   "metadata": {},
   "outputs": [],
   "source": [
    "def fact(n):\n",
    "    \n",
    "    if n==0:\n",
    "        print('0!=1')\n",
    "    \n",
    "    else:\n",
    "        temp=1\n",
    "        for i in list(range(1,n+1)):\n",
    "            temp=temp*i\n",
    "        print(temp)\n",
    "    "
   ]
  },
  {
   "cell_type": "code",
   "execution_count": 113,
   "id": "fae18a28",
   "metadata": {},
   "outputs": [
    {
     "name": "stdout",
     "output_type": "stream",
     "text": [
      "0!=1\n"
     ]
    }
   ],
   "source": [
    "fact(0)"
   ]
  },
  {
   "cell_type": "code",
   "execution_count": 1,
   "id": "25a8ed63",
   "metadata": {},
   "outputs": [],
   "source": [
    "# __name__, main"
   ]
  },
  {
   "cell_type": "code",
   "execution_count": 3,
   "id": "7c0be5e0",
   "metadata": {},
   "outputs": [
    {
     "name": "stdout",
     "output_type": "stream",
     "text": [
      "__main__\n"
     ]
    }
   ],
   "source": [
    "print(__name__)"
   ]
  },
  {
   "cell_type": "code",
   "execution_count": null,
   "id": "f3481082",
   "metadata": {},
   "outputs": [],
   "source": []
  },
  {
   "cell_type": "code",
   "execution_count": 51,
   "id": "57db7aa0",
   "metadata": {},
   "outputs": [],
   "source": [
    "with open('myfile.txt','w') as t:\n",
    "    t.write('Hi \\nhello \\nsimmi')"
   ]
  },
  {
   "cell_type": "code",
   "execution_count": 52,
   "id": "80ebd961",
   "metadata": {},
   "outputs": [
    {
     "name": "stdout",
     "output_type": "stream",
     "text": [
      "Hi \n",
      "hello \n",
      "simmi\n"
     ]
    }
   ],
   "source": [
    "with open('myfile.txt','r') as t:\n",
    "    print(t.read())"
   ]
  },
  {
   "cell_type": "code",
   "execution_count": 53,
   "id": "94cc3eec",
   "metadata": {},
   "outputs": [
    {
     "name": "stdout",
     "output_type": "stream",
     "text": [
      "Hi \n",
      "hello \n",
      "\n",
      "simmi\n"
     ]
    }
   ],
   "source": [
    "with open('myfile.txt','r') as t:\n",
    "    print(t.readline(),end='')\n",
    "    print(t.readline())\n",
    "    print(t.readline())\n",
    "    "
   ]
  },
  {
   "cell_type": "code",
   "execution_count": 73,
   "id": "f2e376cd",
   "metadata": {},
   "outputs": [],
   "source": [
    "f1=open('abc.txt','w')"
   ]
  },
  {
   "cell_type": "code",
   "execution_count": 74,
   "id": "464c7140",
   "metadata": {},
   "outputs": [
    {
     "data": {
      "text/plain": [
       "10"
      ]
     },
     "execution_count": 74,
     "metadata": {},
     "output_type": "execute_result"
    }
   ],
   "source": [
    "f1.write('hi \\n hello')"
   ]
  },
  {
   "cell_type": "code",
   "execution_count": 75,
   "id": "d59c1f43",
   "metadata": {},
   "outputs": [
    {
     "ename": "UnsupportedOperation",
     "evalue": "not readable",
     "output_type": "error",
     "traceback": [
      "\u001b[0;31m---------------------------------------------------------------------------\u001b[0m",
      "\u001b[0;31mUnsupportedOperation\u001b[0m                      Traceback (most recent call last)",
      "Cell \u001b[0;32mIn[75], line 1\u001b[0m\n\u001b[0;32m----> 1\u001b[0m \u001b[38;5;28mprint\u001b[39m(\u001b[43mf1\u001b[49m\u001b[38;5;241;43m.\u001b[39;49m\u001b[43mread\u001b[49m\u001b[43m(\u001b[49m\u001b[43m)\u001b[49m)\n",
      "\u001b[0;31mUnsupportedOperation\u001b[0m: not readable"
     ]
    }
   ],
   "source": [
    "print(f1.read())"
   ]
  },
  {
   "cell_type": "code",
   "execution_count": 67,
   "id": "5ac9682d",
   "metadata": {},
   "outputs": [],
   "source": [
    "with open('abc.txt','w') as f:\n",
    "    f.write('Hi \\nhello ')"
   ]
  },
  {
   "cell_type": "code",
   "execution_count": 68,
   "id": "9664e452",
   "metadata": {},
   "outputs": [
    {
     "name": "stdout",
     "output_type": "stream",
     "text": [
      "Hi \n",
      "hello \n"
     ]
    }
   ],
   "source": [
    "with open('abc.txt','r') as f:\n",
    "    print(f.read())"
   ]
  },
  {
   "cell_type": "code",
   "execution_count": null,
   "id": "d2425e90",
   "metadata": {},
   "outputs": [],
   "source": []
  },
  {
   "cell_type": "code",
   "execution_count": null,
   "id": "60f09c45",
   "metadata": {},
   "outputs": [],
   "source": []
  },
  {
   "cell_type": "code",
   "execution_count": null,
   "id": "83f18063",
   "metadata": {},
   "outputs": [],
   "source": []
  }
 ],
 "metadata": {
  "kernelspec": {
   "display_name": "Python 3 (ipykernel)",
   "language": "python",
   "name": "python3"
  },
  "language_info": {
   "codemirror_mode": {
    "name": "ipython",
    "version": 3
   },
   "file_extension": ".py",
   "mimetype": "text/x-python",
   "name": "python",
   "nbconvert_exporter": "python",
   "pygments_lexer": "ipython3",
   "version": "3.10.9"
  }
 },
 "nbformat": 4,
 "nbformat_minor": 5
}
