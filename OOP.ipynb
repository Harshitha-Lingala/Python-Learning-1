{
 "cells": [
  {
   "cell_type": "code",
   "execution_count": 8,
   "id": "fc17492d",
   "metadata": {},
   "outputs": [],
   "source": [
    "class Animal:\n",
    "    species='mammal'\n",
    "    def __init__(self,name):\n",
    "        self.name=name +  Animal.species\n",
    "        self.breed='la'\n",
    "    def bark(self,weight):\n",
    "        print('WOof ' + weight)"
   ]
  },
  {
   "cell_type": "code",
   "execution_count": 9,
   "id": "5c7c4813",
   "metadata": {},
   "outputs": [
    {
     "data": {
      "text/plain": [
       "'la'"
      ]
     },
     "execution_count": 9,
     "metadata": {},
     "output_type": "execute_result"
    }
   ],
   "source": [
    "dog=Animal('puppu')\n",
    "dog.name\n",
    "dog.breed"
   ]
  },
  {
   "cell_type": "code",
   "execution_count": 10,
   "id": "102020f5",
   "metadata": {},
   "outputs": [
    {
     "data": {
      "text/plain": [
       "'mammal'"
      ]
     },
     "execution_count": 10,
     "metadata": {},
     "output_type": "execute_result"
    }
   ],
   "source": [
    "dog.species"
   ]
  },
  {
   "cell_type": "code",
   "execution_count": 13,
   "id": "eeb2b2a8",
   "metadata": {},
   "outputs": [
    {
     "name": "stdout",
     "output_type": "stream",
     "text": [
      "WOof 4\n"
     ]
    }
   ],
   "source": [
    "dog.bark('4')"
   ]
  },
  {
   "cell_type": "code",
   "execution_count": 29,
   "id": "60d5603c",
   "metadata": {},
   "outputs": [
    {
     "data": {
      "text/plain": [
       "__main__.Animal"
      ]
     },
     "execution_count": 29,
     "metadata": {},
     "output_type": "execute_result"
    }
   ],
   "source": [
    "type(dog)"
   ]
  },
  {
   "cell_type": "code",
   "execution_count": 106,
   "id": "59429c5a",
   "metadata": {},
   "outputs": [],
   "source": [
    "class Circle():\n",
    "    pi=3.14\n",
    "    def __init__(self,r=1):\n",
    "        self.r=r\n",
    "        self.area=Circle.pi*r*r\n",
    "    def circum(self):\n",
    "        return  self.pi*self.r*2\n",
    "        "
   ]
  },
  {
   "cell_type": "code",
   "execution_count": 115,
   "id": "b49ee49b",
   "metadata": {},
   "outputs": [
    {
     "name": "stdout",
     "output_type": "stream",
     "text": [
      "radius is :   1\n",
      "area is:  3.14\n",
      "circum is :  6.28\n"
     ]
    }
   ],
   "source": [
    "c=Circle()\n",
    "print('radius is :  ',c.r)\n",
    "print('area is: ',c.area)\n",
    "print('circum is : ',c.circum())"
   ]
  },
  {
   "cell_type": "code",
   "execution_count": 114,
   "id": "6045f777",
   "metadata": {},
   "outputs": [
    {
     "data": {
      "text/plain": [
       "<function Circle.mro()>"
      ]
     },
     "execution_count": 114,
     "metadata": {},
     "output_type": "execute_result"
    }
   ],
   "source": [
    "Circle.mro"
   ]
  },
  {
   "cell_type": "code",
   "execution_count": 102,
   "id": "74255f99",
   "metadata": {},
   "outputs": [
    {
     "data": {
      "text/plain": [
       "3.14"
      ]
     },
     "execution_count": 102,
     "metadata": {},
     "output_type": "execute_result"
    }
   ],
   "source": [
    "c.area"
   ]
  },
  {
   "cell_type": "code",
   "execution_count": 116,
   "id": "a93e997a",
   "metadata": {},
   "outputs": [
    {
     "ename": "NameError",
     "evalue": "name 'circum' is not defined",
     "output_type": "error",
     "traceback": [
      "\u001b[0;31m---------------------------------------------------------------------------\u001b[0m",
      "\u001b[0;31mNameError\u001b[0m                                 Traceback (most recent call last)",
      "Cell \u001b[0;32mIn[116], line 2\u001b[0m\n\u001b[1;32m      1\u001b[0m c\u001b[38;5;241m.\u001b[39mcircum()\n\u001b[0;32m----> 2\u001b[0m \u001b[43mcircum\u001b[49m()\n",
      "\u001b[0;31mNameError\u001b[0m: name 'circum' is not defined"
     ]
    }
   ],
   "source": [
    "c.circum()\n",
    "circum()\n"
   ]
  },
  {
   "cell_type": "code",
   "execution_count": 110,
   "id": "365de7c6",
   "metadata": {},
   "outputs": [
    {
     "name": "stdout",
     "output_type": "stream",
     "text": [
      "   sim\n"
     ]
    }
   ],
   "source": [
    "name='sim'\n",
    "print('  ', name)"
   ]
  },
  {
   "cell_type": "code",
   "execution_count": 30,
   "id": "6d2cf78d",
   "metadata": {},
   "outputs": [],
   "source": [
    "class Animal():\n",
    "    species='mammal'\n",
    "    def __init__(self,name):\n",
    "        self.name=name \n",
    "        self.breed='la'\n",
    "    def bark(self,weight):\n",
    "        print('WOof' + weight)\n",
    "        \n",
    "        \n",
    "class Cat(Animal):\n",
    "    def __init__(self,breed):\n",
    "       # Animal.__init__(self,name)\n",
    "        self.breed= breed"
   ]
  },
  {
   "cell_type": "code",
   "execution_count": 31,
   "id": "b15cdb5a",
   "metadata": {},
   "outputs": [
    {
     "ename": "TypeError",
     "evalue": "Cat.__init__() takes 2 positional arguments but 3 were given",
     "output_type": "error",
     "traceback": [
      "\u001b[0;31m---------------------------------------------------------------------------\u001b[0m",
      "\u001b[0;31mTypeError\u001b[0m                                 Traceback (most recent call last)",
      "Cell \u001b[0;32mIn[31], line 1\u001b[0m\n\u001b[0;32m----> 1\u001b[0m my_cat\u001b[38;5;241m=\u001b[39m\u001b[43mCat\u001b[49m\u001b[43m(\u001b[49m\u001b[38;5;124;43m'\u001b[39;49m\u001b[38;5;124;43mbre\u001b[39;49m\u001b[38;5;124;43m'\u001b[39;49m\u001b[43m,\u001b[49m\u001b[38;5;124;43m'\u001b[39;49m\u001b[38;5;124;43mcat\u001b[39;49m\u001b[38;5;124;43m'\u001b[39;49m\u001b[43m)\u001b[49m\n\u001b[1;32m      2\u001b[0m my_cat\u001b[38;5;241m.\u001b[39mbark(\u001b[38;5;124m'\u001b[39m\u001b[38;5;124m34\u001b[39m\u001b[38;5;124m'\u001b[39m)\n",
      "\u001b[0;31mTypeError\u001b[0m: Cat.__init__() takes 2 positional arguments but 3 were given"
     ]
    }
   ],
   "source": [
    "my_cat=Cat('bre','cat')\n",
    "my_cat.bark('34')"
   ]
  },
  {
   "cell_type": "code",
   "execution_count": 32,
   "id": "41087016",
   "metadata": {},
   "outputs": [
    {
     "data": {
      "text/plain": [
       "'la'"
      ]
     },
     "execution_count": 32,
     "metadata": {},
     "output_type": "execute_result"
    }
   ],
   "source": [
    "my_cat.breed"
   ]
  },
  {
   "cell_type": "code",
   "execution_count": 33,
   "id": "c1eb50b6",
   "metadata": {},
   "outputs": [],
   "source": [
    "my_cat=Animal('pup')\n"
   ]
  },
  {
   "cell_type": "code",
   "execution_count": 34,
   "id": "58b913b4",
   "metadata": {},
   "outputs": [
    {
     "data": {
      "text/plain": [
       "'pup'"
      ]
     },
     "execution_count": 34,
     "metadata": {},
     "output_type": "execute_result"
    }
   ],
   "source": [
    "my_cat.name"
   ]
  },
  {
   "cell_type": "code",
   "execution_count": 36,
   "id": "5f015d16",
   "metadata": {},
   "outputs": [
    {
     "data": {
      "text/plain": [
       "'bredd'"
      ]
     },
     "execution_count": 36,
     "metadata": {},
     "output_type": "execute_result"
    }
   ],
   "source": [
    "my_cat=Cat('bredd')\n",
    "my_cat.breed"
   ]
  },
  {
   "cell_type": "code",
   "execution_count": 159,
   "id": "93e6b083",
   "metadata": {},
   "outputs": [],
   "source": [
    "class Animal:\n",
    "    def __init__(self):\n",
    "        print(\"Animal created\")\n",
    "\n",
    "    def whoAmI(self):\n",
    "        print(\"Animal\")\n",
    "\n",
    "    def eat(self):\n",
    "        print(\"Eating\")\n",
    "\n",
    "\n",
    "class Dog(Animal):\n",
    "    def __init__(self):\n",
    "        Animal.__init__(self)\n",
    "        print(\"Dog created\")\n",
    "\n",
    "    def whoAmI(self):\n",
    "        print(\"Dog\")\n",
    "\n",
    "    def bark(self):\n",
    "        print(\"Woof!\")\n",
    "\n"
   ]
  },
  {
   "cell_type": "code",
   "execution_count": 167,
   "id": "53a3eca5",
   "metadata": {},
   "outputs": [
    {
     "name": "stdout",
     "output_type": "stream",
     "text": [
      "Animal created\n",
      "Dog created\n"
     ]
    }
   ],
   "source": [
    "d=Dog()"
   ]
  },
  {
   "cell_type": "code",
   "execution_count": 168,
   "id": "88d8ec83",
   "metadata": {},
   "outputs": [
    {
     "name": "stdout",
     "output_type": "stream",
     "text": [
      "Animal created\n"
     ]
    }
   ],
   "source": [
    "c=Animal()"
   ]
  },
  {
   "cell_type": "code",
   "execution_count": 169,
   "id": "2851004e",
   "metadata": {},
   "outputs": [
    {
     "name": "stdout",
     "output_type": "stream",
     "text": [
      "Woof!\n"
     ]
    }
   ],
   "source": [
    "d.bark()"
   ]
  },
  {
   "cell_type": "code",
   "execution_count": 171,
   "id": "1c30fa69",
   "metadata": {},
   "outputs": [
    {
     "name": "stdout",
     "output_type": "stream",
     "text": [
      "Dog\n"
     ]
    }
   ],
   "source": [
    "d.whoAmI()"
   ]
  },
  {
   "cell_type": "code",
   "execution_count": 172,
   "id": "472759fc",
   "metadata": {},
   "outputs": [
    {
     "name": "stdout",
     "output_type": "stream",
     "text": [
      "Animal\n"
     ]
    }
   ],
   "source": [
    "c.whoAmI()"
   ]
  },
  {
   "cell_type": "code",
   "execution_count": 174,
   "id": "2b667550",
   "metadata": {},
   "outputs": [
    {
     "name": "stdout",
     "output_type": "stream",
     "text": [
      "Eating\n"
     ]
    }
   ],
   "source": [
    "d.eat()"
   ]
  },
  {
   "cell_type": "code",
   "execution_count": 175,
   "id": "0728f11c",
   "metadata": {},
   "outputs": [
    {
     "name": "stdout",
     "output_type": "stream",
     "text": [
      "Eating\n"
     ]
    }
   ],
   "source": [
    "c.eat()"
   ]
  },
  {
   "cell_type": "code",
   "execution_count": 64,
   "id": "25016d7d",
   "metadata": {},
   "outputs": [],
   "source": [
    "class Animal():\n",
    "    species='mammal'\n",
    "  \n",
    "    def __init__(self,name):\n",
    "        self.name=name \n",
    "        self.breed='la'\n",
    "    def bark(self,weight):\n",
    "        print('WOof' + weight)\n",
    "        \n",
    "        \n",
    "class Cat(Animal):\n",
    "    def __init__(self,breed):\n",
    "       # Animal.__init__(self,name)\n",
    "        self.breed= breed"
   ]
  },
  {
   "cell_type": "code",
   "execution_count": 78,
   "id": "981b5b16",
   "metadata": {},
   "outputs": [
    {
     "name": "stdout",
     "output_type": "stream",
     "text": [
      "WOof34\n"
     ]
    },
    {
     "data": {
      "text/plain": [
       "'la'"
      ]
     },
     "execution_count": 78,
     "metadata": {},
     "output_type": "execute_result"
    }
   ],
   "source": [
    "iris=Animal('iris')\n",
    "\n",
    "iris.bark('34')\n",
    "iris.name\n",
    "iris.breed"
   ]
  },
  {
   "cell_type": "code",
   "execution_count": 79,
   "id": "6c47f2af",
   "metadata": {},
   "outputs": [
    {
     "data": {
      "text/plain": [
       "'kuy'"
      ]
     },
     "execution_count": 79,
     "metadata": {},
     "output_type": "execute_result"
    }
   ],
   "source": [
    "ingrid=Cat('kuy')\n",
    "\n",
    "ingrid.breed"
   ]
  },
  {
   "cell_type": "code",
   "execution_count": 76,
   "id": "f47ddb82",
   "metadata": {},
   "outputs": [
    {
     "name": "stdout",
     "output_type": "stream",
     "text": [
      "WOof7\n"
     ]
    }
   ],
   "source": [
    "\n",
    "\n",
    "ingrid.bark('7')"
   ]
  },
  {
   "cell_type": "code",
   "execution_count": 62,
   "id": "603f47be",
   "metadata": {},
   "outputs": [
    {
     "ename": "AttributeError",
     "evalue": "'Cat' object has no attribute 'name'",
     "output_type": "error",
     "traceback": [
      "\u001b[0;31m---------------------------------------------------------------------------\u001b[0m",
      "\u001b[0;31mAttributeError\u001b[0m                            Traceback (most recent call last)",
      "Cell \u001b[0;32mIn[62], line 1\u001b[0m\n\u001b[0;32m----> 1\u001b[0m \u001b[43mingrid\u001b[49m\u001b[38;5;241;43m.\u001b[39;49m\u001b[43mname\u001b[49m\n",
      "\u001b[0;31mAttributeError\u001b[0m: 'Cat' object has no attribute 'name'"
     ]
    }
   ],
   "source": [
    "ingrid.name"
   ]
  },
  {
   "cell_type": "code",
   "execution_count": 74,
   "id": "31564c29",
   "metadata": {},
   "outputs": [
    {
     "name": "stdout",
     "output_type": "stream",
     "text": [
      "Niko says Woof!\n",
      "Felix says Meow!\n"
     ]
    }
   ],
   "source": [
    "class Dog:\n",
    "    def __init__(self, name):\n",
    "        self.name = name\n",
    "\n",
    "    def speak(self):\n",
    "        return self.name+' says Woof!'\n",
    "    \n",
    "class Cat:\n",
    "    def __init__(self, name):\n",
    "        self.name = name\n",
    "\n",
    "    def speak(self):\n",
    "        return self.name+' says Meow!' \n",
    "    \n",
    "niko = Dog('Niko')\n",
    "felix = Cat('Felix')\n",
    "\n",
    "print(niko.speak())\n",
    "print(felix.speak())"
   ]
  },
  {
   "cell_type": "code",
   "execution_count": 196,
   "id": "5a7c31fb",
   "metadata": {},
   "outputs": [
    {
     "name": "stdout",
     "output_type": "stream",
     "text": [
      "Niko says Woof!\n",
      "Felix says Meow!\n"
     ]
    }
   ],
   "source": [
    "for pet in [niko,felix]:\n",
    "    print(pet.speak())"
   ]
  },
  {
   "cell_type": "code",
   "execution_count": 201,
   "id": "22281912",
   "metadata": {},
   "outputs": [],
   "source": [
    "def pet_speak(pet):\n",
    "    print(pet.speak())"
   ]
  },
  {
   "cell_type": "code",
   "execution_count": 202,
   "id": "c71d3acc",
   "metadata": {},
   "outputs": [
    {
     "name": "stdout",
     "output_type": "stream",
     "text": [
      "Niko says Woof!\n"
     ]
    }
   ],
   "source": [
    "pet_speak(niko)"
   ]
  },
  {
   "cell_type": "code",
   "execution_count": 1,
   "id": "8b369ff4",
   "metadata": {},
   "outputs": [],
   "source": [
    "#homework\n"
   ]
  },
  {
   "cell_type": "code",
   "execution_count": 17,
   "id": "2eb69e8d",
   "metadata": {},
   "outputs": [],
   "source": [
    "class Cylinder():\n",
    "    pi=3.14\n",
    "    def __init__(self,radius,height):\n",
    "        self.radius=radius\n",
    "        self.height=height\n",
    "  \n",
    "    def volume(self):\n",
    "        return Cylinder.pi*(self.radius**2)*self.height\n",
    "    \n",
    "    def surface_area(self):\n",
    "        return 2*Cylinder.pi*(self.radius*(self.radius+self.height))\n",
    "\n",
    "\n"
   ]
  },
  {
   "cell_type": "code",
   "execution_count": 18,
   "id": "b2190684",
   "metadata": {},
   "outputs": [
    {
     "data": {
      "text/plain": [
       "62.800000000000004"
      ]
     },
     "execution_count": 18,
     "metadata": {},
     "output_type": "execute_result"
    }
   ],
   "source": [
    "c=Cylinder(2,3)\n",
    "c.volume()\n",
    "c.surface_area()\n",
    "\n",
    "\n"
   ]
  },
  {
   "cell_type": "code",
   "execution_count": 36,
   "id": "d78fb781",
   "metadata": {},
   "outputs": [],
   "source": [
    "class Line():\n",
    "    \n",
    "    def __init__(self,coor1,coor2):\n",
    "        self.coor1=coor1\n",
    "        self.coor2=coor2\n",
    "    \n",
    "    def lenght(self):\n",
    "        x1,y1=self.coor1\n",
    "        x2,y2=self.coor2\n",
    "        print ((x2-x1)**2) + ((y2-y1)**2)**0.5\n",
    "    \n",
    "    def slope(self):\n",
    "        return (y2-y1)/(x2-x1)"
   ]
  },
  {
   "cell_type": "code",
   "execution_count": 39,
   "id": "0fc271b4",
   "metadata": {},
   "outputs": [
    {
     "name": "stdout",
     "output_type": "stream",
     "text": [
      "lwnght is  33.0\n"
     ]
    }
   ],
   "source": [
    "coor1=(3,2)\n",
    "coor2=(8,10)\n",
    "l = Line(coor1,coor2)\n",
    "print('lwnght is ',l.lenght() )"
   ]
  },
  {
   "cell_type": "code",
   "execution_count": 28,
   "id": "e5a1a503",
   "metadata": {},
   "outputs": [],
   "source": [
    "class Line(object):\n",
    "    \n",
    "    def __init__(self,coor1,coor2):\n",
    "        self.coor1 = coor1\n",
    "        self.coor2 = coor2\n",
    "    \n",
    "    def distance(self):\n",
    "        x1,y1 = self.coor1\n",
    "        x2,y2 = self.coor2\n",
    "        return ((x2-x1)**2 + (y2-y1)**2)**0.5\n",
    "    \n",
    "    def slope(self):\n",
    "        x1,y1 = self.coor1\n",
    "        x2,y2 = self.coor2\n",
    "        return (y2-y1)/(x2-x1)"
   ]
  },
  {
   "cell_type": "code",
   "execution_count": 80,
   "id": "ccee8d91",
   "metadata": {},
   "outputs": [],
   "source": [
    "#bank \n",
    "\n",
    "class Account():\n",
    "     \n",
    "        def __init__(self,owner,balance):\n",
    "            self.owner=owner\n",
    "            self.balance=balance\n",
    "            \n",
    "        def deposit(self,amount):\n",
    "            self.balance = self.balance+amount\n",
    "            return self.balance\n",
    "        \n",
    "        def withdrawal(self,amount):\n",
    "            if self.balance<amount:\n",
    "                print('Balance not available')\n",
    "            else:\n",
    "                self.balance -= amount\n",
    "            return self.balance\n",
    "            \n",
    "            "
   ]
  },
  {
   "cell_type": "code",
   "execution_count": 81,
   "id": "53376aa7",
   "metadata": {},
   "outputs": [],
   "source": [
    "acc1=Account('jeff',1000)"
   ]
  },
  {
   "cell_type": "code",
   "execution_count": 82,
   "id": "e1086d86",
   "metadata": {},
   "outputs": [
    {
     "name": "stdout",
     "output_type": "stream",
     "text": [
      "Balance not available\n"
     ]
    },
    {
     "data": {
      "text/plain": [
       "1100"
      ]
     },
     "execution_count": 82,
     "metadata": {},
     "output_type": "execute_result"
    }
   ],
   "source": [
    "acc1.balance\n",
    "\n",
    "acc1.deposit(100)\n",
    "\n",
    "acc1.withdrawal(6000)\n"
   ]
  },
  {
   "cell_type": "code",
   "execution_count": null,
   "id": "c1bf9e4f",
   "metadata": {},
   "outputs": [],
   "source": []
  },
  {
   "cell_type": "code",
   "execution_count": null,
   "id": "6e3c59fc",
   "metadata": {},
   "outputs": [],
   "source": []
  },
  {
   "cell_type": "code",
   "execution_count": null,
   "id": "bc548b00",
   "metadata": {},
   "outputs": [],
   "source": []
  },
  {
   "cell_type": "code",
   "execution_count": null,
   "id": "8c68a9e7",
   "metadata": {},
   "outputs": [],
   "source": []
  },
  {
   "cell_type": "code",
   "execution_count": 86,
   "id": "226291b2",
   "metadata": {},
   "outputs": [],
   "source": [
    "class Dog:\n",
    "    \n",
    "    # Class Object Attribute\n",
    "    species = 'mammal'\n",
    "    \n",
    "    def __init__(self,breed='default',name='default'):\n",
    "        self.breed = breed\n",
    "        self.name = name"
   ]
  },
  {
   "cell_type": "code",
   "execution_count": 89,
   "id": "ff135657",
   "metadata": {},
   "outputs": [],
   "source": [
    "d1=Dog('lab','pup')"
   ]
  },
  {
   "cell_type": "code",
   "execution_count": 91,
   "id": "e7f6d1e3",
   "metadata": {},
   "outputs": [
    {
     "data": {
      "text/plain": [
       "'lab'"
      ]
     },
     "execution_count": 91,
     "metadata": {},
     "output_type": "execute_result"
    }
   ],
   "source": [
    "d1.breed\n"
   ]
  },
  {
   "cell_type": "code",
   "execution_count": 11,
   "id": "fbdd93af",
   "metadata": {},
   "outputs": [
    {
     "data": {
      "text/plain": [
       "'default'"
      ]
     },
     "execution_count": 11,
     "metadata": {},
     "output_type": "execute_result"
    }
   ],
   "source": [
    "d1.name"
   ]
  },
  {
   "cell_type": "code",
   "execution_count": 12,
   "id": "d94b7592",
   "metadata": {},
   "outputs": [],
   "source": [
    "class Circle:\n",
    "    pi = 3.14\n",
    "\n",
    "    # Circle gets instantiated with a radius (default is 1)\n",
    "    def __init__(self, radius=1):\n",
    "        self.radius = radius \n",
    "        self.area = radius * radius * Circle.pi\n",
    "\n",
    "    # Method for resetting Radius\n",
    "    def setRadius(self, new_radius):\n",
    "        self.radius = new_radius\n",
    "        self.area = new_radius * new_radius * self.pi\n",
    "\n",
    "    # Method for getting Circumference\n",
    "    def getCircumference(self):\n",
    "        return self.radius * self.pi * 2\n"
   ]
  },
  {
   "cell_type": "code",
   "execution_count": 13,
   "id": "c01ab407",
   "metadata": {},
   "outputs": [
    {
     "data": {
      "text/plain": [
       "6.28"
      ]
     },
     "execution_count": 13,
     "metadata": {},
     "output_type": "execute_result"
    }
   ],
   "source": [
    "c=Circle()\n",
    "c.getCircumference()"
   ]
  },
  {
   "cell_type": "code",
   "execution_count": 14,
   "id": "84c7450b",
   "metadata": {},
   "outputs": [],
   "source": [
    "c=Circle(2)"
   ]
  },
  {
   "cell_type": "code",
   "execution_count": 16,
   "id": "40ca6309",
   "metadata": {},
   "outputs": [
    {
     "data": {
      "text/plain": [
       "12.56"
      ]
     },
     "execution_count": 16,
     "metadata": {},
     "output_type": "execute_result"
    }
   ],
   "source": [
    "c.getCircumference()"
   ]
  },
  {
   "cell_type": "code",
   "execution_count": null,
   "id": "9694ca99",
   "metadata": {},
   "outputs": [],
   "source": []
  },
  {
   "cell_type": "code",
   "execution_count": null,
   "id": "9abcbff0",
   "metadata": {},
   "outputs": [],
   "source": []
  },
  {
   "cell_type": "code",
   "execution_count": null,
   "id": "ca75eddc",
   "metadata": {},
   "outputs": [],
   "source": []
  },
  {
   "cell_type": "code",
   "execution_count": null,
   "id": "3559a917",
   "metadata": {},
   "outputs": [],
   "source": []
  },
  {
   "cell_type": "code",
   "execution_count": 3,
   "id": "59cad3cc",
   "metadata": {},
   "outputs": [],
   "source": [
    "class Line():\n",
    "    def __init__(self,x,y):\n",
    "        self.x=x\n",
    "        self.y=y\n",
    "    def slope(self):\n",
    "        return (self.y[1]-self.x[1])/(self.y[0]-self.x[0])\n",
    "    def length(self):\n",
    "        return (((self.y[1]-self.x[1])**2) + ((self.y[0]-self.x[0])**2))**0.5"
   ]
  },
  {
   "cell_type": "code",
   "execution_count": 7,
   "id": "c0ffebc9",
   "metadata": {},
   "outputs": [
    {
     "data": {
      "text/plain": [
       "9.433981132056603"
      ]
     },
     "execution_count": 7,
     "metadata": {},
     "output_type": "execute_result"
    }
   ],
   "source": [
    "l=Line((3,2),(8,10))\n",
    "l.slope()\n",
    "l.length()"
   ]
  },
  {
   "cell_type": "code",
   "execution_count": 6,
   "id": "107c1642",
   "metadata": {},
   "outputs": [
    {
     "data": {
      "text/plain": [
       "__main__.Line"
      ]
     },
     "execution_count": 6,
     "metadata": {},
     "output_type": "execute_result"
    }
   ],
   "source": [
    "type(l)"
   ]
  },
  {
   "cell_type": "code",
   "execution_count": 16,
   "id": "208e3db9",
   "metadata": {},
   "outputs": [],
   "source": [
    "class Line(object):\n",
    "    \n",
    "    def __init__(self,coor1,coor2):\n",
    "        self.coor1 = coor1\n",
    "        self.coor2 = coor2\n",
    "        x1,y1 = self.coor1\n",
    "        x2,y2 = self.coor2\n",
    "    \n",
    "    def distance(self):\n",
    "        x1,y1 = self.coor1\n",
    "        x2,y2 = self.coor2\n",
    "        return ((x2-x1)**2 + (y2-y1)**2)**0.5\n",
    "    \n",
    "    def slope(self):\n",
    "        \n",
    "        return (y2-y1)/(x2-x1)"
   ]
  },
  {
   "cell_type": "code",
   "execution_count": 17,
   "id": "28fdef97",
   "metadata": {},
   "outputs": [
    {
     "data": {
      "text/plain": [
       "9.433981132056603"
      ]
     },
     "execution_count": 17,
     "metadata": {},
     "output_type": "execute_result"
    }
   ],
   "source": [
    "l=Line((3,2),(8,10))\n",
    "l.distance()"
   ]
  },
  {
   "cell_type": "code",
   "execution_count": 18,
   "id": "9587f29a",
   "metadata": {},
   "outputs": [
    {
     "ename": "NameError",
     "evalue": "name 'y2' is not defined",
     "output_type": "error",
     "traceback": [
      "\u001b[0;31m---------------------------------------------------------------------------\u001b[0m",
      "\u001b[0;31mNameError\u001b[0m                                 Traceback (most recent call last)",
      "Cell \u001b[0;32mIn[18], line 1\u001b[0m\n\u001b[0;32m----> 1\u001b[0m \u001b[43ml\u001b[49m\u001b[38;5;241;43m.\u001b[39;49m\u001b[43mslope\u001b[49m\u001b[43m(\u001b[49m\u001b[43m)\u001b[49m\n",
      "Cell \u001b[0;32mIn[16], line 16\u001b[0m, in \u001b[0;36mLine.slope\u001b[0;34m(self)\u001b[0m\n\u001b[1;32m     14\u001b[0m \u001b[38;5;28;01mdef\u001b[39;00m \u001b[38;5;21mslope\u001b[39m(\u001b[38;5;28mself\u001b[39m):\n\u001b[0;32m---> 16\u001b[0m     \u001b[38;5;28;01mreturn\u001b[39;00m (\u001b[43my2\u001b[49m\u001b[38;5;241m-\u001b[39my1)\u001b[38;5;241m/\u001b[39m(x2\u001b[38;5;241m-\u001b[39mx1)\n",
      "\u001b[0;31mNameError\u001b[0m: name 'y2' is not defined"
     ]
    }
   ],
   "source": [
    "l.slope()"
   ]
  },
  {
   "cell_type": "code",
   "execution_count": 39,
   "id": "cf021e5a",
   "metadata": {},
   "outputs": [],
   "source": [
    "class Account():\n",
    "    \n",
    "    def __init__(self,owner,balance):\n",
    "        self.owner=owner\n",
    "        self.balance=balance\n",
    "    \n",
    "    def deposit(self,deposit):\n",
    "        self.balance=self.balance+deposit\n",
    "        return self.balance\n",
    "    def withdraw(self,withdrawal):\n",
    "        if self.balance>=withdrawal:\n",
    "            self.balance = self.balance-withdrawal\n",
    "            return self.balance\n",
    "        else:\n",
    "            print('Insufficient balance')"
   ]
  },
  {
   "cell_type": "code",
   "execution_count": 41,
   "id": "c0fcc655",
   "metadata": {},
   "outputs": [
    {
     "data": {
      "text/plain": [
       "0"
      ]
     },
     "execution_count": 41,
     "metadata": {},
     "output_type": "execute_result"
    }
   ],
   "source": [
    "acc1=Account('sim',100)\n",
    "acc1.owner\n",
    "acc1.deposit(100)\n",
    "acc1.balance\n",
    "acc1.withdraw(200)"
   ]
  },
  {
   "cell_type": "code",
   "execution_count": 78,
   "id": "74bb7b2f",
   "metadata": {},
   "outputs": [],
   "source": [
    "class Animal():\n",
    "    species='mammal'\n",
    "    def __init__(self,name):\n",
    "        self.name=name \n",
    "        self.breed='la'\n",
    "    def bark(self,weight):\n",
    "        print('WOof   ' + weight)\n",
    "        \n",
    "        \n",
    "class Cat(Animal):\n",
    "    def __init__(self,breed):\n",
    "        Animal.__init__(self,name)\n",
    "        self.breed= breed"
   ]
  },
  {
   "cell_type": "code",
   "execution_count": 80,
   "id": "9409f82a",
   "metadata": {},
   "outputs": [
    {
     "name": "stdout",
     "output_type": "stream",
     "text": [
      "billi\n",
      "la\n",
      "WOof40\n"
     ]
    }
   ],
   "source": [
    "c=Animal('billi')\n",
    "print(c.name)\n",
    "print(c.breed)\n",
    "c.bark('40')"
   ]
  },
  {
   "cell_type": "code",
   "execution_count": 83,
   "id": "07bc157a",
   "metadata": {},
   "outputs": [
    {
     "ename": "AttributeError",
     "evalue": "'Cat' object has no attribute 'name'",
     "output_type": "error",
     "traceback": [
      "\u001b[0;31m---------------------------------------------------------------------------\u001b[0m",
      "\u001b[0;31mAttributeError\u001b[0m                            Traceback (most recent call last)",
      "Cell \u001b[0;32mIn[83], line 2\u001b[0m\n\u001b[1;32m      1\u001b[0m c\u001b[38;5;241m=\u001b[39mCat(\u001b[38;5;124m'\u001b[39m\u001b[38;5;124mkit\u001b[39m\u001b[38;5;124m'\u001b[39m)\n\u001b[0;32m----> 2\u001b[0m \u001b[43mc\u001b[49m\u001b[38;5;241;43m.\u001b[39;49m\u001b[43mname\u001b[49m\n",
      "\u001b[0;31mAttributeError\u001b[0m: 'Cat' object has no attribute 'name'"
     ]
    }
   ],
   "source": [
    "c=Cat('kit')\n",
    "c.name"
   ]
  },
  {
   "cell_type": "code",
   "execution_count": 84,
   "id": "62eddfab",
   "metadata": {},
   "outputs": [
    {
     "data": {
      "text/plain": [
       "'kit'"
      ]
     },
     "execution_count": 84,
     "metadata": {},
     "output_type": "execute_result"
    }
   ],
   "source": [
    "c.breed"
   ]
  },
  {
   "cell_type": "code",
   "execution_count": null,
   "id": "1d1bc87f",
   "metadata": {},
   "outputs": [],
   "source": []
  },
  {
   "cell_type": "code",
   "execution_count": 121,
   "id": "350a81a2",
   "metadata": {},
   "outputs": [],
   "source": [
    "class Animal():\n",
    "    def __init__(self):\n",
    "        print(\"Animal created\")\n",
    "\n",
    "    def whoAmI(self):\n",
    "        print(\"Animals\")\n",
    "\n",
    "    def eat(self):\n",
    "        print(\"Eating\")\n",
    "\n",
    "\n",
    "class Dog(Animal):\n",
    "    def __init__(self):\n",
    "        Animal.__init__(self)      ## where ever you write this line it is calling that animal func to be exeuted\n",
    "        print(\"Dog created\")\n",
    "\n",
    "    def whoAmI(self):\n",
    "        print(\"Dog\")\n",
    "\n",
    "    def bark(self):\n",
    "        print(\"Woof!\")"
   ]
  },
  {
   "cell_type": "code",
   "execution_count": 122,
   "id": "e6cf2d51",
   "metadata": {},
   "outputs": [
    {
     "name": "stdout",
     "output_type": "stream",
     "text": [
      "Animal created\n",
      "Dog created\n",
      "Dog\n"
     ]
    }
   ],
   "source": [
    "fido=Dog()\n",
    "fido.whoAmI()"
   ]
  },
  {
   "cell_type": "code",
   "execution_count": 123,
   "id": "42e3d565",
   "metadata": {},
   "outputs": [
    {
     "name": "stdout",
     "output_type": "stream",
     "text": [
      "Animal created\n",
      "Animals\n"
     ]
    }
   ],
   "source": [
    "a1=Animal()\n",
    "Animal.whoAmI(Animal)"
   ]
  },
  {
   "cell_type": "code",
   "execution_count": 101,
   "id": "f71b9a41",
   "metadata": {},
   "outputs": [],
   "source": [
    "#comparing objects"
   ]
  },
  {
   "cell_type": "code",
   "execution_count": 102,
   "id": "0b583a6a",
   "metadata": {},
   "outputs": [],
   "source": [
    "class Human:\n",
    "    def __init__(self):\n",
    "        self.age=30\n",
    "    def compare(self,other):\n",
    "        return self.age==other.age"
   ]
  },
  {
   "cell_type": "code",
   "execution_count": 116,
   "id": "79176e0f",
   "metadata": {},
   "outputs": [
    {
     "name": "stdout",
     "output_type": "stream",
     "text": [
      "2\n",
      "30 30\n"
     ]
    }
   ],
   "source": [
    "m1=Human()\n",
    "m2=Human()\n",
    "\n",
    "if m1.compare(m2):\n",
    "    print(1+1)\n",
    "    \n",
    "print(m1.age,     m2.age)\n"
   ]
  },
  {
   "cell_type": "code",
   "execution_count": 110,
   "id": "d4725843",
   "metadata": {},
   "outputs": [
    {
     "name": "stdout",
     "output_type": "stream",
     "text": [
      "140315841778816\n"
     ]
    }
   ],
   "source": [
    "print(id(m1))"
   ]
  },
  {
   "cell_type": "code",
   "execution_count": 112,
   "id": "bafb8afb",
   "metadata": {},
   "outputs": [
    {
     "name": "stdout",
     "output_type": "stream",
     "text": [
      "140315830868032\n",
      "140315830868032\n"
     ]
    }
   ],
   "source": [
    "m1=Human()\n",
    "print(id(m1))\n",
    "print(id(m1))"
   ]
  },
  {
   "cell_type": "code",
   "execution_count": 124,
   "id": "493daa21",
   "metadata": {},
   "outputs": [
    {
     "name": "stdout",
     "output_type": "stream",
     "text": [
      "140315841475728\n"
     ]
    }
   ],
   "source": [
    "print(id(m1))\n"
   ]
  },
  {
   "cell_type": "code",
   "execution_count": null,
   "id": "63d151b2",
   "metadata": {},
   "outputs": [],
   "source": []
  },
  {
   "cell_type": "code",
   "execution_count": null,
   "id": "73b8c5b6",
   "metadata": {},
   "outputs": [],
   "source": []
  },
  {
   "cell_type": "code",
   "execution_count": 125,
   "id": "e5ef7cbb",
   "metadata": {},
   "outputs": [],
   "source": [
    "#inner class"
   ]
  },
  {
   "cell_type": "code",
   "execution_count": 149,
   "id": "4ecf0085",
   "metadata": {},
   "outputs": [],
   "source": [
    "class student:\n",
    "    def __init__(self,name):\n",
    "        self.name=name\n",
    "    \n",
    "    class Laptop:\n",
    "        def __init__(self):\n",
    "            self.brand='mac'\n",
    "            "
   ]
  },
  {
   "cell_type": "code",
   "execution_count": 150,
   "id": "4af8dae2",
   "metadata": {},
   "outputs": [
    {
     "data": {
      "text/plain": [
       "'mac'"
      ]
     },
     "execution_count": 150,
     "metadata": {},
     "output_type": "execute_result"
    }
   ],
   "source": [
    "s1=student('sim')\n",
    "lap1=student.Laptop()\n",
    "lap1.brand"
   ]
  },
  {
   "cell_type": "code",
   "execution_count": 187,
   "id": "ff104084",
   "metadata": {},
   "outputs": [],
   "source": [
    "class student:\n",
    "    def __init__(self):\n",
    "        self.name='name'\n",
    "        self.lap=self.Laptop()\n",
    "    \n",
    "    class Laptop:\n",
    "        def __init__(self):\n",
    "            self.brand='mac'"
   ]
  },
  {
   "cell_type": "code",
   "execution_count": 192,
   "id": "16203ee2",
   "metadata": {},
   "outputs": [
    {
     "data": {
      "text/plain": [
       "'mac'"
      ]
     },
     "execution_count": 192,
     "metadata": {},
     "output_type": "execute_result"
    }
   ],
   "source": [
    "s2=student()\n",
    "s2.name\n",
    "s2.lap.brand\n",
    "l2=s2.lap\n",
    "l2.brand"
   ]
  },
  {
   "cell_type": "code",
   "execution_count": 193,
   "id": "4bd17197",
   "metadata": {},
   "outputs": [
    {
     "data": {
      "text/plain": [
       "'mac'"
      ]
     },
     "execution_count": 193,
     "metadata": {},
     "output_type": "execute_result"
    }
   ],
   "source": [
    "lap2=student.Laptop()\n",
    "lap2.brand"
   ]
  },
  {
   "cell_type": "code",
   "execution_count": 185,
   "id": "38d0d24c",
   "metadata": {},
   "outputs": [
    {
     "data": {
      "text/plain": [
       "'mac'"
      ]
     },
     "execution_count": 185,
     "metadata": {},
     "output_type": "execute_result"
    }
   ],
   "source": [
    "lap3=student.Laptop()\n",
    "lap3.brand"
   ]
  },
  {
   "cell_type": "code",
   "execution_count": 1,
   "id": "643dde68",
   "metadata": {},
   "outputs": [],
   "source": [
    "#super method"
   ]
  },
  {
   "cell_type": "code",
   "execution_count": 59,
   "id": "ebfc2803",
   "metadata": {},
   "outputs": [],
   "source": [
    "class Animal:\n",
    "    def __init__(self):\n",
    "        print(\"Animal created\")\n",
    "\n",
    "    def whoAmI(self):\n",
    "        print(\"Animal\")\n",
    "\n",
    "    def eat(self):\n",
    "        print(\"Eating\")\n",
    "\n",
    "\n",
    "class Dog(Animal):\n",
    "    def __init__(self):\n",
    "        super().__init__()\n",
    "        print(\"Dog created\")\n",
    "\n",
    "    def whoAmI(self):\n",
    "        print(\"Dog\")\n",
    "\n",
    "    def bark(self):\n",
    "        print(\"Woof!\")\n",
    "    \n",
    "    def func(self):\n",
    "        super().eat()\n",
    "\n"
   ]
  },
  {
   "cell_type": "code",
   "execution_count": 60,
   "id": "2eff210b",
   "metadata": {},
   "outputs": [
    {
     "name": "stdout",
     "output_type": "stream",
     "text": [
      "Animal created\n",
      "Dog created\n",
      "Eating\n"
     ]
    }
   ],
   "source": [
    "d=Dog()\n",
    "d.func()"
   ]
  },
  {
   "cell_type": "code",
   "execution_count": null,
   "id": "307eaae8",
   "metadata": {},
   "outputs": [],
   "source": []
  },
  {
   "cell_type": "code",
   "execution_count": 1,
   "id": "f1b81b35",
   "metadata": {},
   "outputs": [],
   "source": [
    "#operator overloading"
   ]
  },
  {
   "cell_type": "code",
   "execution_count": 2,
   "id": "e33045ed",
   "metadata": {},
   "outputs": [],
   "source": [
    "class Student:\n",
    "    def __init__(self,m1,m2):\n",
    "        self.m1=m1\n",
    "        self.m2=m2\n",
    "        "
   ]
  },
  {
   "cell_type": "code",
   "execution_count": 4,
   "id": "1786631d",
   "metadata": {},
   "outputs": [],
   "source": [
    "s1=Student(30,20)\n",
    "s2=Student(35,30)"
   ]
  },
  {
   "cell_type": "code",
   "execution_count": 5,
   "id": "66cb2b5f",
   "metadata": {},
   "outputs": [
    {
     "ename": "TypeError",
     "evalue": "unsupported operand type(s) for +: 'Student' and 'Student'",
     "output_type": "error",
     "traceback": [
      "\u001b[0;31m---------------------------------------------------------------------------\u001b[0m",
      "\u001b[0;31mTypeError\u001b[0m                                 Traceback (most recent call last)",
      "Cell \u001b[0;32mIn[5], line 1\u001b[0m\n\u001b[0;32m----> 1\u001b[0m s3\u001b[38;5;241m=\u001b[39m\u001b[43ms1\u001b[49m\u001b[38;5;241;43m+\u001b[39;49m\u001b[43ms2\u001b[49m\n",
      "\u001b[0;31mTypeError\u001b[0m: unsupported operand type(s) for +: 'Student' and 'Student'"
     ]
    }
   ],
   "source": [
    "s3=s1+s2"
   ]
  },
  {
   "cell_type": "code",
   "execution_count": 81,
   "id": "fd96c3a5",
   "metadata": {},
   "outputs": [],
   "source": [
    "class Student:\n",
    "    def __init__(self,m1,m2):\n",
    "        self.m1=m1\n",
    "        self.m2=m2\n",
    "    def __add__(self,other):\n",
    "        m1=self.m1+other.m1\n",
    "        m2=self.m2+other.m2\n",
    "        s3=Student(m1,m2)\n",
    "        return s3\n",
    "    def fun(self,name):\n",
    "        print(name)"
   ]
  },
  {
   "cell_type": "code",
   "execution_count": 82,
   "id": "d58215ff",
   "metadata": {},
   "outputs": [
    {
     "name": "stdout",
     "output_type": "stream",
     "text": [
      "<__main__.Student object at 0x7f9d611a87c0>\n",
      "<__main__.Student object at 0x7f9d61c64e80>\n"
     ]
    }
   ],
   "source": [
    "\n",
    "s1=Student(30,20)\n",
    "print(s1)\n",
    "s2=Student(25,30)\n",
    "s5=s1+s2\n",
    "s5\n",
    "print(s5)"
   ]
  },
  {
   "cell_type": "code",
   "execution_count": 83,
   "id": "8b1e9310",
   "metadata": {},
   "outputs": [
    {
     "data": {
      "text/plain": [
       "55"
      ]
     },
     "execution_count": 83,
     "metadata": {},
     "output_type": "execute_result"
    }
   ],
   "source": [
    "s5.m1"
   ]
  },
  {
   "cell_type": "code",
   "execution_count": 84,
   "id": "0fec37ff",
   "metadata": {},
   "outputs": [
    {
     "name": "stdout",
     "output_type": "stream",
     "text": [
      "sim\n"
     ]
    }
   ],
   "source": [
    "s5.fun('sim')"
   ]
  },
  {
   "cell_type": "code",
   "execution_count": 85,
   "id": "db6add4c",
   "metadata": {},
   "outputs": [
    {
     "data": {
      "text/plain": [
       "11"
      ]
     },
     "execution_count": 85,
     "metadata": {},
     "output_type": "execute_result"
    }
   ],
   "source": [
    "a=5\n",
    "b=6\n",
    "a+b"
   ]
  },
  {
   "cell_type": "code",
   "execution_count": 86,
   "id": "654e82f8",
   "metadata": {},
   "outputs": [
    {
     "data": {
      "text/plain": [
       "11"
      ]
     },
     "execution_count": 86,
     "metadata": {},
     "output_type": "execute_result"
    }
   ],
   "source": [
    "int.__add__(5,6)"
   ]
  },
  {
   "cell_type": "code",
   "execution_count": 87,
   "id": "487dc66e",
   "metadata": {},
   "outputs": [
    {
     "data": {
      "text/plain": [
       "'90'"
      ]
     },
     "execution_count": 87,
     "metadata": {},
     "output_type": "execute_result"
    }
   ],
   "source": [
    "a=90\n",
    "a.__str__()"
   ]
  },
  {
   "cell_type": "code",
   "execution_count": 88,
   "id": "0eb990d8",
   "metadata": {},
   "outputs": [
    {
     "data": {
      "text/plain": [
       "<__main__.Student at 0x7f9d61c64e80>"
      ]
     },
     "execution_count": 88,
     "metadata": {},
     "output_type": "execute_result"
    }
   ],
   "source": [
    "s5\n"
   ]
  },
  {
   "cell_type": "code",
   "execution_count": 89,
   "id": "bdcbfc3b",
   "metadata": {},
   "outputs": [],
   "source": [
    "class Student:\n",
    "    def __init__(self,m1,m2):\n",
    "        self.m1=m1\n",
    "        self.m2=m2\n",
    "    def __add__(self,other):\n",
    "        m1=self.m1+other.m1\n",
    "        m2=self.m2+other.m2\n",
    "        s3=Student(m1,m2)\n",
    "        return s3\n",
    "    def fun(self,name):\n",
    "        print(name)\n",
    "    def __str__(self):\n",
    "        return '{} {}'.format(self.m1,self.m2)"
   ]
  },
  {
   "cell_type": "code",
   "execution_count": 90,
   "id": "222801e8",
   "metadata": {},
   "outputs": [
    {
     "name": "stdout",
     "output_type": "stream",
     "text": [
      "30 20\n"
     ]
    }
   ],
   "source": [
    "s1=Student(30,20)\n",
    "print(s1)"
   ]
  },
  {
   "cell_type": "code",
   "execution_count": 91,
   "id": "feaf00c6",
   "metadata": {},
   "outputs": [
    {
     "data": {
      "text/plain": [
       "'30 20'"
      ]
     },
     "execution_count": 91,
     "metadata": {},
     "output_type": "execute_result"
    }
   ],
   "source": [
    "s1.__str__()"
   ]
  },
  {
   "cell_type": "code",
   "execution_count": null,
   "id": "27dbd72e",
   "metadata": {},
   "outputs": [],
   "source": []
  },
  {
   "cell_type": "code",
   "execution_count": 100,
   "id": "e7bb43ea",
   "metadata": {},
   "outputs": [],
   "source": [
    "def sum(a=None,b=None,c=0):\n",
    "    print(a+b+c)"
   ]
  },
  {
   "cell_type": "code",
   "execution_count": 101,
   "id": "892391bb",
   "metadata": {},
   "outputs": [
    {
     "name": "stdout",
     "output_type": "stream",
     "text": [
      "5\n"
     ]
    }
   ],
   "source": [
    "d=sum(2,3)"
   ]
  },
  {
   "cell_type": "code",
   "execution_count": null,
   "id": "2a2ecec6",
   "metadata": {},
   "outputs": [],
   "source": []
  },
  {
   "cell_type": "code",
   "execution_count": null,
   "id": "200c587e",
   "metadata": {},
   "outputs": [],
   "source": []
  }
 ],
 "metadata": {
  "kernelspec": {
   "display_name": "Python 3 (ipykernel)",
   "language": "python",
   "name": "python3"
  },
  "language_info": {
   "codemirror_mode": {
    "name": "ipython",
    "version": 3
   },
   "file_extension": ".py",
   "mimetype": "text/x-python",
   "name": "python",
   "nbconvert_exporter": "python",
   "pygments_lexer": "ipython3",
   "version": "3.10.9"
  }
 },
 "nbformat": 4,
 "nbformat_minor": 5
}
