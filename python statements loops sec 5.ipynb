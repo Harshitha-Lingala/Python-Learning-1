{
 "cells": [
  {
   "cell_type": "code",
   "execution_count": 2,
   "id": "59812afe",
   "metadata": {},
   "outputs": [
    {
     "name": "stdout",
     "output_type": "stream",
     "text": [
      "simmi\n"
     ]
    }
   ],
   "source": [
    "if True:\n",
    "    print('simmi')"
   ]
  },
  {
   "cell_type": "code",
   "execution_count": 3,
   "id": "9b1e6149",
   "metadata": {},
   "outputs": [
    {
     "name": "stdout",
     "output_type": "stream",
     "text": [
      "simmi\n"
     ]
    }
   ],
   "source": [
    "3>2\n",
    "if True:\n",
    "    print('simmi')\n"
   ]
  },
  {
   "cell_type": "code",
   "execution_count": 3,
   "id": "ede002c0",
   "metadata": {},
   "outputs": [
    {
     "name": "stdout",
     "output_type": "stream",
     "text": [
      "simmi\n"
     ]
    }
   ],
   "source": [
    "'harshitha'!='good'\n",
    "if True:\n",
    "    print('simmi')\n",
    "else:\n",
    "    print('wrong')"
   ]
  },
  {
   "cell_type": "code",
   "execution_count": 14,
   "id": "df1d7cb5",
   "metadata": {},
   "outputs": [
    {
     "name": "stdout",
     "output_type": "stream",
     "text": [
      "sim\n"
     ]
    }
   ],
   "source": [
    "harshitha='good'\n",
    "if harshitha=='bad':\n",
    "    print('girl')\n",
    "else:\n",
    "    print('sim')"
   ]
  },
  {
   "cell_type": "code",
   "execution_count": 29,
   "id": "1070058f",
   "metadata": {},
   "outputs": [
    {
     "name": "stdout",
     "output_type": "stream",
     "text": [
      "a\n",
      "b\n",
      "c\n"
     ]
    },
    {
     "ename": "NameError",
     "evalue": "name 'b' is not defined",
     "output_type": "error",
     "traceback": [
      "\u001b[0;31m---------------------------------------------------------------------------\u001b[0m",
      "\u001b[0;31mNameError\u001b[0m                                 Traceback (most recent call last)",
      "Cell \u001b[0;32mIn[29], line 5\u001b[0m\n\u001b[1;32m      2\u001b[0m     \u001b[38;5;28mprint\u001b[39m(letter)\n\u001b[1;32m      4\u001b[0m a\u001b[38;5;241m=\u001b[39m\u001b[38;5;124m'\u001b[39m\u001b[38;5;124msim\u001b[39m\u001b[38;5;124m'\u001b[39m   \n\u001b[0;32m----> 5\u001b[0m \u001b[38;5;28;01mfor\u001b[39;00m letter \u001b[38;5;129;01min\u001b[39;00m [a,\u001b[38;5;241m10\u001b[39m,\u001b[43mb\u001b[49m,\u001b[38;5;124m'\u001b[39m\u001b[38;5;124mc\u001b[39m\u001b[38;5;124m'\u001b[39m]:\n\u001b[1;32m      6\u001b[0m     \u001b[38;5;28mprint\u001b[39m(letter)\n",
      "\u001b[0;31mNameError\u001b[0m: name 'b' is not defined"
     ]
    }
   ],
   "source": [
    "for letter in ['a','b','c']:\n",
    "    print(letter)\n",
    "    \n",
    "a='sim'   \n",
    "for letter in [a,10,b,'c']:\n",
    "    print(letter)"
   ]
  },
  {
   "cell_type": "code",
   "execution_count": 28,
   "id": "30d714fa",
   "metadata": {},
   "outputs": [
    {
     "name": "stdout",
     "output_type": "stream",
     "text": [
      "gtr\n",
      "gtr\n",
      "gtr\n",
      "gtr\n"
     ]
    }
   ],
   "source": [
    "for x in [1,2,3,4]:\n",
    "    print('gtr')\n",
    "    "
   ]
  },
  {
   "cell_type": "code",
   "execution_count": 18,
   "id": "36ec2761",
   "metadata": {},
   "outputs": [
    {
     "name": "stdout",
     "output_type": "stream",
     "text": [
      "('e', 'r')\n",
      "('x', 'y')\n"
     ]
    }
   ],
   "source": [
    "for tup in [('e','r'),('x','y')]:\n",
    "    print(tup)"
   ]
  },
  {
   "cell_type": "code",
   "execution_count": 55,
   "id": "8838fb77",
   "metadata": {},
   "outputs": [],
   "source": [
    "d={'k1':4,'k2':6}\n"
   ]
  },
  {
   "cell_type": "code",
   "execution_count": 56,
   "id": "04b24427",
   "metadata": {},
   "outputs": [
    {
     "name": "stdout",
     "output_type": "stream",
     "text": [
      "k1\n",
      "k2\n"
     ]
    }
   ],
   "source": [
    "for tup in d:\n",
    "    print(tup)"
   ]
  },
  {
   "cell_type": "code",
   "execution_count": 57,
   "id": "3b5f02f3",
   "metadata": {},
   "outputs": [
    {
     "name": "stdout",
     "output_type": "stream",
     "text": [
      "k1\n",
      "k2\n"
     ]
    }
   ],
   "source": [
    "for tup in d.keys():\n",
    "    print(tup)"
   ]
  },
  {
   "cell_type": "code",
   "execution_count": 58,
   "id": "6d232d90",
   "metadata": {},
   "outputs": [
    {
     "name": "stdout",
     "output_type": "stream",
     "text": [
      "4\n",
      "6\n"
     ]
    }
   ],
   "source": [
    "for tup in d.values():\n",
    "    print(tup)"
   ]
  },
  {
   "cell_type": "code",
   "execution_count": 59,
   "id": "c60966f1",
   "metadata": {},
   "outputs": [
    {
     "name": "stdout",
     "output_type": "stream",
     "text": [
      "('k1', 4)\n",
      "('k2', 6)\n"
     ]
    }
   ],
   "source": [
    "for tup in d.items():\n",
    "    print(tup)"
   ]
  },
  {
   "cell_type": "code",
   "execution_count": 68,
   "id": "9f1f3979",
   "metadata": {},
   "outputs": [
    {
     "name": "stdout",
     "output_type": "stream",
     "text": [
      "odd\n",
      "even\n",
      "odd\n",
      "odd\n",
      "even\n",
      "odd\n",
      "even\n"
     ]
    }
   ],
   "source": [
    "a=[1,2,3,3,4,5,6]\n",
    "for tup in a:\n",
    "    if tup%2==0:\n",
    "        print('even')\n",
    "    else: \n",
    "        print('odd')"
   ]
  },
  {
   "cell_type": "code",
   "execution_count": 70,
   "id": "8d9a9167",
   "metadata": {},
   "outputs": [
    {
     "name": "stdout",
     "output_type": "stream",
     "text": [
      "h\n",
      "e\n",
      "l\n",
      " \n",
      "l\n",
      "o\n"
     ]
    }
   ],
   "source": [
    "for num in('hel lo'):\n",
    "    print(num)"
   ]
  },
  {
   "cell_type": "code",
   "execution_count": 83,
   "id": "e6343bdb",
   "metadata": {},
   "outputs": [
    {
     "name": "stdout",
     "output_type": "stream",
     "text": [
      "2\n",
      "4\n"
     ]
    }
   ],
   "source": [
    "for g,h in ((1,2),(3,4)):\n",
    "    print (h)"
   ]
  },
  {
   "cell_type": "code",
   "execution_count": 56,
   "id": "07a71eb0",
   "metadata": {},
   "outputs": [
    {
     "ename": "NameError",
     "evalue": "name 'g' is not defined",
     "output_type": "error",
     "traceback": [
      "\u001b[0;31m---------------------------------------------------------------------------\u001b[0m",
      "\u001b[0;31mNameError\u001b[0m                                 Traceback (most recent call last)",
      "Cell \u001b[0;32mIn[56], line 1\u001b[0m\n\u001b[0;32m----> 1\u001b[0m \u001b[38;5;28;01mfor\u001b[39;00m x \u001b[38;5;129;01min\u001b[39;00m [\u001b[43mg\u001b[49m,h,\u001b[38;5;124m'\u001b[39m\u001b[38;5;124mc\u001b[39m\u001b[38;5;124m'\u001b[39m]:\n\u001b[1;32m      2\u001b[0m     \u001b[38;5;28mprint\u001b[39m(x)\n",
      "\u001b[0;31mNameError\u001b[0m: name 'g' is not defined"
     ]
    }
   ],
   "source": [
    "for x in [g,h,'c']:\n",
    "    print(x)"
   ]
  },
  {
   "cell_type": "code",
   "execution_count": 57,
   "id": "26d4706b",
   "metadata": {},
   "outputs": [
    {
     "ename": "TypeError",
     "evalue": "'range' object is not callable",
     "output_type": "error",
     "traceback": [
      "\u001b[0;31m---------------------------------------------------------------------------\u001b[0m",
      "\u001b[0;31mTypeError\u001b[0m                                 Traceback (most recent call last)",
      "Cell \u001b[0;32mIn[57], line 1\u001b[0m\n\u001b[0;32m----> 1\u001b[0m \u001b[38;5;28mprint\u001b[39m(\u001b[38;5;28;43mlist\u001b[39;49m\u001b[43m(\u001b[49m\u001b[38;5;28;43mrange\u001b[39;49m\u001b[43m(\u001b[49m\u001b[38;5;241;43m10\u001b[39;49m\u001b[43m)\u001b[49m\u001b[43m)\u001b[49m)\n",
      "\u001b[0;31mTypeError\u001b[0m: 'range' object is not callable"
     ]
    }
   ],
   "source": [
    "print(list(range(10)))"
   ]
  },
  {
   "cell_type": "code",
   "execution_count": 58,
   "id": "96704ad1",
   "metadata": {},
   "outputs": [
    {
     "ename": "TypeError",
     "evalue": "'str' object cannot be interpreted as an integer",
     "output_type": "error",
     "traceback": [
      "\u001b[0;31m---------------------------------------------------------------------------\u001b[0m",
      "\u001b[0;31mTypeError\u001b[0m                                 Traceback (most recent call last)",
      "Cell \u001b[0;32mIn[58], line 1\u001b[0m\n\u001b[0;32m----> 1\u001b[0m \u001b[38;5;28mlist\u001b[39m(\u001b[38;5;28;43mrange\u001b[39;49m\u001b[43m(\u001b[49m\u001b[38;5;124;43m'\u001b[39;49m\u001b[38;5;124;43ma\u001b[39;49m\u001b[38;5;124;43m'\u001b[39;49m\u001b[43m,\u001b[49m\u001b[38;5;124;43m'\u001b[39;49m\u001b[38;5;124;43mz\u001b[39;49m\u001b[38;5;124;43m'\u001b[39;49m\u001b[43m)\u001b[49m)\n",
      "\u001b[0;31mTypeError\u001b[0m: 'str' object cannot be interpreted as an integer"
     ]
    }
   ],
   "source": [
    "list(range('a','z'))"
   ]
  },
  {
   "cell_type": "code",
   "execution_count": 59,
   "id": "dc1aaf49",
   "metadata": {},
   "outputs": [
    {
     "data": {
      "text/plain": [
       "range(0, 19, 4)"
      ]
     },
     "execution_count": 59,
     "metadata": {},
     "output_type": "execute_result"
    }
   ],
   "source": [
    "range(0,19,4)"
   ]
  },
  {
   "cell_type": "code",
   "execution_count": 88,
   "id": "68d220a5",
   "metadata": {},
   "outputs": [
    {
     "name": "stdout",
     "output_type": "stream",
     "text": [
      "0\n",
      "1\n",
      "2\n",
      "3\n",
      "4\n",
      "5\n",
      "6\n",
      "7\n",
      "8\n",
      "9\n"
     ]
    }
   ],
   "source": [
    "for item in range(10):\n",
    "    print(item)"
   ]
  },
  {
   "cell_type": "code",
   "execution_count": 89,
   "id": "c8c4f15d",
   "metadata": {},
   "outputs": [
    {
     "ename": "NameError",
     "evalue": "name 'mystr' is not defined",
     "output_type": "error",
     "traceback": [
      "\u001b[0;31m---------------------------------------------------------------------------\u001b[0m",
      "\u001b[0;31mNameError\u001b[0m                                 Traceback (most recent call last)",
      "Cell \u001b[0;32mIn[89], line 1\u001b[0m\n\u001b[0;32m----> 1\u001b[0m \u001b[38;5;28menumerate\u001b[39m(\u001b[43mmystr\u001b[49m)\n",
      "\u001b[0;31mNameError\u001b[0m: name 'mystr' is not defined"
     ]
    }
   ],
   "source": [
    "enumerate(mystr)"
   ]
  },
  {
   "cell_type": "code",
   "execution_count": 90,
   "id": "fda9add6",
   "metadata": {},
   "outputs": [
    {
     "name": "stdout",
     "output_type": "stream",
     "text": [
      "<enumerate object at 0x7fbdbd84bd00>\n"
     ]
    }
   ],
   "source": [
    "str={'k1':100,'k2':200}\n",
    "print(enumerate(str))"
   ]
  },
  {
   "cell_type": "code",
   "execution_count": 91,
   "id": "4b55c0e8",
   "metadata": {},
   "outputs": [
    {
     "data": {
      "text/plain": [
       "enumerate"
      ]
     },
     "execution_count": 91,
     "metadata": {},
     "output_type": "execute_result"
    }
   ],
   "source": [
    "type(enumerate(str))"
   ]
  },
  {
   "cell_type": "code",
   "execution_count": 92,
   "id": "d136825f",
   "metadata": {},
   "outputs": [
    {
     "name": "stdout",
     "output_type": "stream",
     "text": [
      "(0, 'k1')\n",
      "(1, 'k2')\n"
     ]
    }
   ],
   "source": [
    "for index in enumerate(str.keys()):\n",
    "    print(index)"
   ]
  },
  {
   "cell_type": "code",
   "execution_count": 93,
   "id": "df5ddea1",
   "metadata": {},
   "outputs": [
    {
     "data": {
      "text/plain": [
       "True"
      ]
     },
     "execution_count": 93,
     "metadata": {},
     "output_type": "execute_result"
    }
   ],
   "source": [
    "2 in [1,2]"
   ]
  },
  {
   "cell_type": "code",
   "execution_count": 94,
   "id": "b2bd817e",
   "metadata": {},
   "outputs": [
    {
     "ename": "TypeError",
     "evalue": "'in <string>' requires string as left operand, not int",
     "output_type": "error",
     "traceback": [
      "\u001b[0;31m---------------------------------------------------------------------------\u001b[0m",
      "\u001b[0;31mTypeError\u001b[0m                                 Traceback (most recent call last)",
      "Cell \u001b[0;32mIn[94], line 1\u001b[0m\n\u001b[0;32m----> 1\u001b[0m \u001b[38;5;241;43m2\u001b[39;49m\u001b[43m \u001b[49m\u001b[38;5;129;43;01min\u001b[39;49;00m\u001b[43m \u001b[49m\u001b[38;5;124;43m'\u001b[39;49m\u001b[38;5;124;43m123456\u001b[39;49m\u001b[38;5;124;43m'\u001b[39;49m\n",
      "\u001b[0;31mTypeError\u001b[0m: 'in <string>' requires string as left operand, not int"
     ]
    }
   ],
   "source": [
    "2 in '123456'"
   ]
  },
  {
   "cell_type": "code",
   "execution_count": 95,
   "id": "ad989bec",
   "metadata": {},
   "outputs": [
    {
     "data": {
      "text/plain": [
       "True"
      ]
     },
     "execution_count": 95,
     "metadata": {},
     "output_type": "execute_result"
    }
   ],
   "source": [
    "'k1' in str"
   ]
  },
  {
   "cell_type": "code",
   "execution_count": 96,
   "id": "7d6363e6",
   "metadata": {},
   "outputs": [
    {
     "data": {
      "text/plain": [
       "False"
      ]
     },
     "execution_count": 96,
     "metadata": {},
     "output_type": "execute_result"
    }
   ],
   "source": [
    "100 in str"
   ]
  },
  {
   "cell_type": "code",
   "execution_count": 97,
   "id": "0920a4d9",
   "metadata": {},
   "outputs": [
    {
     "data": {
      "text/plain": [
       "True"
      ]
     },
     "execution_count": 97,
     "metadata": {},
     "output_type": "execute_result"
    }
   ],
   "source": [
    "100 in str.values()"
   ]
  },
  {
   "cell_type": "code",
   "execution_count": 98,
   "id": "261423ed",
   "metadata": {},
   "outputs": [
    {
     "data": {
      "text/plain": [
       "5"
      ]
     },
     "execution_count": 98,
     "metadata": {},
     "output_type": "execute_result"
    }
   ],
   "source": [
    "max(range(0,10,5))"
   ]
  },
  {
   "cell_type": "code",
   "execution_count": 3,
   "id": "b1b6bcf2",
   "metadata": {},
   "outputs": [
    {
     "name": "stdout",
     "output_type": "stream",
     "text": [
      "name:ji\n"
     ]
    },
    {
     "ename": "ValueError",
     "evalue": "invalid literal for int() with base 10: 'ji'",
     "output_type": "error",
     "traceback": [
      "\u001b[0;31m---------------------------------------------------------------------------\u001b[0m",
      "\u001b[0;31mValueError\u001b[0m                                Traceback (most recent call last)",
      "Cell \u001b[0;32mIn[3], line 1\u001b[0m\n\u001b[0;32m----> 1\u001b[0m \u001b[38;5;28;43mint\u001b[39;49m\u001b[43m(\u001b[49m\u001b[38;5;28;43minput\u001b[39;49m\u001b[43m(\u001b[49m\u001b[38;5;124;43m'\u001b[39;49m\u001b[38;5;124;43mname:\u001b[39;49m\u001b[38;5;124;43m'\u001b[39;49m\u001b[43m)\u001b[49m\u001b[43m)\u001b[49m\n",
      "\u001b[0;31mValueError\u001b[0m: invalid literal for int() with base 10: 'ji'"
     ]
    }
   ],
   "source": [
    "int(input('name:'))\n"
   ]
  },
  {
   "cell_type": "code",
   "execution_count": 6,
   "id": "0a59deed",
   "metadata": {},
   "outputs": [
    {
     "data": {
      "text/plain": [
       "[(1, 'a'), (2, 'b')]"
      ]
     },
     "execution_count": 6,
     "metadata": {},
     "output_type": "execute_result"
    }
   ],
   "source": [
    "l1=[1,2,3]\n",
    "l2=['a','b']\n",
    "list(zip(l1,l2))"
   ]
  },
  {
   "cell_type": "code",
   "execution_count": 101,
   "id": "fe9daa0c",
   "metadata": {},
   "outputs": [
    {
     "name": "stdout",
     "output_type": "stream",
     "text": [
      "(1, 'a')\n",
      "(2, 'b')\n"
     ]
    }
   ],
   "source": [
    "for num in zip(l1,l2):\n",
    "    print(num)"
   ]
  },
  {
   "cell_type": "code",
   "execution_count": 102,
   "id": "3573f40d",
   "metadata": {},
   "outputs": [
    {
     "data": {
      "text/plain": [
       "63"
      ]
     },
     "execution_count": 102,
     "metadata": {},
     "output_type": "execute_result"
    }
   ],
   "source": [
    "from random import randint\n",
    "\n",
    "randint(0,100)"
   ]
  },
  {
   "cell_type": "code",
   "execution_count": 103,
   "id": "30ab42ca",
   "metadata": {},
   "outputs": [
    {
     "data": {
      "text/plain": [
       "['a', 'b']"
      ]
     },
     "execution_count": 103,
     "metadata": {},
     "output_type": "execute_result"
    }
   ],
   "source": [
    "l2"
   ]
  },
  {
   "cell_type": "code",
   "execution_count": 104,
   "id": "fee47139",
   "metadata": {},
   "outputs": [],
   "source": [
    "#list comprehensions\n"
   ]
  },
  {
   "cell_type": "code",
   "execution_count": 105,
   "id": "74e58f22",
   "metadata": {},
   "outputs": [],
   "source": [
    "str='simmi'\n",
    "list=[]\n",
    "for x in str:\n",
    "    list.append(x)"
   ]
  },
  {
   "cell_type": "code",
   "execution_count": 106,
   "id": "1876cac3",
   "metadata": {},
   "outputs": [
    {
     "data": {
      "text/plain": [
       "['s', 'i', 'm', 'm', 'i']"
      ]
     },
     "execution_count": 106,
     "metadata": {},
     "output_type": "execute_result"
    }
   ],
   "source": [
    "list\n"
   ]
  },
  {
   "cell_type": "code",
   "execution_count": 107,
   "id": "3eeecbc8",
   "metadata": {},
   "outputs": [
    {
     "data": {
      "text/plain": [
       "['simmi']"
      ]
     },
     "execution_count": 107,
     "metadata": {},
     "output_type": "execute_result"
    }
   ],
   "source": [
    "str.split('a')"
   ]
  },
  {
   "cell_type": "code",
   "execution_count": 108,
   "id": "40ac32c9",
   "metadata": {},
   "outputs": [
    {
     "data": {
      "text/plain": [
       "['i ', 'm ', 'n idiot']"
      ]
     },
     "execution_count": 108,
     "metadata": {},
     "output_type": "execute_result"
    }
   ],
   "source": [
    "s='i am an idiot'\n",
    "s.split('a')"
   ]
  },
  {
   "cell_type": "code",
   "execution_count": 109,
   "id": "e05346ff",
   "metadata": {},
   "outputs": [],
   "source": [
    "list=[letter for letter in str]"
   ]
  },
  {
   "cell_type": "code",
   "execution_count": 81,
   "id": "dc1c377d",
   "metadata": {},
   "outputs": [
    {
     "data": {
      "text/plain": [
       "['s', 'i', 'm', 'm', 'i']"
      ]
     },
     "execution_count": 81,
     "metadata": {},
     "output_type": "execute_result"
    }
   ],
   "source": [
    "list"
   ]
  },
  {
   "cell_type": "code",
   "execution_count": 82,
   "id": "89f666ba",
   "metadata": {},
   "outputs": [
    {
     "name": "stdout",
     "output_type": "stream",
     "text": [
      "10\n",
      "100\n",
      "20\n",
      "200\n",
      "30\n",
      "300\n"
     ]
    }
   ],
   "source": [
    "x=[1,2,3]\n",
    "y=[10,100]\n",
    "list=[]\n",
    "type(x)\n",
    "for num1 in x:\n",
    "    for num2 in y:\n",
    "       print(num1*num2)"
   ]
  },
  {
   "cell_type": "code",
   "execution_count": 7,
   "id": "9a7d47e8",
   "metadata": {},
   "outputs": [
    {
     "data": {
      "text/plain": [
       "list"
      ]
     },
     "execution_count": 7,
     "metadata": {},
     "output_type": "execute_result"
    }
   ],
   "source": [
    "x=[1,2,3]\n",
    "y=[10,100]\n",
    "type(x)\n"
   ]
  },
  {
   "cell_type": "code",
   "execution_count": 10,
   "id": "ffd9e253",
   "metadata": {},
   "outputs": [],
   "source": [
    "list=[a*b for a in x for b in y]"
   ]
  },
  {
   "cell_type": "code",
   "execution_count": 11,
   "id": "0de47c7f",
   "metadata": {},
   "outputs": [
    {
     "data": {
      "text/plain": [
       "[10, 100, 20, 200, 30, 300]"
      ]
     },
     "execution_count": 11,
     "metadata": {},
     "output_type": "execute_result"
    }
   ],
   "source": [
    "list "
   ]
  },
  {
   "cell_type": "code",
   "execution_count": 12,
   "id": "7c625c0e",
   "metadata": {},
   "outputs": [
    {
     "data": {
      "text/plain": [
       "range(0, 10)"
      ]
     },
     "execution_count": 12,
     "metadata": {},
     "output_type": "execute_result"
    }
   ],
   "source": [
    "range(10)"
   ]
  },
  {
   "cell_type": "code",
   "execution_count": 13,
   "id": "5145dd92",
   "metadata": {},
   "outputs": [],
   "source": [
    "list=range(10)"
   ]
  },
  {
   "cell_type": "code",
   "execution_count": 16,
   "id": "ff6a8896",
   "metadata": {},
   "outputs": [
    {
     "name": "stdout",
     "output_type": "stream",
     "text": [
      "range(0, 10)\n"
     ]
    }
   ],
   "source": [
    "#print(list(range(10)))\n",
    "print(list)"
   ]
  },
  {
   "cell_type": "code",
   "execution_count": 54,
   "id": "c797fdb7",
   "metadata": {},
   "outputs": [
    {
     "name": "stdout",
     "output_type": "stream",
     "text": [
      "0\n",
      "1\n",
      "2\n",
      "3\n",
      "4\n",
      "5\n",
      "6\n",
      "7\n",
      "8\n",
      "9\n"
     ]
    }
   ],
   "source": [
    "for n in range(10):\n",
    "    print(n)"
   ]
  },
  {
   "cell_type": "code",
   "execution_count": 112,
   "id": "a4124ea6",
   "metadata": {},
   "outputs": [
    {
     "name": "stdout",
     "output_type": "stream",
     "text": [
      "0\n",
      "2\n",
      "4\n",
      "6\n",
      "8\n",
      "10\n"
     ]
    }
   ],
   "source": [
    "for n in range(0,11,2):\n",
    "    print(n)"
   ]
  },
  {
   "cell_type": "code",
   "execution_count": 120,
   "id": "04a8d06b",
   "metadata": {},
   "outputs": [
    {
     "ename": "TypeError",
     "evalue": "'list' object is not callable",
     "output_type": "error",
     "traceback": [
      "\u001b[0;31m---------------------------------------------------------------------------\u001b[0m",
      "\u001b[0;31mTypeError\u001b[0m                                 Traceback (most recent call last)",
      "Cell \u001b[0;32mIn[120], line 1\u001b[0m\n\u001b[0;32m----> 1\u001b[0m \u001b[38;5;28;43mlist\u001b[39;49m\u001b[43m(\u001b[49m\u001b[38;5;28;43mrange\u001b[39;49m\u001b[43m(\u001b[49m\u001b[38;5;241;43m0\u001b[39;49m\u001b[43m,\u001b[49m\u001b[38;5;241;43m11\u001b[39;49m\u001b[43m,\u001b[49m\u001b[38;5;241;43m2\u001b[39;49m\u001b[43m)\u001b[49m\u001b[43m)\u001b[49m\n",
      "\u001b[0;31mTypeError\u001b[0m: 'list' object is not callable"
     ]
    }
   ],
   "source": [
    "list(range(0,11,2))"
   ]
  },
  {
   "cell_type": "code",
   "execution_count": 118,
   "id": "80d538b1",
   "metadata": {},
   "outputs": [
    {
     "ename": "TypeError",
     "evalue": "'list' object is not callable",
     "output_type": "error",
     "traceback": [
      "\u001b[0;31m---------------------------------------------------------------------------\u001b[0m",
      "\u001b[0;31mTypeError\u001b[0m                                 Traceback (most recent call last)",
      "Cell \u001b[0;32mIn[118], line 1\u001b[0m\n\u001b[0;32m----> 1\u001b[0m \u001b[38;5;28mprint\u001b[39m(\u001b[38;5;28;43mlist\u001b[39;49m\u001b[43m(\u001b[49m\u001b[38;5;28;43mrange\u001b[39;49m\u001b[43m(\u001b[49m\u001b[38;5;241;43m10\u001b[39;49m\u001b[43m)\u001b[49m\u001b[43m)\u001b[49m)\n",
      "\u001b[0;31mTypeError\u001b[0m: 'list' object is not callable"
     ]
    }
   ],
   "source": [
    "print(list(range(10)))"
   ]
  },
  {
   "cell_type": "code",
   "execution_count": 121,
   "id": "068ce7c2",
   "metadata": {},
   "outputs": [],
   "source": [
    "c=[0,10,20]\n",
    "f=[]\n",
    "for x in c:\n",
    "    f.append(((9/5)*x)+32)"
   ]
  },
  {
   "cell_type": "code",
   "execution_count": 122,
   "id": "c01388de",
   "metadata": {},
   "outputs": [
    {
     "data": {
      "text/plain": [
       "[32.0, 50.0, 68.0]"
      ]
     },
     "execution_count": 122,
     "metadata": {},
     "output_type": "execute_result"
    }
   ],
   "source": [
    "f"
   ]
  },
  {
   "cell_type": "code",
   "execution_count": 123,
   "id": "6a1e0662",
   "metadata": {},
   "outputs": [],
   "source": [
    "f=[((9/5)*x)+32 for x in c]"
   ]
  },
  {
   "cell_type": "code",
   "execution_count": 124,
   "id": "632d4ee2",
   "metadata": {},
   "outputs": [
    {
     "data": {
      "text/plain": [
       "[32.0, 50.0, 68.0]"
      ]
     },
     "execution_count": 124,
     "metadata": {},
     "output_type": "execute_result"
    }
   ],
   "source": [
    "f"
   ]
  },
  {
   "cell_type": "code",
   "execution_count": 133,
   "id": "ca789b96",
   "metadata": {},
   "outputs": [],
   "source": [
    "list=[1,2,3,4,5,6,7]\n",
    "even=[x/2 if x%2==0 else 'odd' for x in range(20) ]"
   ]
  },
  {
   "cell_type": "code",
   "execution_count": 134,
   "id": "114b5fe5",
   "metadata": {},
   "outputs": [
    {
     "data": {
      "text/plain": [
       "[0.0,\n",
       " 'odd',\n",
       " 1.0,\n",
       " 'odd',\n",
       " 2.0,\n",
       " 'odd',\n",
       " 3.0,\n",
       " 'odd',\n",
       " 4.0,\n",
       " 'odd',\n",
       " 5.0,\n",
       " 'odd',\n",
       " 6.0,\n",
       " 'odd',\n",
       " 7.0,\n",
       " 'odd',\n",
       " 8.0,\n",
       " 'odd',\n",
       " 9.0,\n",
       " 'odd']"
      ]
     },
     "execution_count": 134,
     "metadata": {},
     "output_type": "execute_result"
    }
   ],
   "source": [
    "even"
   ]
  },
  {
   "cell_type": "markdown",
   "id": "53617c26",
   "metadata": {},
   "source": [
    " def player_guess(): \n",
    "    guess='' # you have to define a variable before using it \n",
    "    while guess not in ['0','1','2']:\n",
    "        guess = input('choose the cup from 0/1/2:') \n",
    "        return guess\n",
    "    return int(guess)"
   ]
  },
  {
   "cell_type": "markdown",
   "id": "2e40f56c",
   "metadata": {},
   "source": [
    "`"
   ]
  },
  {
   "cell_type": "code",
   "execution_count": null,
   "id": "53e884e3",
   "metadata": {},
   "outputs": [],
   "source": [
    "def player_guess(): \n",
    "    guess='' # you have to define a variable before using it \n",
    "    while guess not in ['0','1','2']:\n",
    "        guess = input('choose the cup from 0/1/2:') \n",
    "        return guess\n",
    "    return int(guess)"
   ]
  },
  {
   "cell_type": "code",
   "execution_count": 1,
   "id": "10af0d5d",
   "metadata": {},
   "outputs": [
    {
     "ename": "NameError",
     "evalue": "name 'pla' is not defined",
     "output_type": "error",
     "traceback": [
      "\u001b[0;31m---------------------------------------------------------------------------\u001b[0m",
      "\u001b[0;31mNameError\u001b[0m                                 Traceback (most recent call last)",
      "Cell \u001b[0;32mIn[1], line 1\u001b[0m\n\u001b[0;32m----> 1\u001b[0m \u001b[43mpla\u001b[49m\n",
      "\u001b[0;31mNameError\u001b[0m: name 'pla' is not defined"
     ]
    }
   ],
   "source": [
    "pla\n"
   ]
  },
  {
   "cell_type": "code",
   "execution_count": 2,
   "id": "0a26df0c",
   "metadata": {},
   "outputs": [],
   "source": [
    "#test \n"
   ]
  },
  {
   "cell_type": "code",
   "execution_count": 35,
   "id": "aa8dbece",
   "metadata": {},
   "outputs": [
    {
     "name": "stdout",
     "output_type": "stream",
     "text": [
      "Simmi\n",
      "start\n",
      "s\n",
      "sentence\n"
     ]
    }
   ],
   "source": [
    "st='Simmi print only the words that start with s in this sentence'\n",
    "list=st.split()\n",
    "\n",
    "\n",
    "for word in st.split():\n",
    "    \n",
    "    if word[0].lower()=='s':  #  if word[0]=='s' or word[0]=='S'\n",
    "        print(word)"
   ]
  },
  {
   "cell_type": "code",
   "execution_count": 36,
   "id": "5770a25c",
   "metadata": {},
   "outputs": [
    {
     "data": {
      "text/plain": [
       "['start', 's', 'sentence']"
      ]
     },
     "execution_count": 36,
     "metadata": {},
     "output_type": "execute_result"
    }
   ],
   "source": [
    "s_list=[]\n",
    "index_no=0\n",
    "for item in st.split():\n",
    "    if list[index_no][0]=='s':  # if item[0].lower()=='s'\n",
    "        s_list.append(item)\n",
    "    index_no=index_no+1 # only is =s then the index n will update as it is in f loopanduke out of it\n",
    "        \n",
    "   \n",
    "s_list"
   ]
  },
  {
   "cell_type": "code",
   "execution_count": 44,
   "id": "b4202c82",
   "metadata": {},
   "outputs": [
    {
     "ename": "TypeError",
     "evalue": "'range' object is not callable",
     "output_type": "error",
     "traceback": [
      "\u001b[0;31m---------------------------------------------------------------------------\u001b[0m",
      "\u001b[0;31mTypeError\u001b[0m                                 Traceback (most recent call last)",
      "Cell \u001b[0;32mIn[44], line 1\u001b[0m\n\u001b[0;32m----> 1\u001b[0m \u001b[38;5;28;43mlist\u001b[39;49m\u001b[43m(\u001b[49m\u001b[38;5;28;43mrange\u001b[39;49m\u001b[43m(\u001b[49m\u001b[38;5;241;43m0\u001b[39;49m\u001b[43m,\u001b[49m\u001b[38;5;241;43m11\u001b[39;49m\u001b[43m,\u001b[49m\u001b[38;5;241;43m2\u001b[39;49m\u001b[43m)\u001b[49m\u001b[43m)\u001b[49m\n",
      "\u001b[0;31mTypeError\u001b[0m: 'range' object is not callable"
     ]
    }
   ],
   "source": [
    "list(range(0,11,2))\n"
   ]
  },
  {
   "cell_type": "code",
   "execution_count": 19,
   "id": "85cb99cc",
   "metadata": {},
   "outputs": [
    {
     "name": "stdout",
     "output_type": "stream",
     "text": [
      "start\n",
      "s\n",
      "sentence\n"
     ]
    }
   ],
   "source": [
    "st='Simmi print only the words that start with s in this sentence'\n",
    "list=st.split()\n",
    "for i in range(len(list)):\n",
    "    if list[i][0]=='s':\n",
    "        print(list[i])"
   ]
  },
  {
   "cell_type": "code",
   "execution_count": 27,
   "id": "3b34fc71",
   "metadata": {},
   "outputs": [
    {
     "data": {
      "text/plain": [
       "[0, 3, 6, 9, 12, 15, 18, 21, 24, 27, 30, 33, 36, 39, 42, 45, 48]"
      ]
     },
     "execution_count": 27,
     "metadata": {},
     "output_type": "execute_result"
    }
   ],
   "source": [
    "l=[x for x in range(0,51) if x%3==0 ]\n",
    "l"
   ]
  },
  {
   "cell_type": "code",
   "execution_count": 29,
   "id": "ea1819e4",
   "metadata": {},
   "outputs": [
    {
     "ename": "TypeError",
     "evalue": "'list' object is not callable",
     "output_type": "error",
     "traceback": [
      "\u001b[0;31m---------------------------------------------------------------------------\u001b[0m",
      "\u001b[0;31mTypeError\u001b[0m                                 Traceback (most recent call last)",
      "Cell \u001b[0;32mIn[29], line 1\u001b[0m\n\u001b[0;32m----> 1\u001b[0m \u001b[38;5;28;43mlist\u001b[39;49m\u001b[43m(\u001b[49m\u001b[38;5;28;43mrange\u001b[39;49m\u001b[43m(\u001b[49m\u001b[38;5;241;43m0\u001b[39;49m\u001b[43m,\u001b[49m\u001b[38;5;241;43m11\u001b[39;49m\u001b[43m,\u001b[49m\u001b[38;5;241;43m2\u001b[39;49m\u001b[43m)\u001b[49m\u001b[43m)\u001b[49m\n",
      "\u001b[0;31mTypeError\u001b[0m: 'list' object is not callable"
     ]
    }
   ],
   "source": [
    "list(range(0,11,2))"
   ]
  },
  {
   "cell_type": "code",
   "execution_count": 46,
   "id": "01fb9135",
   "metadata": {},
   "outputs": [
    {
     "name": "stdout",
     "output_type": "stream",
     "text": [
      "word is even\n",
      "in is even\n",
      "this is even\n",
      "sentence is even\n",
      "that is even\n",
      "an is even\n",
      "even is even\n",
      "number is even\n",
      "of is even\n"
     ]
    }
   ],
   "source": [
    "st = 'Print every word in this sentence that has an even number of letters'\n",
    "for word in st.split():\n",
    "    if len(word)%2==0:\n",
    "      #  print(word + ' is even')\n",
    "       # print(f'{word} is even')\n",
    "        print('{} is even'.format(word))"
   ]
  },
  {
   "cell_type": "code",
   "execution_count": 47,
   "id": "30875d79",
   "metadata": {},
   "outputs": [],
   "source": [
    "#Write a program that prints the integers from 1 to 100. But for multiples of three print \"Fizz\" instead of the number, and for the multiples of five print \"Buzz\". For numbers which are multiples of both three and five print \"FizzBuzz\"."
   ]
  },
  {
   "cell_type": "code",
   "execution_count": 54,
   "id": "683e1d10",
   "metadata": {},
   "outputs": [
    {
     "ename": "SyntaxError",
     "evalue": "expected 'else' after 'if' expression (4160211211.py, line 1)",
     "output_type": "error",
     "traceback": [
      "\u001b[0;36m  Cell \u001b[0;32mIn[54], line 1\u001b[0;36m\u001b[0m\n\u001b[0;31m    l=['Fizz' if x%3==0 else 'buzz' if x%5==0  for x in range(10)]\u001b[0m\n\u001b[0m                             ^\u001b[0m\n\u001b[0;31mSyntaxError\u001b[0m\u001b[0;31m:\u001b[0m expected 'else' after 'if' expression\n"
     ]
    }
   ],
   "source": [
    "l=['Fizz' if x%3==0 else 'buzz' if x%5==0  for x in range(10)]\n",
    "l"
   ]
  },
  {
   "cell_type": "code",
   "execution_count": 65,
   "id": "e751fa4f",
   "metadata": {},
   "outputs": [
    {
     "name": "stdout",
     "output_type": "stream",
     "text": [
      "1\n",
      "2\n",
      "fuzz\n",
      "4\n",
      "buzz\n",
      "fuzz\n",
      "7\n",
      "8\n",
      "fuzz\n",
      "buzz\n",
      "11\n",
      "fuzz\n",
      "13\n",
      "14\n",
      "fizzbuzz\n"
     ]
    }
   ],
   "source": [
    "for x in range(1,16):\n",
    "    \n",
    "    if x%15==0:\n",
    "        print('fizzbuzz')\n",
    "    elif x%3==0:\n",
    "        print('fuzz')\n",
    "    elif x%5==0:\n",
    "        print('buzz')\n",
    "    \n",
    "    else:\n",
    "        print(x)"
   ]
  },
  {
   "cell_type": "code",
   "execution_count": 66,
   "id": "2a221801",
   "metadata": {},
   "outputs": [
    {
     "name": "stdout",
     "output_type": "stream",
     "text": [
      "C\n",
      "a\n",
      "l\n",
      "o\n",
      "t\n",
      "f\n",
      "l\n",
      "o\n",
      "e\n",
      "w\n",
      "i\n",
      "t\n",
      "s\n"
     ]
    }
   ],
   "source": [
    "st='Create a list of the first letters of every word in this string'\n",
    "for word in st.split():\n",
    "    print(word[0])"
   ]
  },
  {
   "cell_type": "code",
   "execution_count": 68,
   "id": "5ce2c416",
   "metadata": {},
   "outputs": [
    {
     "data": {
      "text/plain": [
       "['C', 'a', 'l', 'o', 't', 'f', 'l', 'o', 'e', 'w', 'i', 't', 's']"
      ]
     },
     "execution_count": 68,
     "metadata": {},
     "output_type": "execute_result"
    }
   ],
   "source": [
    "st='Create a list of the first letters of every word in this string'\n",
    "l=[word[0] for word in st.split()]\n",
    "l"
   ]
  },
  {
   "cell_type": "code",
   "execution_count": 74,
   "id": "6f6119c8",
   "metadata": {},
   "outputs": [
    {
     "data": {
      "text/plain": [
       "'I'"
      ]
     },
     "execution_count": 74,
     "metadata": {},
     "output_type": "execute_result"
    }
   ],
   "source": [
    "l='simmi'\n",
    "l[4].upper()"
   ]
  },
  {
   "cell_type": "code",
   "execution_count": 76,
   "id": "ffc190ef",
   "metadata": {},
   "outputs": [
    {
     "data": {
      "text/plain": [
       "'T'"
      ]
     },
     "execution_count": 76,
     "metadata": {},
     "output_type": "execute_result"
    }
   ],
   "source": [
    "st[4].upper()"
   ]
  },
  {
   "cell_type": "code",
   "execution_count": 81,
   "id": "9884d8a1",
   "metadata": {},
   "outputs": [
    {
     "data": {
      "text/plain": [
       "'hi yo sim'"
      ]
     },
     "execution_count": 81,
     "metadata": {},
     "output_type": "execute_result"
    }
   ],
   "source": [
    "l=['hi','sim']\n",
    "x=' yo '.join(l)\n",
    "x"
   ]
  },
  {
   "cell_type": "code",
   "execution_count": 82,
   "id": "7e61b584",
   "metadata": {},
   "outputs": [
    {
     "data": {
      "text/plain": [
       "'hi   sim'"
      ]
     },
     "execution_count": 82,
     "metadata": {},
     "output_type": "execute_result"
    }
   ],
   "source": [
    "x.replace('yo',' ')"
   ]
  },
  {
   "cell_type": "code",
   "execution_count": null,
   "id": "945e538e",
   "metadata": {},
   "outputs": [],
   "source": []
  }
 ],
 "metadata": {
  "kernelspec": {
   "display_name": "Python 3 (ipykernel)",
   "language": "python",
   "name": "python3"
  },
  "language_info": {
   "codemirror_mode": {
    "name": "ipython",
    "version": 3
   },
   "file_extension": ".py",
   "mimetype": "text/x-python",
   "name": "python",
   "nbconvert_exporter": "python",
   "pygments_lexer": "ipython3",
   "version": "3.10.9"
  }
 },
 "nbformat": 4,
 "nbformat_minor": 5
}
