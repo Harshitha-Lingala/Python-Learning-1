{
 "cells": [
  {
   "cell_type": "code",
   "execution_count": 1,
   "id": "b83dbd60",
   "metadata": {},
   "outputs": [
    {
     "ename": "TypeError",
     "evalue": "unsupported operand type(s) for ** or pow(): 'str' and 'int'",
     "output_type": "error",
     "traceback": [
      "\u001b[0;31m---------------------------------------------------------------------------\u001b[0m",
      "\u001b[0;31mTypeError\u001b[0m                                 Traceback (most recent call last)",
      "Cell \u001b[0;32mIn[1], line 2\u001b[0m\n\u001b[1;32m      1\u001b[0m \u001b[38;5;28;01mfor\u001b[39;00m i \u001b[38;5;129;01min\u001b[39;00m [\u001b[38;5;124m'\u001b[39m\u001b[38;5;124ma\u001b[39m\u001b[38;5;124m'\u001b[39m,\u001b[38;5;124m'\u001b[39m\u001b[38;5;124mb\u001b[39m\u001b[38;5;124m'\u001b[39m]:\n\u001b[0;32m----> 2\u001b[0m     \u001b[38;5;28mprint\u001b[39m(\u001b[43mi\u001b[49m\u001b[38;5;241;43m*\u001b[39;49m\u001b[38;5;241;43m*\u001b[39;49m\u001b[38;5;241;43m2\u001b[39;49m)\n",
      "\u001b[0;31mTypeError\u001b[0m: unsupported operand type(s) for ** or pow(): 'str' and 'int'"
     ]
    }
   ],
   "source": [
    "for i in ['a','b']:\n",
    "    print(i**2)"
   ]
  },
  {
   "cell_type": "code",
   "execution_count": null,
   "id": "a64ae77e",
   "metadata": {},
   "outputs": [],
   "source": [
    "\n",
    "    try:\n",
    "        for i in ['a','b']:\n",
    "            print(i**2)\n",
    "    except TypeError:\n",
    "        print('i is a str not an int')\n",
    "    else:\n",
    "        print('yay')\n",
    "    finally:\n",
    "        print('code executed')"
   ]
  },
  {
   "cell_type": "code",
   "execution_count": null,
   "id": "b8c42fb3",
   "metadata": {},
   "outputs": [],
   "source": [
    "x=5\n",
    "y=0\n",
    "\n",
    "try:\n",
    "    z=x/y\n",
    "except ZeroDivisionError:\n",
    "    print('error')\n",
    "finally:\n",
    "    print('all done')"
   ]
  },
  {
   "cell_type": "code",
   "execution_count": null,
   "id": "06e1a9a9",
   "metadata": {},
   "outputs": [],
   "source": [
    "def ask():\n",
    "    while True:\n",
    "        try:\n",
    "            x=int(input('provide a no.: '))\n",
    "            #return x**2\n",
    "        except:\n",
    "            print('error! it is not a number')\n",
    "            \n",
    "        else:\n",
    "            return (x**2)\n",
    "            break\n",
    "        \n",
    "        finally:\n",
    "            print('all done ')"
   ]
  },
  {
   "cell_type": "code",
   "execution_count": null,
   "id": "757d43a1",
   "metadata": {},
   "outputs": [],
   "source": [
    "ask()"
   ]
  },
  {
   "cell_type": "code",
   "execution_count": null,
   "id": "f57f9f18",
   "metadata": {},
   "outputs": [],
   "source": [
    "while True:\n",
    "    print('d')\n",
    "    break\n",
    "    print('v')"
   ]
  },
  {
   "cell_type": "code",
   "execution_count": null,
   "id": "e56d5ad5",
   "metadata": {},
   "outputs": [],
   "source": [
    "def ask():\n",
    "    waiting= True\n",
    "   \n",
    "    while waiting:\n",
    "        try:\n",
    "            x=int(input('provide a no.: '))\n",
    "\n",
    "        except:\n",
    "            print('error! it is not a number')\n",
    "            continue\n",
    "            \n",
    "        else:\n",
    "            \n",
    "            return x**2\n",
    "            waiting= False\n",
    "        \n",
    "        finally:\n",
    "            print('all done ')"
   ]
  },
  {
   "cell_type": "code",
   "execution_count": null,
   "id": "00fafe74",
   "metadata": {},
   "outputs": [],
   "source": [
    "\n",
    "ask()"
   ]
  },
  {
   "cell_type": "code",
   "execution_count": null,
   "id": "3e0cedac",
   "metadata": {},
   "outputs": [],
   "source": []
  },
  {
   "cell_type": "code",
   "execution_count": null,
   "id": "7cf78b57",
   "metadata": {},
   "outputs": [],
   "source": [
    "\n",
    "try:\n",
    "    \n",
    "    for i in ['e','l']:\n",
    "        print(i**2)\n",
    "\n",
    "except TypeError:\n",
    "    print('Please provide an int')\n",
    "\n",
    "else:\n",
    "    print('yay code executed')\n",
    "    \n",
    "    \n",
    "finally:\n",
    "    print('execution completed')"
   ]
  },
  {
   "cell_type": "code",
   "execution_count": null,
   "id": "6f9956c2",
   "metadata": {},
   "outputs": [],
   "source": [
    "try:\n",
    "    x = 5\n",
    "    y = 0\n",
    "    z = x/y\n",
    "        \n",
    "except ZeroDivisionError:\n",
    "    print('denominator cannot be zero')\n",
    "finally:\n",
    "    print('all done')"
   ]
  },
  {
   "cell_type": "code",
   "execution_count": null,
   "id": "f38bd97e",
   "metadata": {},
   "outputs": [],
   "source": []
  },
  {
   "cell_type": "markdown",
   "id": "b5609266",
   "metadata": {},
   "source": [
    "def ask():\n",
    "    while True:\n",
    "        try:\n",
    "            x=int(input('please provide a no.: '))\n",
    "            x**2\n",
    "        except:\n",
    "            print('provide an interger only')\n",
    "            continue\n",
    "        else:\n",
    "            print('code executed')\n",
    "            return x**2\n",
    "            break\n",
    "       # finally:  #can take away the finnaly too \n",
    "         #   print('all done')"
   ]
  },
  {
   "cell_type": "code",
   "execution_count": 11,
   "id": "f352d05e",
   "metadata": {},
   "outputs": [
    {
     "name": "stdout",
     "output_type": "stream",
     "text": [
      "please provide a no.: 3\n",
      "code executed\n"
     ]
    },
    {
     "data": {
      "text/plain": [
       "9"
      ]
     },
     "execution_count": 11,
     "metadata": {},
     "output_type": "execute_result"
    }
   ],
   "source": [
    "ask()"
   ]
  },
  {
   "cell_type": "code",
   "execution_count": 12,
   "id": "5e1a007e",
   "metadata": {},
   "outputs": [
    {
     "name": "stdout",
     "output_type": "stream",
     "text": [
      "open\n",
      "soethig error\n"
     ]
    }
   ],
   "source": [
    "a=5\n",
    "b='p'\n",
    "try:\n",
    "    print('open')\n",
    "    print(a/b)\n",
    "    print('closed')\n",
    "except ZeroDivisionError:\n",
    "    print('zero div error')\n",
    "except ValueError:\n",
    "    print('invalid denominator')\n",
    "except:\n",
    "    print('soethig error')\n",
    "    "
   ]
  },
  {
   "cell_type": "code",
   "execution_count": null,
   "id": "09d0635b",
   "metadata": {},
   "outputs": [],
   "source": []
  }
 ],
 "metadata": {
  "kernelspec": {
   "display_name": "Python 3 (ipykernel)",
   "language": "python",
   "name": "python3"
  },
  "language_info": {
   "codemirror_mode": {
    "name": "ipython",
    "version": 3
   },
   "file_extension": ".py",
   "mimetype": "text/x-python",
   "name": "python",
   "nbconvert_exporter": "python",
   "pygments_lexer": "ipython3",
   "version": "3.10.9"
  }
 },
 "nbformat": 4,
 "nbformat_minor": 5
}
