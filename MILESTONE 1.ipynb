{
 "cells": [
  {
   "cell_type": "code",
   "execution_count": 1,
   "id": "d246f13b",
   "metadata": {},
   "outputs": [],
   "source": [
    "# Board layout\n",
    "def board_layout():\n",
    "    board = ['','','','','','','','','']\n",
    "    return board"
   ]
  },
  {
   "cell_type": "code",
   "execution_count": 2,
   "id": "1c11d581",
   "metadata": {},
   "outputs": [],
   "source": [
    "\n",
    "def player_input_wrong():\n",
    "    marker=''\n",
    "    position=''\n",
    "    while marker not in ['x','o']:\n",
    "        marker=input(\"Player Please choose your marker from 'x' or 'o': \")\n",
    "        \n",
    "    while position not in range(0,9):\n",
    "        position=int(input(\"Player Please choose your position from 0-9: \"))\n",
    "        \n",
    "    return marker,position"
   ]
  },
  {
   "cell_type": "code",
   "execution_count": 3,
   "id": "af9e3aa1",
   "metadata": {},
   "outputs": [],
   "source": [
    "def place_marker(board,marker,position):\n",
    "    while board[position]=='':\n",
    "        board[position]=marker\n",
    "        "
   ]
  },
  {
   "cell_type": "code",
   "execution_count": 4,
   "id": "0b5ef054",
   "metadata": {},
   "outputs": [
    {
     "ename": "NameError",
     "evalue": "name 'player_input' is not defined",
     "output_type": "error",
     "traceback": [
      "\u001b[0;31m---------------------------------------------------------------------------\u001b[0m",
      "\u001b[0;31mNameError\u001b[0m                                 Traceback (most recent call last)",
      "Cell \u001b[0;32mIn[4], line 6\u001b[0m\n\u001b[1;32m      1\u001b[0m board\u001b[38;5;241m=\u001b[39mboard_layout()\n\u001b[1;32m      2\u001b[0m \u001b[38;5;66;03m#for position in range(0,9):\u001b[39;00m\n\u001b[1;32m      3\u001b[0m  \u001b[38;5;66;03m#   if board[position]=='':\u001b[39;00m\n\u001b[0;32m----> 6\u001b[0m marker,position\u001b[38;5;241m=\u001b[39m\u001b[43mplayer_input\u001b[49m()\n\u001b[1;32m      7\u001b[0m \u001b[38;5;28mprint\u001b[39m(marker,position)\n\u001b[1;32m      8\u001b[0m place_marker(board,marker,position)\n",
      "\u001b[0;31mNameError\u001b[0m: name 'player_input' is not defined"
     ]
    }
   ],
   "source": [
    "board=board_layout()\n",
    "#for position in range(0,9):\n",
    " #   if board[position]=='':\n",
    "\n",
    "    \n",
    "marker,position=player_input()\n",
    "print(marker,position)\n",
    "place_marker(board,marker,position)\n",
    "print(board)\n"
   ]
  },
  {
   "cell_type": "markdown",
   "id": "24325c55",
   "metadata": {},
   "source": [
    "## player_input()"
   ]
  },
  {
   "cell_type": "code",
   "execution_count": null,
   "id": "43c782a5",
   "metadata": {},
   "outputs": [],
   "source": [
    "board = ['','','','','','','','',''] \n",
    "win=['','','','','','','','','']"
   ]
  },
  {
   "cell_type": "code",
   "execution_count": null,
   "id": "a34df6b1",
   "metadata": {},
   "outputs": [],
   "source": [
    "if board in win:\n",
    "    print('True')\n"
   ]
  },
  {
   "cell_type": "code",
   "execution_count": null,
   "id": "72a5be1c",
   "metadata": {},
   "outputs": [],
   "source": [
    "def player_input():\n",
    "    marker=''\n",
    "    position='abc'\n",
    "    while marker not in ['x','o']:\n",
    "        marker=input(\"Player Please choose your marker from 'x' or 'o': \")\n",
    "    \n",
    "    while position.isdigit()==False or int(position) not in range(0,9) :\n",
    "        position=input('PLease enter a position: ')\n",
    "        if position.isdigit()==False:\n",
    "                print('please enter a digit')\n",
    "                \n",
    "        else:\n",
    "            if int(position) not in range(0,9):\n",
    "                print('please enter a no btw 0-9')\n",
    "            \n",
    "    int(position)\n",
    "            \n",
    "    return marker,position"
   ]
  },
  {
   "cell_type": "code",
   "execution_count": null,
   "id": "c655a7a0",
   "metadata": {},
   "outputs": [],
   "source": []
  },
  {
   "cell_type": "code",
   "execution_count": null,
   "id": "9628cc32",
   "metadata": {},
   "outputs": [],
   "source": [
    "def user():\n",
    "    choice='abc'\n",
    "    while choice.isdigit()==False:\n",
    "        choice=input('PLease enter: ')\n",
    "    return int(choice)"
   ]
  },
  {
   "cell_type": "code",
   "execution_count": null,
   "id": "6cb59de7",
   "metadata": {},
   "outputs": [],
   "source": [
    "#user()"
   ]
  },
  {
   "cell_type": "code",
   "execution_count": null,
   "id": "c5c5bcac",
   "metadata": {},
   "outputs": [],
   "source": [
    "position=''\n",
    "acceptable_range=range(0,9)\n",
    "within_range=False\n",
    "\n",
    "while position.isdigit()==False or within_range==False:\n",
    "        position=input('PLease enter a position: ')\n",
    "        \n",
    "        if position.isdigit()==False:\n",
    "            print('sorry enter a digit')\n",
    "        else:\n",
    "            if int(position) in acceptable_range:\n",
    "                within_range=True\n",
    "int(position)\n"
   ]
  },
  {
   "cell_type": "code",
   "execution_count": null,
   "id": "91e6a376",
   "metadata": {},
   "outputs": [],
   "source": [
    "position=''\n",
    "\n",
    "\n",
    "while position.isdigit()==False or int(position) not in range(0,9):  \n",
    "        position=input('PLease enter a position: ')\n",
    "    \n",
    "        \n",
    "int(position)"
   ]
  },
  {
   "cell_type": "code",
   "execution_count": null,
   "id": "f13db0eb",
   "metadata": {},
   "outputs": [],
   "source": [
    "def player_input():\n",
    "    marker=''\n",
    "    position='abc'\n",
    "    while marker not in ['x','o']:\n",
    "        marker=input(\"Player Please choose your marker from 'x' or 'o': \")\n",
    "    \n",
    "    while position.isdigit()==False or int(position) not in range(0,9) :\n",
    "        position=input('PLease enter a position: ')\n",
    "        if position.isdigit()==False:\n",
    "                print('please enter a digit')\n",
    "                \n",
    "        else:\n",
    "            if int(position) not in range(0,9):\n",
    "                print('please enter a no btw 0-9')\n",
    "            \n",
    "            \n",
    "    return marker,int(position)"
   ]
  },
  {
   "cell_type": "code",
   "execution_count": null,
   "id": "2f1402c8",
   "metadata": {},
   "outputs": [],
   "source": [
    "marker,position=player_input()\n",
    "position\n"
   ]
  },
  {
   "cell_type": "code",
   "execution_count": null,
   "id": "fc38f8c7",
   "metadata": {},
   "outputs": [],
   "source": []
  },
  {
   "cell_type": "code",
   "execution_count": null,
   "id": "31d4c643",
   "metadata": {},
   "outputs": [],
   "source": [
    "# game_on\n"
   ]
  },
  {
   "cell_type": "code",
   "execution_count": null,
   "id": "7bcee13a",
   "metadata": {},
   "outputs": [],
   "source": [
    "game_list=['0','1','2']\n",
    "def display_game(game_list):\n",
    "    print('here is the game list')\n",
    "    print(game_list)"
   ]
  },
  {
   "cell_type": "code",
   "execution_count": null,
   "id": "2b779a1c",
   "metadata": {},
   "outputs": [],
   "source": [
    "def user_choice():\n",
    "    choice=''\n",
    "    while choice not in ['0','1','2']:\n",
    "        choice=input('Enter your choice: ')\n",
    "        if choice not in ['0','1','2']:\n",
    "            print(\"please select amoung ['0','1','2']\")\n",
    "    return choice"
   ]
  },
  {
   "cell_type": "code",
   "execution_count": null,
   "id": "a96dc917",
   "metadata": {},
   "outputs": [],
   "source": [
    "def replacement_choice(game_list,choice):\n",
    "    replacement=input('please type what you want to be placed in the game_list:')\n",
    "    game_list[int(choice)]=replacement\n",
    "    "
   ]
  },
  {
   "cell_type": "code",
   "execution_count": null,
   "id": "aa7b55fe",
   "metadata": {},
   "outputs": [],
   "source": [
    "def game_on():\n",
    "    game_on_choice=''\n",
    "    while game_on_choice not in ['Y','N']:\n",
    "        game_on_choice=input('whether to continue with the game - Y or N:')\n",
    "    if game_on_choice=='Y':\n",
    "        return True\n",
    "    if game_on_choice=='N':\n",
    "        return False\n",
    "        "
   ]
  },
  {
   "cell_type": "code",
   "execution_count": null,
   "id": "0da89214",
   "metadata": {},
   "outputs": [],
   "source": [
    "game_on_choice=True\n",
    "game_list=['0','1','2']\n",
    "\n",
    "while game_on_choice==True:\n",
    "    \n",
    "    choice=user_choice()\n",
    "    replacement_choice(game_list,choice)\n",
    "    display_game(game_list)\n",
    "    game_on_choice=game_on()\n"
   ]
  },
  {
   "cell_type": "code",
   "execution_count": null,
   "id": "6c77bcda",
   "metadata": {},
   "outputs": [],
   "source": [
    "'n'.upper()=='N'"
   ]
  },
  {
   "cell_type": "code",
   "execution_count": null,
   "id": "23d09050",
   "metadata": {},
   "outputs": [],
   "source": [
    "\n"
   ]
  },
  {
   "cell_type": "code",
   "execution_count": null,
   "id": "d791223a",
   "metadata": {},
   "outputs": [],
   "source": []
  },
  {
   "cell_type": "code",
   "execution_count": null,
   "id": "f6b9c306",
   "metadata": {},
   "outputs": [],
   "source": []
  },
  {
   "cell_type": "code",
   "execution_count": null,
   "id": "71c092c0",
   "metadata": {},
   "outputs": [],
   "source": []
  },
  {
   "cell_type": "code",
   "execution_count": 6,
   "id": "6fa57923",
   "metadata": {},
   "outputs": [],
   "source": [
    "\n",
    "from IPython.display import clear_output\n",
    "board = ['#','1','2','3','4','5','6','7','8','9']\n",
    "def board_layout():\n",
    "    clear_output()\n",
    "    print('   '+'|'+'   '+'|'+'   ')\n",
    "    print(' '+board[7]+' '+'|'+' '+  board[8] + ' ' +'|'+ ' ' +board[9]+' '  )\n",
    "    print('   '+'|'+'   '+'|'+'   ')\n",
    "    print('-------------')\n",
    "    print('   '+'|'+'   '+'|'+'   ')\n",
    "    print(' '+board[7]+' '+'|'+' '+  board[8]+ ' ' +'|'+ ' ' +board[9]+' '  )\n",
    "    print('   '+'|'+'   '+'|'+'   ')\n",
    "    print('-------------')\n",
    "    print('   '+'|'+'   '+'|'+'   ')\n",
    "    print(' '+board[7]+' '+'|'+' '+  board[8] + ' ' +'|'+ ' ' +board[9]+' '  )\n",
    "    print('   '+'|'+'   '+'|'+'   ')"
   ]
  },
  {
   "cell_type": "code",
   "execution_count": 7,
   "id": "ec717de7",
   "metadata": {},
   "outputs": [
    {
     "name": "stdout",
     "output_type": "stream",
     "text": [
      "   |   |   \n",
      " 7 | 8 | 9 \n",
      "   |   |   \n",
      "-------------\n",
      "   |   |   \n",
      " 7 | 8 | 9 \n",
      "   |   |   \n",
      "-------------\n",
      "   |   |   \n",
      " 7 | 8 | 9 \n",
      "   |   |   \n"
     ]
    }
   ],
   "source": [
    "board_layout()"
   ]
  },
  {
   "cell_type": "code",
   "execution_count": 8,
   "id": "17600853",
   "metadata": {},
   "outputs": [
    {
     "name": "stdout",
     "output_type": "stream",
     "text": [
      "   |   |\n",
      " 7 | 8 | 9\n",
      "   |   |\n",
      "-----------\n",
      "   |   |\n",
      " 4 | 5 | 6\n",
      "   |   |\n",
      "-----------\n",
      "   |   |\n",
      " 1 | 2 | 3\n",
      "   |   |\n"
     ]
    }
   ],
   "source": [
    "print('   |   |')\n",
    "print(' ' + board[7] + ' | ' + board[8] + ' | ' + board[9])\n",
    "print('   |   |')\n",
    "print('-----------')\n",
    "print('   |   |')\n",
    "print(' ' + board[4] + ' | ' + board[5] + ' | ' + board[6])\n",
    "print('   |   |')\n",
    "print('-----------')\n",
    "print('   |   |')\n",
    "print(' ' + board[1] + ' | ' + board[2] + ' | ' + board[3])\n",
    "print('   |   |')"
   ]
  },
  {
   "cell_type": "code",
   "execution_count": 22,
   "id": "8570a57d",
   "metadata": {},
   "outputs": [],
   "source": [
    "def player_input():\n",
    "    marker=''\n",
    "    position='abc'\n",
    "    while marker not in ['x','o']:\n",
    "        marker=input(\"Player1: Please choose your marker from 'x' or 'o': \")\n",
    "    print('Player1 will go first')\n",
    "    ready=input('Are you ready to play? Enter Yes or No : ')\n",
    "    if ready=='Yes':\n",
    "        while position.isdigit()==False or int(position) not in range(0,9) :\n",
    "            position=input('PLease enter a position: ')\n",
    "            if position.isdigit()==False:\n",
    "                    print('please enter a digit')\n",
    "                \n",
    "            else:\n",
    "                if int(position) not in range(0,9):\n",
    "                    print('please enter a no btw 0-9')\n",
    "        return marker,int(position)\n",
    "    else:\n",
    "        return 0,0\n",
    "    \n",
    "    \n",
    "            \n",
    "    "
   ]
  },
  {
   "cell_type": "code",
   "execution_count": 23,
   "id": "70e4740c",
   "metadata": {},
   "outputs": [
    {
     "name": "stdout",
     "output_type": "stream",
     "text": [
      "Player1: Please choose your marker from 'x' or 'o': x\n",
      "Player1 will go first\n",
      "Are you ready to play? Enter Yes or No : No\n"
     ]
    }
   ],
   "source": [
    "marker,position=player_input()"
   ]
  },
  {
   "cell_type": "code",
   "execution_count": 24,
   "id": "1f1b4459",
   "metadata": {},
   "outputs": [],
   "source": [
    "def replacement_choice(board,marker,position):\n",
    "    board[position]=marker"
   ]
  },
  {
   "cell_type": "code",
   "execution_count": 25,
   "id": "8d84f959",
   "metadata": {},
   "outputs": [
    {
     "name": "stdout",
     "output_type": "stream",
     "text": [
      "[0, '1', '2', '3', '4', '5', '6', '7', '8', '9']\n"
     ]
    }
   ],
   "source": [
    "replacement_choice(board,marker,int(position))\n",
    "print(board)"
   ]
  },
  {
   "cell_type": "code",
   "execution_count": null,
   "id": "9d7c3797",
   "metadata": {},
   "outputs": [],
   "source": []
  },
  {
   "cell_type": "code",
   "execution_count": null,
   "id": "59e4d763",
   "metadata": {},
   "outputs": [],
   "source": []
  }
 ],
 "metadata": {
  "kernelspec": {
   "display_name": "Python 3 (ipykernel)",
   "language": "python",
   "name": "python3"
  },
  "language_info": {
   "codemirror_mode": {
    "name": "ipython",
    "version": 3
   },
   "file_extension": ".py",
   "mimetype": "text/x-python",
   "name": "python",
   "nbconvert_exporter": "python",
   "pygments_lexer": "ipython3",
   "version": "3.10.9"
  }
 },
 "nbformat": 4,
 "nbformat_minor": 5
}
