{
 "cells": [
  {
   "cell_type": "code",
   "execution_count": 1,
   "id": "f2ee9749",
   "metadata": {},
   "outputs": [
    {
     "data": {
      "text/plain": [
       "[1, 2, 3, '4']"
      ]
     },
     "execution_count": 1,
     "metadata": {},
     "output_type": "execute_result"
    }
   ],
   "source": [
    "str=[1,2,3]\n",
    "str.append('4')\n",
    "str\n",
    "\n"
   ]
  },
  {
   "cell_type": "code",
   "execution_count": 2,
   "id": "6ad29349",
   "metadata": {},
   "outputs": [],
   "source": [
    "\n",
    "str.insert(2,5)"
   ]
  },
  {
   "cell_type": "code",
   "execution_count": 3,
   "id": "e330e5c5",
   "metadata": {},
   "outputs": [
    {
     "data": {
      "text/plain": [
       "[1, 2, 5, 3, '4']"
      ]
     },
     "execution_count": 3,
     "metadata": {},
     "output_type": "execute_result"
    }
   ],
   "source": [
    "str"
   ]
  },
  {
   "cell_type": "code",
   "execution_count": 4,
   "id": "e8239d1b",
   "metadata": {},
   "outputs": [
    {
     "name": "stdout",
     "output_type": "stream",
     "text": [
      "Help on built-in function insert:\n",
      "\n",
      "insert(index, object, /) method of builtins.list instance\n",
      "    Insert object before index.\n",
      "\n"
     ]
    }
   ],
   "source": [
    "help(str.insert)"
   ]
  },
  {
   "cell_type": "code",
   "execution_count": 5,
   "id": "5e81c1c9",
   "metadata": {},
   "outputs": [
    {
     "name": "stdout",
     "output_type": "stream",
     "text": [
      "done\n"
     ]
    }
   ],
   "source": [
    "def add_num(a,b):\n",
    "   \n",
    "    return a+b\n",
    "\n",
    "print('done')\n",
    "        "
   ]
  },
  {
   "cell_type": "code",
   "execution_count": 6,
   "id": "fea3935d",
   "metadata": {},
   "outputs": [
    {
     "data": {
      "text/plain": [
       "'35'"
      ]
     },
     "execution_count": 6,
     "metadata": {},
     "output_type": "execute_result"
    }
   ],
   "source": [
    "add_num('3','5')\n"
   ]
  },
  {
   "cell_type": "code",
   "execution_count": 7,
   "id": "9bb7a969",
   "metadata": {},
   "outputs": [],
   "source": [
    "def greet(name='defai'):\n",
    "    print('hello' '\\n' + name)"
   ]
  },
  {
   "cell_type": "code",
   "execution_count": 8,
   "id": "39b8a98e",
   "metadata": {},
   "outputs": [
    {
     "name": "stdout",
     "output_type": "stream",
     "text": [
      "hello\n",
      "sim\n"
     ]
    }
   ],
   "source": [
    "greet('sim')"
   ]
  },
  {
   "cell_type": "code",
   "execution_count": 9,
   "id": "2c665308",
   "metadata": {},
   "outputs": [
    {
     "data": {
      "text/plain": [
       "True"
      ]
     },
     "execution_count": 9,
     "metadata": {},
     "output_type": "execute_result"
    }
   ],
   "source": [
    "2%5==2"
   ]
  },
  {
   "cell_type": "markdown",
   "id": "dfc38c00",
   "metadata": {},
   "source": [
    "2%5"
   ]
  },
  {
   "cell_type": "code",
   "execution_count": 10,
   "id": "089bbbef",
   "metadata": {},
   "outputs": [
    {
     "data": {
      "text/plain": [
       "2"
      ]
     },
     "execution_count": 10,
     "metadata": {},
     "output_type": "execute_result"
    }
   ],
   "source": [
    "2%5"
   ]
  },
  {
   "cell_type": "code",
   "execution_count": 11,
   "id": "11b66866",
   "metadata": {},
   "outputs": [],
   "source": [
    "def even_check(num):\n",
    "    if num%2 ==0 :\n",
    "        print(f'{num} is even')\n",
    "    else:\n",
    "              print('odd')\n",
    "    "
   ]
  },
  {
   "cell_type": "code",
   "execution_count": 12,
   "id": "c74dc27b",
   "metadata": {},
   "outputs": [
    {
     "name": "stdout",
     "output_type": "stream",
     "text": [
      "8 is even\n"
     ]
    }
   ],
   "source": [
    "even_check(8)"
   ]
  },
  {
   "cell_type": "code",
   "execution_count": 13,
   "id": "712227fb",
   "metadata": {},
   "outputs": [],
   "source": [
    "def even_check(num):\n",
    "    result = num%2 == 0\n",
    "    return result"
   ]
  },
  {
   "cell_type": "code",
   "execution_count": 14,
   "id": "644025fa",
   "metadata": {},
   "outputs": [
    {
     "data": {
      "text/plain": [
       "True"
      ]
     },
     "execution_count": 14,
     "metadata": {},
     "output_type": "execute_result"
    }
   ],
   "source": [
    "even_check(6)"
   ]
  },
  {
   "cell_type": "code",
   "execution_count": 15,
   "id": "8c25bb3d",
   "metadata": {},
   "outputs": [],
   "source": [
    "#evenlist=[]\n",
    "def even_check(list):\n",
    "    evenlist=[] #is wrong\n",
    "    for num in list:\n",
    "       \n",
    "        if num%2 == 0:\n",
    "            print (num)\n",
    "            evenlist.append(num)\n",
    "    \n",
    "    \n",
    "        else:\n",
    "              pass\n",
    "    return evenlist\n",
    "   "
   ]
  },
  {
   "cell_type": "code",
   "execution_count": 16,
   "id": "9257d2ef",
   "metadata": {},
   "outputs": [
    {
     "name": "stdout",
     "output_type": "stream",
     "text": [
      "20\n",
      "40\n"
     ]
    },
    {
     "ename": "NameError",
     "evalue": "name 'evenlist' is not defined",
     "output_type": "error",
     "traceback": [
      "\u001b[0;31m---------------------------------------------------------------------------\u001b[0m",
      "\u001b[0;31mNameError\u001b[0m                                 Traceback (most recent call last)",
      "Cell \u001b[0;32mIn[16], line 2\u001b[0m\n\u001b[1;32m      1\u001b[0m even_check([\u001b[38;5;241m20\u001b[39m,\u001b[38;5;241m40\u001b[39m])\n\u001b[0;32m----> 2\u001b[0m \u001b[43mevenlist\u001b[49m\n",
      "\u001b[0;31mNameError\u001b[0m: name 'evenlist' is not defined"
     ]
    }
   ],
   "source": [
    "even_check([20,40])\n",
    "evenlist"
   ]
  },
  {
   "cell_type": "code",
   "execution_count": null,
   "id": "daf92a76",
   "metadata": {},
   "outputs": [],
   "source": [
    "evenlist"
   ]
  },
  {
   "cell_type": "code",
   "execution_count": null,
   "id": "47abbe80",
   "metadata": {},
   "outputs": [],
   "source": [
    "evenlist"
   ]
  },
  {
   "cell_type": "code",
   "execution_count": null,
   "id": "ccf3d0d2",
   "metadata": {},
   "outputs": [],
   "source": [
    "def even_check(list):\n",
    "    for num in list:\n",
    "        if num%2 == 0:\n",
    "            return 'even list'\n",
    "    \n",
    "        else:\n",
    "              pass\n",
    "    return 'odd list'"
   ]
  },
  {
   "cell_type": "code",
   "execution_count": null,
   "id": "228df61c",
   "metadata": {},
   "outputs": [],
   "source": [
    "even_check([1])"
   ]
  },
  {
   "cell_type": "code",
   "execution_count": null,
   "id": "d94b9892",
   "metadata": {},
   "outputs": [],
   "source": [
    "even_check([67,68,69])\n"
   ]
  },
  {
   "cell_type": "code",
   "execution_count": null,
   "id": "0281bddb",
   "metadata": {},
   "outputs": [],
   "source": [
    "def even_check(list):\n",
    "    #list=[]\n",
    "    for num in list:\n",
    "        if num%2 == 0:\n",
    "            return (num)\n",
    "    \n",
    "        else:\n",
    "              pass"
   ]
  },
  {
   "cell_type": "code",
   "execution_count": null,
   "id": "1051c292",
   "metadata": {},
   "outputs": [],
   "source": [
    "even_check([1,2,3,4])"
   ]
  },
  {
   "cell_type": "code",
   "execution_count": null,
   "id": "695b3930",
   "metadata": {},
   "outputs": [],
   "source": [
    "def even_check_list(list):\n",
    "    evenslist=[]\n",
    "    for num in list:\n",
    "        if num %2 == 0:\n",
    "            print(num)\n",
    "            evenslist.append(num)\n",
    "        else:\n",
    "            pass\n",
    "    return evenslist\n",
    "            \n",
    "    "
   ]
  },
  {
   "cell_type": "code",
   "execution_count": null,
   "id": "53d35fea",
   "metadata": {},
   "outputs": [],
   "source": [
    "even_check_list([90])"
   ]
  },
  {
   "cell_type": "code",
   "execution_count": null,
   "id": "cb718172",
   "metadata": {},
   "outputs": [],
   "source": [
    "# tuple unpacking\n"
   ]
  },
  {
   "cell_type": "code",
   "execution_count": null,
   "id": "94d8bd07",
   "metadata": {},
   "outputs": [],
   "source": [
    "stock_prices=[('apple',100),('alpha',200)]\n",
    "for im,il in stock_prices:\n",
    "    print(il+0.1*il)"
   ]
  },
  {
   "cell_type": "code",
   "execution_count": null,
   "id": "5ba4a89c",
   "metadata": {},
   "outputs": [],
   "source": [
    "work_hours=[('abby',100),('ben',200),('cathy',130)]\n"
   ]
  },
  {
   "cell_type": "code",
   "execution_count": null,
   "id": "e876f825",
   "metadata": {},
   "outputs": [],
   "source": [
    "def employee_check(list):\n",
    "    current_max=0\n",
    "    employee_of_the_month=''\n",
    "    for employee,hours in list:\n",
    "        if hours>current_max:\n",
    "            current_max=hours\n",
    "            employee_of_the_month=employee\n",
    "            \n",
    "        else:\n",
    "            pass\n",
    "    return (employee_of_the_month,current_max)\n"
   ]
  },
  {
   "cell_type": "code",
   "execution_count": null,
   "id": "a2e2a160",
   "metadata": {},
   "outputs": [],
   "source": [
    "result=employee_check(work_hours)"
   ]
  },
  {
   "cell_type": "code",
   "execution_count": null,
   "id": "62be0711",
   "metadata": {},
   "outputs": [],
   "source": [
    "result"
   ]
  },
  {
   "cell_type": "code",
   "execution_count": null,
   "id": "3cd4af5e",
   "metadata": {},
   "outputs": [],
   "source": [
    "result=employee,hours"
   ]
  },
  {
   "cell_type": "code",
   "execution_count": null,
   "id": "3cb79fd5",
   "metadata": {},
   "outputs": [],
   "source": [
    "hours"
   ]
  },
  {
   "cell_type": "code",
   "execution_count": null,
   "id": "c80e8d1f",
   "metadata": {},
   "outputs": [],
   "source": [
    "n,h=employee_check(work_hours)"
   ]
  },
  {
   "cell_type": "code",
   "execution_count": null,
   "id": "fbeffc78",
   "metadata": {},
   "outputs": [],
   "source": [
    "n\n"
   ]
  },
  {
   "cell_type": "code",
   "execution_count": null,
   "id": "e2bb9996",
   "metadata": {},
   "outputs": [],
   "source": [
    "# create a game - shuffling 3 cups ball game\n",
    "# first oka list undali - then you need to shuffle the list - the oka player guess tesukovali - then we need to check if the guess nad our shuffle list indexno matches or not\n"
   ]
  },
  {
   "cell_type": "code",
   "execution_count": null,
   "id": "e723b6b9",
   "metadata": {},
   "outputs": [],
   "source": [
    "list=['','o','']\n",
    "from random import shuffle\n",
    "\n",
    "ex=shuffle(list)\n",
    "ex\n",
    "\n",
    " "
   ]
  },
  {
   "cell_type": "code",
   "execution_count": null,
   "id": "3075b2ec",
   "metadata": {},
   "outputs": [],
   "source": [
    "# func for shuffle "
   ]
  },
  {
   "cell_type": "code",
   "execution_count": null,
   "id": "72c8d5ed",
   "metadata": {},
   "outputs": [],
   "source": [
    "def shuffle_list(n):\n",
    "    from random import shuffle\n",
    "    shuffle(list)\n",
    "    return list"
   ]
  },
  {
   "cell_type": "code",
   "execution_count": null,
   "id": "b8dd78ff",
   "metadata": {},
   "outputs": [],
   "source": [
    "list"
   ]
  },
  {
   "cell_type": "code",
   "execution_count": null,
   "id": "84878d75",
   "metadata": {},
   "outputs": [],
   "source": [
    "shuffle_list(list)\n",
    "list\n"
   ]
  },
  {
   "cell_type": "code",
   "execution_count": null,
   "id": "786e620d",
   "metadata": {},
   "outputs": [],
   "source": [
    "# func for player guess"
   ]
  },
  {
   "cell_type": "markdown",
   "id": "b553bfa6",
   "metadata": {},
   "source": [
    "def player_guess():\n",
    "    guess=''  # you have to define a variable before using it \n",
    "    while guess not in ['0','1','2']:\n",
    "        guess = input('choose the cup from 0/1/2:')\n",
    "    return guess\n",
    "int('guess')"
   ]
  },
  {
   "cell_type": "markdown",
   "id": "767e7701",
   "metadata": {},
   "source": [
    "# player_guess()\n"
   ]
  },
  {
   "cell_type": "code",
   "execution_count": null,
   "id": "1b52f0e5",
   "metadata": {},
   "outputs": [],
   "source": [
    "def player_guess(): \n",
    "    guess='' # you have to define a variable before using it \n",
    "    while guess not in ['0','1','2']:\n",
    "        guess = input('choose the cup from 0/1/2:') \n",
    "        return guess\n"
   ]
  },
  {
   "cell_type": "code",
   "execution_count": null,
   "id": "4531f437",
   "metadata": {},
   "outputs": [],
   "source": [
    "player_guess()"
   ]
  },
  {
   "cell_type": "code",
   "execution_count": null,
   "id": "a07de371",
   "metadata": {},
   "outputs": [],
   "source": [
    "def player_guess(): \n",
    "    guess='' # you have to define a variable before using it \n",
    "    while guess not in ['0','1','2']:\n",
    "        guess = input('choose the cup from 0/1/2:')\n",
    "    \n",
    "    return int(guess)\n",
    "        "
   ]
  },
  {
   "cell_type": "code",
   "execution_count": null,
   "id": "6e066095",
   "metadata": {},
   "outputs": [],
   "source": [
    "player_guess()\n"
   ]
  },
  {
   "cell_type": "code",
   "execution_count": null,
   "id": "b1f1ad28",
   "metadata": {},
   "outputs": [],
   "source": [
    "# func for checking guess and shuffle\n",
    "def check_game(guess,list):\n",
    "    if list[guess]=='o':\n",
    "        print('won')\n",
    "    else:\n",
    "        print('lost game')"
   ]
  },
  {
   "cell_type": "code",
   "execution_count": null,
   "id": "9818379b",
   "metadata": {},
   "outputs": [],
   "source": [
    "### initial list\n",
    "list=['','o','']\n",
    "\n",
    "# shuffle list\n",
    "shuffle_game = shuffle_list(list)\n",
    "print(list)\n",
    "\n",
    "# player input\n",
    "player_choice = player_guess()\n",
    "print(player_choice)\n",
    "\n",
    "\n",
    "# check input vs shuffle list\n",
    "\n",
    "result = check_game(player_choice,shuffle_game)\n",
    "result\n"
   ]
  },
  {
   "cell_type": "code",
   "execution_count": null,
   "id": "a5ac67ab",
   "metadata": {},
   "outputs": [],
   "source": [
    "list(range(0,11,2))"
   ]
  },
  {
   "cell_type": "code",
   "execution_count": null,
   "id": "927dc9e5",
   "metadata": {},
   "outputs": [],
   "source": [
    "even(range(0,11,2))"
   ]
  },
  {
   "cell_type": "code",
   "execution_count": null,
   "id": "0d9d24fb",
   "metadata": {},
   "outputs": [],
   "source": [
    "list=[x for x in range(2,50) if x%3==0]\n",
    "list"
   ]
  },
  {
   "cell_type": "code",
   "execution_count": null,
   "id": "40c74f57",
   "metadata": {},
   "outputs": [],
   "source": [
    "st='print every word in this sentence that has an even number of letters'\n",
    "st.split()\n",
    "for word in st.split():\n",
    "    if len(word)%2==0:\n",
    "        print(f'{word} is even')\n",
    "        "
   ]
  },
  {
   "cell_type": "code",
   "execution_count": null,
   "id": "6078a7d3",
   "metadata": {},
   "outputs": [],
   "source": [
    "numlist=[]\n",
    "numlist(range(1,101))"
   ]
  },
  {
   "cell_type": "code",
   "execution_count": null,
   "id": "599833ca",
   "metadata": {},
   "outputs": [],
   "source": [
    "for n in range(1,101):\n",
    "    if n%15==0: #and n%5==0:\n",
    "        print(f'{n} is fizzbuzz')\n",
    "    elif n%3==0:\n",
    "        print(f'{n} is fizz')\n",
    "    elif n%5==0:\n",
    "        print(f'{n} + buzz')  #cant concatenate in f literal\n",
    "    else:\n",
    "        print(n)"
   ]
  },
  {
   "cell_type": "code",
   "execution_count": null,
   "id": "a6b527e1",
   "metadata": {},
   "outputs": [],
   "source": [
    "st='print every word in this sentence that has an even number of letters'\n",
    "[word[0] for word in st.split() if len(word)%2==0]"
   ]
  },
  {
   "cell_type": "code",
   "execution_count": null,
   "id": "b733524b",
   "metadata": {},
   "outputs": [],
   "source": [
    "def myfunc(name):\n",
    "    print('hello' '\\t' + name)"
   ]
  },
  {
   "cell_type": "code",
   "execution_count": null,
   "id": "0f8c5915",
   "metadata": {},
   "outputs": [],
   "source": [
    "myfunc('jose')"
   ]
  },
  {
   "cell_type": "code",
   "execution_count": null,
   "id": "15cede11",
   "metadata": {},
   "outputs": [],
   "source": [
    "def myfunc(bool):\n",
    "    if bool==True:\n",
    "        return 'hello'\n",
    " #   else:\n",
    "  #      return 'bye'"
   ]
  },
  {
   "cell_type": "code",
   "execution_count": null,
   "id": "b63ef466",
   "metadata": {},
   "outputs": [],
   "source": [
    "myfunc(True)"
   ]
  },
  {
   "cell_type": "code",
   "execution_count": null,
   "id": "3da6cdfd",
   "metadata": {},
   "outputs": [],
   "source": [
    "def myfunc(x):\n",
    "    if x == True:\n",
    "        # print('Hello')   #bool no quuotes\n",
    "        return 'Hello'\n",
    "    elif x == False:\n",
    "        # print('Goodbye')\n",
    "        return 'Goodbye'"
   ]
  },
  {
   "cell_type": "code",
   "execution_count": null,
   "id": "fc0923a7",
   "metadata": {},
   "outputs": [],
   "source": [
    "myfunc(True)"
   ]
  },
  {
   "cell_type": "code",
   "execution_count": null,
   "id": "cf80c996",
   "metadata": {},
   "outputs": [],
   "source": [
    "def myfunc(x,y,z):\n",
    "    if z==True:\n",
    "        return y\n",
    "    elif z==False:\n",
    "        return x\n",
    "    "
   ]
  },
  {
   "cell_type": "code",
   "execution_count": null,
   "id": "4334f147",
   "metadata": {},
   "outputs": [],
   "source": [
    "myfunc(1,2,False)"
   ]
  },
  {
   "cell_type": "code",
   "execution_count": null,
   "id": "32788126",
   "metadata": {},
   "outputs": [],
   "source": [
    "def myfunc(a,b):\n",
    "    return int(sum) = a+b"
   ]
  },
  {
   "cell_type": "code",
   "execution_count": null,
   "id": "6beedbdf",
   "metadata": {},
   "outputs": [],
   "source": [
    "myfunc(2,4)"
   ]
  },
  {
   "cell_type": "code",
   "execution_count": null,
   "id": "5105145c",
   "metadata": {},
   "outputs": [],
   "source": [
    "a=b"
   ]
  },
  {
   "cell_type": "code",
   "execution_count": null,
   "id": "8a35bf92",
   "metadata": {},
   "outputs": [],
   "source": [
    "b='7'\n",
    "a==b"
   ]
  },
  {
   "cell_type": "code",
   "execution_count": null,
   "id": "1e0891a5",
   "metadata": {},
   "outputs": [],
   "source": [
    "a"
   ]
  },
  {
   "cell_type": "code",
   "execution_count": null,
   "id": "f274e9b6",
   "metadata": {},
   "outputs": [],
   "source": [
    "def add(*args):\n",
    "    return sum(args)"
   ]
  },
  {
   "cell_type": "code",
   "execution_count": null,
   "id": "2750c2dc",
   "metadata": {},
   "outputs": [],
   "source": [
    "add(2,4,5)"
   ]
  },
  {
   "cell_type": "code",
   "execution_count": null,
   "id": "88752142",
   "metadata": {},
   "outputs": [],
   "source": [
    "\n",
    "def myfunc(*args):\n",
    "    list=[]\n",
    "    \n",
    "    for num in args:\n",
    "       \n",
    "      \n",
    "        if num%2==0:\n",
    "            list.append(num)\n",
    "    print(list)\n",
    "        "
   ]
  },
  {
   "cell_type": "code",
   "execution_count": null,
   "id": "4725ff0a",
   "metadata": {},
   "outputs": [],
   "source": [
    "\n"
   ]
  },
  {
   "cell_type": "code",
   "execution_count": null,
   "id": "819ca751",
   "metadata": {},
   "outputs": [],
   "source": [
    "myfunc(9,100)\n"
   ]
  },
  {
   "cell_type": "code",
   "execution_count": null,
   "id": "589fc81f",
   "metadata": {},
   "outputs": [],
   "source": [
    "myfunc(9,10)"
   ]
  },
  {
   "cell_type": "code",
   "execution_count": null,
   "id": "98af79be",
   "metadata": {},
   "outputs": [],
   "source": [
    "def myfunc(**kwargs):\n",
    "    print(kwargs)"
   ]
  },
  {
   "cell_type": "code",
   "execution_count": null,
   "id": "1f09d687",
   "metadata": {},
   "outputs": [],
   "source": [
    "myfunc(sim=100)"
   ]
  },
  {
   "cell_type": "code",
   "execution_count": null,
   "id": "e9c5b118",
   "metadata": {},
   "outputs": [],
   "source": [
    "def myfunc(str):\n",
    "    s=''\n",
    "    for n in range(len(str)):\n",
    "        if n%2==0:\n",
    "            s=s+str[n].upper()\n",
    "            \n",
    "        else:\n",
    "            pass\n",
    "    return s"
   ]
  },
  {
   "cell_type": "code",
   "execution_count": null,
   "id": "897a3967",
   "metadata": {},
   "outputs": [],
   "source": [
    "myfunc('eat')"
   ]
  },
  {
   "cell_type": "code",
   "execution_count": null,
   "id": "a8bc6ea6",
   "metadata": {},
   "outputs": [],
   "source": []
  },
  {
   "cell_type": "code",
   "execution_count": null,
   "id": "07df5b69",
   "metadata": {},
   "outputs": [],
   "source": [
    "x='sim'\n",
    "x.upper(0)"
   ]
  },
  {
   "cell_type": "code",
   "execution_count": null,
   "id": "47178aed",
   "metadata": {},
   "outputs": [],
   "source": [
    "def myfunc(name):\n",
    "    print('hello {}'.format(name))"
   ]
  },
  {
   "cell_type": "code",
   "execution_count": null,
   "id": "9dbc4d08",
   "metadata": {},
   "outputs": [],
   "source": [
    "myfunc('jose')"
   ]
  },
  {
   "cell_type": "code",
   "execution_count": null,
   "id": "f44063f8",
   "metadata": {},
   "outputs": [],
   "source": [
    "names=['sim','dim','hum']\n",
    "list(map(lambda x:x[-2],names))\n"
   ]
  },
  {
   "cell_type": "code",
   "execution_count": null,
   "id": "6d86d76c",
   "metadata": {},
   "outputs": [],
   "source": [
    "nums=[1,2,3]\n",
    "num=[4,5,6]\n",
    "list(map(lambda n:n**3,nums))"
   ]
  },
  {
   "cell_type": "code",
   "execution_count": null,
   "id": "3d0049a1",
   "metadata": {},
   "outputs": [],
   "source": [
    "list(filter(lambda n:n%2==0,nums))"
   ]
  },
  {
   "cell_type": "code",
   "execution_count": null,
   "id": "a9519d8b",
   "metadata": {},
   "outputs": [],
   "source": [
    "list(map(lambda n,m:n+m,nums,num))"
   ]
  },
  {
   "cell_type": "code",
   "execution_count": null,
   "id": "88eaf157",
   "metadata": {},
   "outputs": [],
   "source": [
    "def square(n):return n**2"
   ]
  },
  {
   "cell_type": "code",
   "execution_count": null,
   "id": "70a9dc02",
   "metadata": {},
   "outputs": [],
   "source": [
    "square(6)\n"
   ]
  },
  {
   "cell_type": "code",
   "execution_count": null,
   "id": "7f7dce42",
   "metadata": {},
   "outputs": [],
   "source": [
    "\n",
    "s"
   ]
  },
  {
   "cell_type": "code",
   "execution_count": null,
   "id": "912d6a45",
   "metadata": {},
   "outputs": [],
   "source": [
    "# functions exercies wasrmup\n"
   ]
  },
  {
   "cell_type": "code",
   "execution_count": null,
   "id": "12c1e5f2",
   "metadata": {},
   "outputs": [],
   "source": [
    "def less_num(a,b):\n",
    "    if a%2==0 and b%2==0:\n",
    "        return min(a,b)\n",
    "    else:\n",
    "        return max(a,b)\n"
   ]
  },
  {
   "cell_type": "code",
   "execution_count": null,
   "id": "371384ae",
   "metadata": {},
   "outputs": [],
   "source": [
    "less_num(1,7)"
   ]
  },
  {
   "cell_type": "code",
   "execution_count": null,
   "id": "9fd6228d",
   "metadata": {},
   "outputs": [],
   "source": [
    "def letter_words(str):\n",
    "    list= str.split()\n",
    "    if list[0][0]==list[1][0]:\n",
    "        return True\n",
    "    else:\n",
    "        return False"
   ]
  },
  {
   "cell_type": "code",
   "execution_count": null,
   "id": "5850938c",
   "metadata": {},
   "outputs": [],
   "source": [
    "letter_words('is iappy')"
   ]
  },
  {
   "cell_type": "code",
   "execution_count": null,
   "id": "e38be53b",
   "metadata": {},
   "outputs": [],
   "source": [
    "def sum_20(a,b):\n",
    "    if a+b==20 or a==20 or b==20:   #return a+b==20 or a==20 or b==20  # no need of if and return direct ga retun works\n",
    "        \n",
    "        return True\n",
    "    else:\n",
    "        return False"
   ]
  },
  {
   "cell_type": "markdown",
   "id": "6a0571ec",
   "metadata": {},
   "source": []
  },
  {
   "cell_type": "code",
   "execution_count": null,
   "id": "5207030f",
   "metadata": {},
   "outputs": [],
   "source": [
    "sum_20(2,20)"
   ]
  },
  {
   "cell_type": "code",
   "execution_count": null,
   "id": "4c1a42b3",
   "metadata": {},
   "outputs": [],
   "source": [
    "def letter_word(str):\n",
    "    #for n in str.split():\n",
    "    n=str.split()\n",
    "    if n[0][0]==n[1][0]: # wrong as n takes the value 0 ie firzt word forst \n",
    "        return True\n",
    "    else:\n",
    "        return False"
   ]
  },
  {
   "cell_type": "code",
   "execution_count": null,
   "id": "570795f4",
   "metadata": {},
   "outputs": [],
   "source": [
    "letter_word('i im')"
   ]
  },
  {
   "cell_type": "code",
   "execution_count": null,
   "id": "795c0a02",
   "metadata": {},
   "outputs": [],
   "source": [
    "name='sim'\n",
    "n=name.capitalize()"
   ]
  },
  {
   "cell_type": "code",
   "execution_count": null,
   "id": "e7c5efa6",
   "metadata": {},
   "outputs": [],
   "source": [
    "'is'.join(['simmi','good'])"
   ]
  },
  {
   "cell_type": "code",
   "execution_count": null,
   "id": "05982f0c",
   "metadata": {},
   "outputs": [],
   "source": [
    "name"
   ]
  },
  {
   "cell_type": "code",
   "execution_count": null,
   "id": "801b9e9a",
   "metadata": {},
   "outputs": [],
   "source": []
  },
  {
   "cell_type": "code",
   "execution_count": null,
   "id": "132f609d",
   "metadata": {},
   "outputs": [],
   "source": [
    "n"
   ]
  },
  {
   "cell_type": "code",
   "execution_count": null,
   "id": "cf44a5c7",
   "metadata": {},
   "outputs": [],
   "source": [
    "'simmi'.split()"
   ]
  },
  {
   "cell_type": "code",
   "execution_count": null,
   "id": "1acc8e36",
   "metadata": {},
   "outputs": [],
   "source": [
    "'simmi'.[4]"
   ]
  },
  {
   "cell_type": "code",
   "execution_count": null,
   "id": "0166e2bb",
   "metadata": {},
   "outputs": [],
   "source": [
    "n[1]\n",
    "n[1].capitalize()"
   ]
  },
  {
   "cell_type": "code",
   "execution_count": null,
   "id": "ef23fae3",
   "metadata": {},
   "outputs": [],
   "source": [
    "def capital(str):\n",
    "    str1=str[0:3]  # if len(str) > 3\n",
    "    print(str1)    # return str[:3].captilazie() + str[3:].capitalize()\n",
    "    str2=str[3:]\n",
    "    print(str2)\n",
    "    str_final=str1.capitalize() + str2.capitalize()\n",
    "    return str_final"
   ]
  },
  {
   "cell_type": "code",
   "execution_count": null,
   "id": "7456d075",
   "metadata": {},
   "outputs": [],
   "source": [
    "capital('macdonald')"
   ]
  },
  {
   "cell_type": "code",
   "execution_count": null,
   "id": "6086b41a",
   "metadata": {},
   "outputs": [],
   "source": [
    "def sent(str):\n",
    "    list=str.split()    # return ' '.join(str.split()[::-1])\n",
    "    l=list[::-1]\n",
    "    return  \" \".join(l)\n",
    "    \n",
    "    \n",
    "   \n",
    "    "
   ]
  },
  {
   "cell_type": "code",
   "execution_count": null,
   "id": "d0cb6a45",
   "metadata": {},
   "outputs": [],
   "source": [
    "sent('i am happy')\n"
   ]
  },
  {
   "cell_type": "code",
   "execution_count": null,
   "id": "cc81a4d2",
   "metadata": {},
   "outputs": [],
   "source": [
    "def almost_there(n):\n",
    "    if 90<n<110 or 190<n<210:    #return (abs(100-n)<=10)\n",
    "        return True\n",
    "    else:\n",
    "        return False"
   ]
  },
  {
   "cell_type": "markdown",
   "id": "2305ed4b",
   "metadata": {},
   "source": []
  },
  {
   "cell_type": "code",
   "execution_count": null,
   "id": "1f267076",
   "metadata": {},
   "outputs": [],
   "source": [
    "almost_there(199)"
   ]
  },
  {
   "cell_type": "code",
   "execution_count": null,
   "id": "db3d174c",
   "metadata": {},
   "outputs": [],
   "source": [
    "def find_33(l):\n",
    "    for i in range(len(l)):\n",
    "        print(i)\n",
    "        print(l[i:i+2])\n",
    "        if l[i:i+2]==[3,3]:\n",
    "            \n",
    "            return True\n",
    "    return False\n",
    "    \n",
    "            "
   ]
  },
  {
   "cell_type": "code",
   "execution_count": null,
   "id": "fc63a809",
   "metadata": {},
   "outputs": [],
   "source": [
    "find_33([1,1,3,1,3])"
   ]
  },
  {
   "cell_type": "code",
   "execution_count": null,
   "id": "c787c891",
   "metadata": {},
   "outputs": [],
   "source": [
    "def paper_doll(str):\n",
    "    for n in range(len(str)):\n",
    "        while n not in range(len(str)):\n",
    "             print(str[n]*3)"
   ]
  },
  {
   "cell_type": "code",
   "execution_count": null,
   "id": "49f2adb1",
   "metadata": {},
   "outputs": [],
   "source": [
    "paper_doll('sim')"
   ]
  },
  {
   "cell_type": "code",
   "execution_count": null,
   "id": "f9e12261",
   "metadata": {},
   "outputs": [],
   "source": [
    "def blackjack(list):\n",
    "    total = sum(list)\n",
    "    if total>21:            # total> 21 and 11 in list\n",
    "        for n in list:\n",
    "            if n%11==0:\n",
    "                return total-10\n",
    "            else:\n",
    "                return 'buzz'    \n",
    "    elif total<=21:\n",
    "        return total\n",
    "    "
   ]
  },
  {
   "cell_type": "code",
   "execution_count": null,
   "id": "42fa748a",
   "metadata": {},
   "outputs": [],
   "source": [
    "blackjack([9,9,9])"
   ]
  },
  {
   "cell_type": "code",
   "execution_count": null,
   "id": "1a13ff19",
   "metadata": {},
   "outputs": [],
   "source": []
  },
  {
   "cell_type": "code",
   "execution_count": null,
   "id": "aa0e3d01",
   "metadata": {},
   "outputs": [],
   "source": [
    "list=[1,2,3,4,5,6,7,8,9,10]\n",
    "total=0\n",
    "for n in list:\n",
    "    if n== from 6 to 9:\n",
    "        list.remove(n)\n",
    "    \n",
    "    else:\n",
    "        total=total+n\n",
    "        print(total)\n"
   ]
  },
  {
   "cell_type": "code",
   "execution_count": null,
   "id": "07ff99df",
   "metadata": {},
   "outputs": [],
   "source": [
    "list\n",
    "total"
   ]
  },
  {
   "cell_type": "code",
   "execution_count": null,
   "id": "7a22680d",
   "metadata": {},
   "outputs": [],
   "source": [
    "str='456789'\n",
    "l=str.split['6']\n",
    "print (l)"
   ]
  },
  {
   "cell_type": "code",
   "execution_count": null,
   "id": "d681060b",
   "metadata": {},
   "outputs": [],
   "source": [
    "if '007' in '123007894':\n",
    "    print('happy')\n",
    "    return 'happy'\n",
    " \n",
    "else:\n",
    "    print('sad')\n",
    "        "
   ]
  },
  {
   "cell_type": "code",
   "execution_count": null,
   "id": "2fea0385",
   "metadata": {},
   "outputs": [],
   "source": [
    "def spy_game(l):\n",
    "    list=\"\".join(l)\n",
    "    print(list)\n",
    "    if '007' in list:\n",
    "        return True\n",
    "    else:\n",
    "        return False"
   ]
  },
  {
   "cell_type": "code",
   "execution_count": null,
   "id": "12cdfcf2",
   "metadata": {},
   "outputs": [],
   "source": [
    "spy_game([1,2,3,0,0,7,8])"
   ]
  },
  {
   "cell_type": "code",
   "execution_count": null,
   "id": "0fd46426",
   "metadata": {},
   "outputs": [],
   "source": [
    "l=['1','2','3','0','0','7','4','3']\n",
    "list=\"\".join(l)\n",
    "list"
   ]
  },
  {
   "cell_type": "code",
   "execution_count": null,
   "id": "a4ac19a4",
   "metadata": {},
   "outputs": [],
   "source": [
    "if [0,0,7] in [1,2,3,0,0,7,8]:\n",
    "    print('True')\n",
    "else:\n",
    "    print('false')"
   ]
  },
  {
   "cell_type": "code",
   "execution_count": null,
   "id": "8b6ab4d2",
   "metadata": {},
   "outputs": [],
   "source": [
    "def thrice(str):\n",
    "    i=0                   \n",
    "    l=[]\n",
    "    x=0\n",
    "    for i in range(len(str)):\n",
    "        l[x:x+3]= (str[i]*3)\n",
    "        x=x+3\n",
    "    return ''.join(l)\n",
    "\n",
    " # for letter in str:\n",
    "# result += letter*3"
   ]
  },
  {
   "cell_type": "code",
   "execution_count": null,
   "id": "027cdef2",
   "metadata": {},
   "outputs": [],
   "source": [
    "thrice('sim')"
   ]
  },
  {
   "cell_type": "code",
   "execution_count": null,
   "id": "98a36854",
   "metadata": {},
   "outputs": [],
   "source": [
    "thrice('mississippi')"
   ]
  },
  {
   "cell_type": "code",
   "execution_count": null,
   "id": "c2aed81f",
   "metadata": {},
   "outputs": [],
   "source": [
    "''.join(['1','2','3'])"
   ]
  },
  {
   "cell_type": "code",
   "execution_count": null,
   "id": "70525869",
   "metadata": {},
   "outputs": [],
   "source": [
    "for n in 'simmi':\n",
    "    print (n)"
   ]
  },
  {
   "cell_type": "code",
   "execution_count": null,
   "id": "a4b21fea",
   "metadata": {},
   "outputs": [],
   "source": [
    "def vol(r):\n",
    "    volume = ((4/3)*22/7*(r**3))\n",
    "    return volume"
   ]
  },
  {
   "cell_type": "code",
   "execution_count": null,
   "id": "0e319578",
   "metadata": {},
   "outputs": [],
   "source": [
    "vol(2)"
   ]
  },
  {
   "cell_type": "code",
   "execution_count": null,
   "id": "2df17425",
   "metadata": {},
   "outputs": [],
   "source": [
    "def ran_check(n,a,b):\n",
    "    return a<=n<=b\n",
    "        "
   ]
  },
  {
   "cell_type": "code",
   "execution_count": null,
   "id": "8be3387b",
   "metadata": {},
   "outputs": [],
   "source": [
    "ran_check(15,2,7)"
   ]
  },
  {
   "cell_type": "code",
   "execution_count": null,
   "id": "5a1932cf",
   "metadata": {},
   "outputs": [],
   "source": [
    "'IL'.isupper()"
   ]
  },
  {
   "cell_type": "code",
   "execution_count": null,
   "id": "cbf2d093",
   "metadata": {},
   "outputs": [],
   "source": [
    "def up_low(str):\n",
    "    u=0\n",
    "    l=0\n",
    "    for letter in str:\n",
    "        \n",
    "        if letter.islower()==True:\n",
    "            l+=1\n",
    "        elif letter.isupper()==True:\n",
    "            u+=1\n",
    "    print(f'uppercase word are {u}')\n",
    "    print(f'lowercase word are {l}')"
   ]
  },
  {
   "cell_type": "code",
   "execution_count": null,
   "id": "8327ab62",
   "metadata": {},
   "outputs": [],
   "source": [
    "up_low('Hello Mr. Rogers, how are you this fine Tuesday?')"
   ]
  },
  {
   "cell_type": "code",
   "execution_count": null,
   "id": "8d42faf4",
   "metadata": {},
   "outputs": [],
   "source": [
    "def uni_list(l):\n",
    "    my_uniq_list = set(l)\n",
    "    return my_uniq_list\n",
    "    "
   ]
  },
  {
   "cell_type": "code",
   "execution_count": null,
   "id": "e2616c24",
   "metadata": {},
   "outputs": [],
   "source": [
    "uni_list([1,2,3,1,2,3])"
   ]
  },
  {
   "cell_type": "code",
   "execution_count": null,
   "id": "44925ac4",
   "metadata": {},
   "outputs": [],
   "source": [
    "multiply([1,2])"
   ]
  },
  {
   "cell_type": "code",
   "execution_count": null,
   "id": "f3b924f4",
   "metadata": {},
   "outputs": [],
   "source": [
    "def mult(l):\n",
    "    mult=1\n",
    "    for num in l:\n",
    "        mult = mult*num\n",
    "    return mult"
   ]
  },
  {
   "cell_type": "code",
   "execution_count": null,
   "id": "297539b2",
   "metadata": {},
   "outputs": [],
   "source": [
    "mult([1,2,3,-4])\n"
   ]
  },
  {
   "cell_type": "code",
   "execution_count": null,
   "id": "61360d13",
   "metadata": {},
   "outputs": [],
   "source": [
    "def palindrome(str):\n",
    "    return str==str[::-1]"
   ]
  },
  {
   "cell_type": "code",
   "execution_count": null,
   "id": "7ec535c7",
   "metadata": {},
   "outputs": [],
   "source": [
    "palindrome('helleh')"
   ]
  },
  {
   "cell_type": "code",
   "execution_count": null,
   "id": "eeb96e2e",
   "metadata": {},
   "outputs": [],
   "source": [
    "def has_33(list):\n",
    "    for i in range(len(list)-1):\n",
    "        if list[i]==list[i+1]==3:\n",
    "            return True\n",
    "        else:\n",
    "            pass\n",
    "    return False\n",
    "\n",
    "        "
   ]
  },
  {
   "cell_type": "code",
   "execution_count": null,
   "id": "a074c64a",
   "metadata": {},
   "outputs": [],
   "source": [
    "has_33([1,1,3])"
   ]
  },
  {
   "cell_type": "code",
   "execution_count": null,
   "id": "448ac51a",
   "metadata": {},
   "outputs": [],
   "source": [
    "def jack_11(a,b,c):\n",
    "    total=a+b+c\n",
    "    if total<=21:\n",
    "        return total\n",
    "    elif total>21 and a==11 or b==11 or c==11:\n",
    "        return total-10\n",
    "    else:\n",
    "        return 'Buzz'"
   ]
  },
  {
   "cell_type": "code",
   "execution_count": null,
   "id": "ec74fd4e",
   "metadata": {},
   "outputs": [],
   "source": [
    "jack_11(11,12,13)"
   ]
  },
  {
   "cell_type": "code",
   "execution_count": null,
   "id": "e8b5a28d",
   "metadata": {},
   "outputs": [],
   "source": [
    "def paper_doll(text):\n",
    "    result = ''\n",
    "    for char in text:\n",
    "        result += char * 3\n",
    "    return result"
   ]
  },
  {
   "cell_type": "code",
   "execution_count": null,
   "id": "c2db7971",
   "metadata": {},
   "outputs": [],
   "source": [
    "paper_doll('hello')"
   ]
  },
  {
   "cell_type": "code",
   "execution_count": null,
   "id": "d8743789",
   "metadata": {},
   "outputs": [],
   "source": [
    "def bond(list):\n",
    "    for i in range(len(list)-2):\n",
    "        if list[i:i+3]==[0,0,7]:\n",
    "            return True\n",
    "        \n",
    "    return False\n",
    "        "
   ]
  },
  {
   "cell_type": "code",
   "execution_count": null,
   "id": "1cb38520",
   "metadata": {},
   "outputs": [],
   "source": [
    "bond([1,0,7,0,7,3])"
   ]
  },
  {
   "cell_type": "code",
   "execution_count": null,
   "id": "e319e0b0",
   "metadata": {},
   "outputs": [],
   "source": [
    "x=[3,4,5]\n",
    "x.pop(2)\n",
    "x"
   ]
  },
  {
   "cell_type": "code",
   "execution_count": null,
   "id": "1b57ae06",
   "metadata": {},
   "outputs": [],
   "source": [
    "x=[3,4,5]\n",
    "x.remove(5)\n",
    "x"
   ]
  },
  {
   "cell_type": "code",
   "execution_count": null,
   "id": "2ee4f7cd",
   "metadata": {},
   "outputs": [],
   "source": [
    "def spy_game(list):\n",
    "    code=[0,0,7,'h']\n",
    "    for n in list:\n",
    "        if n==code[0]:\n",
    "            code.pop(0)\n",
    "    return len(code)==1"
   ]
  },
  {
   "cell_type": "code",
   "execution_count": null,
   "id": "7a9eccf2",
   "metadata": {},
   "outputs": [],
   "source": [
    "spy_game([1,2,4,0,7,5])"
   ]
  },
  {
   "cell_type": "code",
   "execution_count": null,
   "id": "dd7987b2",
   "metadata": {},
   "outputs": [],
   "source": [
    "primes\n"
   ]
  },
  {
   "cell_type": "code",
   "execution_count": null,
   "id": "f15c34e4",
   "metadata": {},
   "outputs": [],
   "source": [
    "2 in primes"
   ]
  },
  {
   "cell_type": "code",
   "execution_count": null,
   "id": "062ec3ab",
   "metadata": {},
   "outputs": [],
   "source": [
    "num=70\n",
    "for i in range(2,num-1):\n",
    "    if num%i == 0:\n",
    "        print('not priem')\n",
    "        break\n",
    "else:\n",
    "    print('Prime')\n"
   ]
  },
  {
   "cell_type": "code",
   "execution_count": null,
   "id": "d0d0ed78",
   "metadata": {},
   "outputs": [],
   "source": [
    "def primes(num):\n",
    "    list=[]\n",
    "    for i in range(2,num-1):\n",
    "        if num%i == 0:\n",
    "            print('not priem')\n",
    "            break\n",
    "        else:\n",
    "            list.append(i)\n",
    "            print('Prime')\n",
    "print(list)\n",
    "        \n",
    "\n"
   ]
  },
  {
   "cell_type": "code",
   "execution_count": null,
   "id": "7bee7c94",
   "metadata": {},
   "outputs": [],
   "source": [
    "primes(10)\n",
    "\n",
    "\n",
    "\n"
   ]
  },
  {
   "cell_type": "code",
   "execution_count": null,
   "id": "63424bde",
   "metadata": {},
   "outputs": [],
   "source": [
    "def count_primes(num):\n",
    "    primes=[2]\n",
    "    x=3\n",
    "    if num<=2:\n",
    "        return 0\n",
    "    while x<=num:\n",
    "        \n",
    "        for y in primes:\n",
    "            if x%y==0:\n",
    "                x+=2\n",
    "                break\n",
    "        else:\n",
    "            primes.append(x)\n",
    "            x=x+2\n",
    "    print(primes)\n",
    "    print(len(primes))"
   ]
  },
  {
   "cell_type": "code",
   "execution_count": null,
   "id": "5058cb85",
   "metadata": {},
   "outputs": [],
   "source": [
    "count_primes(10)"
   ]
  },
  {
   "cell_type": "code",
   "execution_count": null,
   "id": "b1a6ab74",
   "metadata": {},
   "outputs": [],
   "source": [
    "def check_even(num):\n",
    "    return num % 2 == 0\n"
   ]
  },
  {
   "cell_type": "code",
   "execution_count": null,
   "id": "a20f35a9",
   "metadata": {},
   "outputs": [],
   "source": [
    "nums=range(0,10)\n",
    "list(filter(check_even,nums))"
   ]
  },
  {
   "cell_type": "code",
   "execution_count": null,
   "id": "1713b51a",
   "metadata": {},
   "outputs": [],
   "source": [
    "list(map(check_even,nums))"
   ]
  },
  {
   "cell_type": "code",
   "execution_count": null,
   "id": "8377d76b",
   "metadata": {},
   "outputs": [],
   "source": [
    "lambda num: num ** 2"
   ]
  },
  {
   "cell_type": "code",
   "execution_count": null,
   "id": "be897939",
   "metadata": {},
   "outputs": [],
   "source": [
    "num=3\n",
    "result=lambda num: num ** 2\n",
    "result"
   ]
  },
  {
   "cell_type": "code",
   "execution_count": null,
   "id": "aaa78c5c",
   "metadata": {},
   "outputs": [],
   "source": [
    "\n",
    "my_nums=[3]\n",
    "list(map(lambda num: num ** 2, my_nums))"
   ]
  },
  {
   "cell_type": "code",
   "execution_count": null,
   "id": "7c597e8c",
   "metadata": {},
   "outputs": [],
   "source": [
    "list(map(chr, range(97, 123)))"
   ]
  },
  {
   "cell_type": "code",
   "execution_count": null,
   "id": "d4cabc85",
   "metadata": {},
   "outputs": [],
   "source": [
    "list(map(chr, range(ord('a'), ord('z')+1)))"
   ]
  },
  {
   "cell_type": "code",
   "execution_count": null,
   "id": "4cb4d148",
   "metadata": {},
   "outputs": [],
   "source": [
    "import string \n",
    "alphabet=string.ascii_lowercase\n",
    "alphaset=set(alphabet)\n",
    "alphaset"
   ]
  },
  {
   "cell_type": "code",
   "execution_count": null,
   "id": "c404d595",
   "metadata": {},
   "outputs": [],
   "source": [
    "print(\\n*100)\n"
   ]
  },
  {
   "cell_type": "code",
   "execution_count": null,
   "id": "84c049d9",
   "metadata": {},
   "outputs": [],
   "source": [
    "# TIC TAC TOE \n"
   ]
  },
  {
   "cell_type": "code",
   "execution_count": null,
   "id": "9302fcb3",
   "metadata": {},
   "outputs": [],
   "source": [
    "# Board layout\n",
    "def board_layout():\n",
    "    board = ['','','','','','','','','']\n",
    "    "
   ]
  },
  {
   "cell_type": "code",
   "execution_count": null,
   "id": "dbb23e8d",
   "metadata": {},
   "outputs": [],
   "source": [
    "def player_input():\n",
    "    marker=''\n",
    "    position=''\n",
    "    while marker not in ['x','o']:\n",
    "        marker=input(\"Player Please choose your marker from 'x' or 'o': \")\n",
    "        \n",
    "    while position not in range(0,9):\n",
    "        position=int(input(\"Player Please choose your position from 0-9: \"))\n",
    "    return marker,position\n",
    "        "
   ]
  },
  {
   "cell_type": "code",
   "execution_count": null,
   "id": "7edc330c",
   "metadata": {},
   "outputs": [],
   "source": [
    "player_input()"
   ]
  },
  {
   "cell_type": "code",
   "execution_count": null,
   "id": "ec97766f",
   "metadata": {},
   "outputs": [],
   "source": [
    "def place_marker(board,marker,position):\n",
    "    print(board + marker + position)\n",
    "    board[position]=marker\n",
    "    "
   ]
  },
  {
   "cell_type": "code",
   "execution_count": null,
   "id": "7039666e",
   "metadata": {},
   "outputs": [],
   "source": [
    "board=board_layout()\n",
    "marker,position=player_input()\n",
    "place_marker(board,marker,position)"
   ]
  },
  {
   "cell_type": "code",
   "execution_count": null,
   "id": "dfdca808",
   "metadata": {},
   "outputs": [],
   "source": []
  },
  {
   "cell_type": "code",
   "execution_count": null,
   "id": "8a121764",
   "metadata": {},
   "outputs": [],
   "source": [
    "def update(x):\n",
    "    print('x. ',x)\n",
    "    x=8\n",
    "    print('x  ', x)\n",
    "\n",
    "a=10\n",
    "update(a)\n",
    "print('a ', a)"
   ]
  },
  {
   "cell_type": "code",
   "execution_count": null,
   "id": "6bff583e",
   "metadata": {},
   "outputs": [],
   "source": [
    "update(a)"
   ]
  },
  {
   "cell_type": "code",
   "execution_count": null,
   "id": "c151b518",
   "metadata": {},
   "outputs": [],
   "source": [
    "global a\n",
    "x=globals()['a']"
   ]
  },
  {
   "cell_type": "code",
   "execution_count": null,
   "id": "5b9319ab",
   "metadata": {},
   "outputs": [],
   "source": [
    "x"
   ]
  },
  {
   "cell_type": "code",
   "execution_count": null,
   "id": "6c68fc46",
   "metadata": {},
   "outputs": [],
   "source": [
    "# fibonacci series"
   ]
  },
  {
   "cell_type": "code",
   "execution_count": null,
   "id": "c4dff376",
   "metadata": {},
   "outputs": [],
   "source": [
    "def fib(n):\n",
    "    \n",
    "    if n==1:\n",
    "        print('fib=[0]')\n",
    "    \n",
    "    fib=[0,1]\n",
    "    if n>1:\n",
    "        for i in range(2,n):\n",
    "            x=fib[i-1]+fib[i-2]\n",
    "            fib.append(x)\n",
    "        print(fib)"
   ]
  },
  {
   "cell_type": "code",
   "execution_count": null,
   "id": "1b59e333",
   "metadata": {},
   "outputs": [],
   "source": [
    "fib(5)"
   ]
  },
  {
   "cell_type": "code",
   "execution_count": null,
   "id": "54add45d",
   "metadata": {},
   "outputs": [],
   "source": [
    "#factorial\n"
   ]
  },
  {
   "cell_type": "code",
   "execution_count": null,
   "id": "5bc10329",
   "metadata": {},
   "outputs": [],
   "source": [
    "def fact(n):\n",
    "    \n",
    "    if n==0:\n",
    "        print('0!=1')\n",
    "    \n",
    "    else:\n",
    "        temp=1\n",
    "        for i in list(range(1,n+1)):\n",
    "            temp=temp*i\n",
    "        print(temp)\n",
    "    "
   ]
  },
  {
   "cell_type": "code",
   "execution_count": null,
   "id": "1a5d688d",
   "metadata": {},
   "outputs": [],
   "source": [
    "fact(4)"
   ]
  },
  {
   "cell_type": "code",
   "execution_count": null,
   "id": "bc6fa3a3",
   "metadata": {},
   "outputs": [],
   "source": [
    "#recursion"
   ]
  },
  {
   "cell_type": "code",
   "execution_count": null,
   "id": "ce5bd1f1",
   "metadata": {},
   "outputs": [],
   "source": [
    "def greet():\n",
    "    print('hello')\n",
    "    #greet()"
   ]
  },
  {
   "cell_type": "code",
   "execution_count": null,
   "id": "830cfe75",
   "metadata": {},
   "outputs": [],
   "source": [
    "greet()"
   ]
  },
  {
   "cell_type": "code",
   "execution_count": 17,
   "id": "40a30828",
   "metadata": {},
   "outputs": [],
   "source": [
    "import sys "
   ]
  },
  {
   "cell_type": "code",
   "execution_count": 18,
   "id": "410cede2",
   "metadata": {},
   "outputs": [
    {
     "data": {
      "text/plain": [
       "3000"
      ]
     },
     "execution_count": 18,
     "metadata": {},
     "output_type": "execute_result"
    }
   ],
   "source": [
    "sys.getrecursionlimit()"
   ]
  },
  {
   "cell_type": "code",
   "execution_count": 19,
   "id": "8ae2df00",
   "metadata": {},
   "outputs": [],
   "source": [
    "sys.setrecursionlimit(1000)"
   ]
  },
  {
   "cell_type": "code",
   "execution_count": 20,
   "id": "6adbb5ad",
   "metadata": {},
   "outputs": [],
   "source": [
    "def greet():\n",
    "    \n",
    "    print('hello')\n",
    "    #greet()"
   ]
  },
  {
   "cell_type": "code",
   "execution_count": 21,
   "id": "391dc5a3",
   "metadata": {},
   "outputs": [],
   "source": [
    "#factorial using recursion\n",
    "\n",
    "def fact(n):\n",
    "    \n",
    "    if n==0:\n",
    "        return 1\n",
    "    \n",
    "    return n*fact(n-1)"
   ]
  },
  {
   "cell_type": "code",
   "execution_count": 22,
   "id": "86358de1",
   "metadata": {},
   "outputs": [
    {
     "data": {
      "text/plain": [
       "24"
      ]
     },
     "execution_count": 22,
     "metadata": {},
     "output_type": "execute_result"
    }
   ],
   "source": [
    "fact(4)"
   ]
  },
  {
   "cell_type": "code",
   "execution_count": null,
   "id": "03cafeff",
   "metadata": {},
   "outputs": [],
   "source": [
    "#map filter reduce"
   ]
  },
  {
   "cell_type": "code",
   "execution_count": 33,
   "id": "8790d385",
   "metadata": {},
   "outputs": [
    {
     "name": "stdout",
     "output_type": "stream",
     "text": [
      "[2, 6, 8, 4, 6, 2]\n",
      "[4, 12, 16, 8, 12, 4]\n",
      "-48\n"
     ]
    }
   ],
   "source": [
    "\n",
    "from functools import reduce\n",
    "nums=[3,2,6,8,4,6,2,9]\n",
    "evens=list(filter(lambda a : a%2==0,nums))\n",
    "doubles=list(map(lambda a : a*2,evens))\n",
    "print(evens)\n",
    "print(doubles)\n",
    "sum=reduce(lambda a,b:a-b,doubles)\n",
    "print(sum)"
   ]
  },
  {
   "cell_type": "code",
   "execution_count": null,
   "id": "ba2846ec",
   "metadata": {},
   "outputs": [],
   "source": []
  },
  {
   "cell_type": "code",
   "execution_count": null,
   "id": "fbad6a2d",
   "metadata": {},
   "outputs": [],
   "source": []
  }
 ],
 "metadata": {
  "kernelspec": {
   "display_name": "Python 3 (ipykernel)",
   "language": "python",
   "name": "python3"
  },
  "language_info": {
   "codemirror_mode": {
    "name": "ipython",
    "version": 3
   },
   "file_extension": ".py",
   "mimetype": "text/x-python",
   "name": "python",
   "nbconvert_exporter": "python",
   "pygments_lexer": "ipython3",
   "version": "3.10.9"
  }
 },
 "nbformat": 4,
 "nbformat_minor": 5
}
